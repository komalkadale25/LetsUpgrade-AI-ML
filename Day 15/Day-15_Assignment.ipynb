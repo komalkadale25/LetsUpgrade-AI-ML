{
 "cells": [
  {
   "cell_type": "code",
   "execution_count": 18,
   "metadata": {
    "ExecuteTime": {
     "end_time": "2020-08-09T23:49:02.013868Z",
     "start_time": "2020-08-09T23:49:01.998244Z"
    }
   },
   "outputs": [],
   "source": [
    "import numpy as np"
   ]
  },
  {
   "cell_type": "markdown",
   "metadata": {},
   "source": [
    "# Create a 3x3x3 array with random values "
   ]
  },
  {
   "cell_type": "code",
   "execution_count": 19,
   "metadata": {
    "ExecuteTime": {
     "end_time": "2020-08-09T23:49:09.555985Z",
     "start_time": "2020-08-09T23:49:08.816277Z"
    }
   },
   "outputs": [
    {
     "data": {
      "text/plain": [
       "array([[[0.58014841, 0.27284043, 0.62789857],\n",
       "        [0.54054065, 0.43622638, 0.71238986],\n",
       "        [0.06360405, 0.21375704, 0.35462671]],\n",
       "\n",
       "       [[0.4812064 , 0.94262112, 0.39139706],\n",
       "        [0.61467718, 0.16972767, 0.68414803],\n",
       "        [0.63300981, 0.06011013, 0.59925081]],\n",
       "\n",
       "       [[0.76771923, 0.69605068, 0.35551922],\n",
       "        [0.38843621, 0.04705153, 0.94390688],\n",
       "        [0.44046705, 0.08277779, 0.16241793]]])"
      ]
     },
     "execution_count": 19,
     "metadata": {},
     "output_type": "execute_result"
    }
   ],
   "source": [
    "np.random.rand(3,3,3)"
   ]
  },
  {
   "cell_type": "markdown",
   "metadata": {},
   "source": [
    "# Create a 5x5 matrix with values 1,2,3,4 just below the diagonal"
   ]
  },
  {
   "cell_type": "code",
   "execution_count": 20,
   "metadata": {
    "ExecuteTime": {
     "end_time": "2020-08-09T23:50:38.215995Z",
     "start_time": "2020-08-09T23:50:38.162601Z"
    }
   },
   "outputs": [
    {
     "name": "stdout",
     "output_type": "stream",
     "text": [
      "[[0 0 0 0 0]\n",
      " [1 0 0 0 0]\n",
      " [0 2 0 0 0]\n",
      " [0 0 3 0 0]\n",
      " [0 0 0 4 0]]\n"
     ]
    }
   ],
   "source": [
    "p = np.diag(1+np.arange(4), k=-1)\n",
    "print(p)"
   ]
  },
  {
   "cell_type": "markdown",
   "metadata": {},
   "source": [
    "# Create a 8x8 matrix and fill it with a checkerboard pattern"
   ]
  },
  {
   "cell_type": "code",
   "execution_count": 21,
   "metadata": {
    "ExecuteTime": {
     "end_time": "2020-08-09T23:51:39.281363Z",
     "start_time": "2020-08-09T23:51:39.259220Z"
    }
   },
   "outputs": [
    {
     "name": "stdout",
     "output_type": "stream",
     "text": [
      "[[0 1 0 1 0 1 0 1]\n",
      " [1 0 1 0 1 0 1 0]\n",
      " [0 1 0 1 0 1 0 1]\n",
      " [1 0 1 0 1 0 1 0]\n",
      " [0 1 0 1 0 1 0 1]\n",
      " [1 0 1 0 1 0 1 0]\n",
      " [0 1 0 1 0 1 0 1]\n",
      " [1 0 1 0 1 0 1 0]]\n"
     ]
    }
   ],
   "source": [
    "q = np.tile(np.array([[0,1],[1,0]]), (4,4))\n",
    "print(q)"
   ]
  },
  {
   "cell_type": "markdown",
   "metadata": {},
   "source": [
    "# Normalize a 5x5 random matrix"
   ]
  },
  {
   "cell_type": "code",
   "execution_count": 22,
   "metadata": {
    "ExecuteTime": {
     "end_time": "2020-08-09T23:52:46.990450Z",
     "start_time": "2020-08-09T23:52:46.959218Z"
    }
   },
   "outputs": [
    {
     "name": "stdout",
     "output_type": "stream",
     "text": [
      "[[ 0.84494563 -0.38079518  1.26730523 -1.01797178  0.61752884]\n",
      " [-0.06978504  0.68360633  0.8572562  -1.91698609 -0.07817725]\n",
      " [-1.29266936 -0.76188083 -1.7159702   0.60551317 -0.73784469]\n",
      " [ 0.72954657  1.17353306  1.07206099  0.88917094 -1.76149267]\n",
      " [-0.62587231  0.7027135   1.45337859 -0.38688936 -0.15022427]]\n"
     ]
    }
   ],
   "source": [
    "arr = np.random.random((5,5))\n",
    "narr = (arr - np.mean(arr)) / (np.std(arr))\n",
    "print(narr)"
   ]
  },
  {
   "cell_type": "markdown",
   "metadata": {},
   "source": [
    "#  How to find common values between two arrays?"
   ]
  },
  {
   "cell_type": "code",
   "execution_count": 23,
   "metadata": {
    "ExecuteTime": {
     "end_time": "2020-08-09T23:53:47.810771Z",
     "start_time": "2020-08-09T23:53:47.710506Z"
    }
   },
   "outputs": [
    {
     "name": "stdout",
     "output_type": "stream",
     "text": [
      "[1 2 3 4 5 6 7 8 9]\n"
     ]
    }
   ],
   "source": [
    "a1 = np.random.randint(0,10,50)\n",
    "a2 = np.random.randint(0,10,50)\n",
    "print(np.intersect1d(a1,a2))"
   ]
  },
  {
   "cell_type": "markdown",
   "metadata": {},
   "source": [
    "# How to get the dates of yesterday, today and tomorrow?"
   ]
  },
  {
   "cell_type": "code",
   "execution_count": 24,
   "metadata": {
    "ExecuteTime": {
     "end_time": "2020-08-09T23:55:49.795039Z",
     "start_time": "2020-08-09T23:55:49.779416Z"
    }
   },
   "outputs": [
    {
     "name": "stdout",
     "output_type": "stream",
     "text": [
      "2020-09-05 2020-09-06 2020-09-07\n"
     ]
    }
   ],
   "source": [
    "yesterday = np.datetime64('today') - np.timedelta64(1)\n",
    "today     = np.datetime64('today')\n",
    "tomorrow  = np.datetime64('today') + np.timedelta64(1)\n",
    "print(yesterday, today, tomorrow)"
   ]
  },
  {
   "cell_type": "markdown",
   "metadata": {},
   "source": [
    "# Consider two random array A and B, check if they are equal"
   ]
  },
  {
   "cell_type": "code",
   "execution_count": 25,
   "metadata": {
    "ExecuteTime": {
     "end_time": "2020-08-09T23:56:53.678987Z",
     "start_time": "2020-08-09T23:56:53.663357Z"
    }
   },
   "outputs": [
    {
     "name": "stdout",
     "output_type": "stream",
     "text": [
      "False\n"
     ]
    }
   ],
   "source": [
    "a1 = np.random.randint(0,5,5)\n",
    "a2 = np.random.randint(0,5,5)\n",
    "print(np.array_equal(a1,a2))"
   ]
  },
  {
   "cell_type": "markdown",
   "metadata": {},
   "source": [
    "# Create random vector of size 10 and replace the maximum value by 0 "
   ]
  },
  {
   "cell_type": "code",
   "execution_count": 26,
   "metadata": {
    "ExecuteTime": {
     "end_time": "2020-08-09T23:57:48.660255Z",
     "start_time": "2020-08-09T23:57:48.606889Z"
    }
   },
   "outputs": [
    {
     "name": "stdout",
     "output_type": "stream",
     "text": [
      "[0.78871692 0.53167566 0.68319579 0.66413479 0.05429511 0.90629214\n",
      " 0.         0.25530253 0.02588268 0.18025004]\n"
     ]
    }
   ],
   "source": [
    "v = np.random.rand(10)\n",
    "v[v.argmax()] = 0\n",
    "print(v)"
   ]
  },
  {
   "cell_type": "markdown",
   "metadata": {},
   "source": [
    "# How to print all the values of an array?"
   ]
  },
  {
   "cell_type": "code",
   "execution_count": 27,
   "metadata": {
    "ExecuteTime": {
     "end_time": "2020-08-09T23:59:01.838988Z",
     "start_time": "2020-08-09T23:59:01.823361Z"
    }
   },
   "outputs": [
    {
     "name": "stdout",
     "output_type": "stream",
     "text": [
      "[[1. 1. 1. 1. 1.]\n",
      " [1. 1. 1. 1. 1.]\n",
      " [1. 1. 1. 1. 1.]\n",
      " [1. 1. 1. 1. 1.]\n",
      " [1. 1. 1. 1. 1.]]\n"
     ]
    }
   ],
   "source": [
    "arr = np.ones((5, 5))\n",
    "print(arr)"
   ]
  },
  {
   "cell_type": "markdown",
   "metadata": {},
   "source": [
    "# Subtract the mean of each row of a matrix"
   ]
  },
  {
   "cell_type": "code",
   "execution_count": 28,
   "metadata": {
    "ExecuteTime": {
     "end_time": "2020-08-10T00:01:15.366608Z",
     "start_time": "2020-08-10T00:01:15.344470Z"
    }
   },
   "outputs": [
    {
     "name": "stdout",
     "output_type": "stream",
     "text": [
      "before\n",
      " [[ 1.35147316 -0.41852647  0.43153402  1.36927245  0.19996561]\n",
      " [ 0.07996444 -0.94345631  1.51602109  0.12959748  0.79781265]\n",
      " [-2.39388903  0.39977295  0.27035473  1.08496014 -1.12014821]\n",
      " [-0.3975661  -0.2936526  -1.76636122  0.83355007  1.74586179]\n",
      " [-1.49081529  0.46991439  1.80935492  0.24203637 -0.16565048]]\n",
      "\n",
      "after\n",
      " [[ 0.7647294  -0.73451434  0.7833239   1.34490606  0.02699762]\n",
      " [-0.50677931 -1.25944418  1.86781097  0.1052311   0.62484466]\n",
      " [-2.98063278  0.08378508  0.62214461  1.06059375 -1.29311619]\n",
      " [-0.98430985 -0.60964046 -1.41457134  0.80918368  1.5728938 ]\n",
      " [-2.07755904  0.15392652  2.16114481  0.21766998 -0.33861846]]\n"
     ]
    }
   ],
   "source": [
    "arr = np.random.randn(5, 5)\n",
    "print(\"before\\n\", arr)\n",
    "arr = arr - np.mean(arr,axis=1)\n",
    "print(\"\\nafter\\n\", arr)"
   ]
  },
  {
   "cell_type": "markdown",
   "metadata": {},
   "source": [
    "# Consider a given vector, how to add 1 to each element indexed by a second vector (be careful with repeated indices)? "
   ]
  },
  {
   "cell_type": "code",
   "execution_count": 29,
   "metadata": {
    "ExecuteTime": {
     "end_time": "2020-08-10T00:03:59.132143Z",
     "start_time": "2020-08-10T00:03:59.116548Z"
    }
   },
   "outputs": [
    {
     "name": "stdout",
     "output_type": "stream",
     "text": [
      "[3 4 0 2 1 4 1 0 1 4]\n",
      "[7 0 5 5 4 7 2 7 2 5]\n"
     ]
    }
   ],
   "source": [
    "arr1= np.random.randint(0,5,10)\n",
    "print(arr1)\n",
    "arr2= np.random.randint(0,8,10)\n",
    "print (arr2)"
   ]
  },
  {
   "cell_type": "code",
   "execution_count": 30,
   "metadata": {
    "ExecuteTime": {
     "end_time": "2020-08-10T00:04:10.815737Z",
     "start_time": "2020-08-10T00:04:10.800115Z"
    }
   },
   "outputs": [
    {
     "name": "stdout",
     "output_type": "stream",
     "text": [
      "[4 4 2 2 2 7 1 3 1 4]\n"
     ]
    }
   ],
   "source": [
    "arr1 += np.bincount(arr2, minlength=len(arr1))\n",
    "print (arr1)"
   ]
  },
  {
   "cell_type": "markdown",
   "metadata": {},
   "source": [
    "# How to get the diagonal of a dot product?"
   ]
  },
  {
   "cell_type": "code",
   "execution_count": 31,
   "metadata": {
    "ExecuteTime": {
     "end_time": "2020-08-10T00:05:20.585014Z",
     "start_time": "2020-08-10T00:05:20.538143Z"
    }
   },
   "outputs": [
    {
     "name": "stdout",
     "output_type": "stream",
     "text": [
      "[[3 3 3]\n",
      " [2 2 1]\n",
      " [1 6 9]]\n",
      "[[2 6 4]\n",
      " [6 2 2]\n",
      " [6 7 5]]\n",
      "Diagonal of a dot product\n",
      "[42 23 61]\n"
     ]
    }
   ],
   "source": [
    "x = np.random.randint(0,10,(3,3))\n",
    "print(x)\n",
    "y = np.random.randint(0,10,(3,3))\n",
    "print(y)\n",
    "print(\"Diagonal of a dot product\")\n",
    "print (np.diag(np.dot(x,y)))"
   ]
  },
  {
   "cell_type": "markdown",
   "metadata": {},
   "source": [
    "# How to find the most frequent value in an array?"
   ]
  },
  {
   "cell_type": "code",
   "execution_count": 32,
   "metadata": {
    "ExecuteTime": {
     "end_time": "2020-08-10T00:05:54.936289Z",
     "start_time": "2020-08-10T00:05:54.920663Z"
    }
   },
   "outputs": [
    {
     "name": "stdout",
     "output_type": "stream",
     "text": [
      "[8 8 8 6 3 1 4 5 0 0 4 8 8 7 6 3 9 1 7 2 9 6 6 8 1 4 1 0 0 1]\n",
      "8\n"
     ]
    }
   ],
   "source": [
    "arr = np.random.randint(0,10,30)\n",
    "print(arr)\n",
    "print(np.bincount(arr).argmax())"
   ]
  },
  {
   "cell_type": "markdown",
   "metadata": {},
   "source": [
    "# How to get the n largest values of an array"
   ]
  },
  {
   "cell_type": "code",
   "execution_count": 33,
   "metadata": {
    "ExecuteTime": {
     "end_time": "2020-08-10T00:06:36.178587Z",
     "start_time": "2020-08-10T00:06:36.162962Z"
    }
   },
   "outputs": [
    {
     "data": {
      "text/plain": [
       "2"
      ]
     },
     "execution_count": 33,
     "metadata": {},
     "output_type": "execute_result"
    }
   ],
   "source": [
    "arr = np.random.randint(0,10,50)\n",
    "np.bincount(arr).argmax()"
   ]
  },
  {
   "cell_type": "markdown",
   "metadata": {},
   "source": [
    "# How to create a record array from a regular array?"
   ]
  },
  {
   "cell_type": "code",
   "execution_count": 34,
   "metadata": {
    "ExecuteTime": {
     "end_time": "2020-08-10T00:07:55.617930Z",
     "start_time": "2020-08-10T00:07:55.548912Z"
    }
   },
   "outputs": [
    {
     "name": "stdout",
     "output_type": "stream",
     "text": [
      "[(b'Hello', 123., 3) (b'World', 306., 2)]\n"
     ]
    }
   ],
   "source": [
    "x = np.array([(\"Hello\", 123, 3),\n",
    "              (\"World\", 306, 2)])\n",
    "rec = np.core.records.fromarrays(x.T,\n",
    "                               names='col1, col2, col3',\n",
    "                               formats = 'S8, f8, i8')\n",
    "\n",
    "print (rec)"
   ]
  },
  {
   "cell_type": "code",
   "execution_count": null,
   "metadata": {},
   "outputs": [],
   "source": []
  },
  {
   "cell_type": "code",
   "execution_count": null,
   "metadata": {},
   "outputs": [],
   "source": []
  },
  {
   "cell_type": "code",
   "execution_count": null,
   "metadata": {},
   "outputs": [],
   "source": []
  },
  {
   "cell_type": "code",
   "execution_count": null,
   "metadata": {},
   "outputs": [],
   "source": []
  },
  {
   "cell_type": "code",
   "execution_count": null,
   "metadata": {},
   "outputs": [],
   "source": []
  },
  {
   "cell_type": "code",
   "execution_count": null,
   "metadata": {},
   "outputs": [],
   "source": []
  },
  {
   "cell_type": "code",
   "execution_count": null,
   "metadata": {},
   "outputs": [],
   "source": []
  }
 ],
 "metadata": {
  "hide_input": false,
  "kernelspec": {
   "display_name": "Python 3",
   "language": "python",
   "name": "python3"
  },
  "language_info": {
   "codemirror_mode": {
    "name": "ipython",
    "version": 3
   },
   "file_extension": ".py",
   "mimetype": "text/x-python",
   "name": "python",
   "nbconvert_exporter": "python",
   "pygments_lexer": "ipython3",
   "version": "3.7.6"
  },
  "toc": {
   "base_numbering": 1,
   "nav_menu": {},
   "number_sections": true,
   "sideBar": true,
   "skip_h1_title": false,
   "title_cell": "Table of Contents",
   "title_sidebar": "Contents",
   "toc_cell": false,
   "toc_position": {},
   "toc_section_display": true,
   "toc_window_display": false
  },
  "varInspector": {
   "cols": {
    "lenName": 16,
    "lenType": 16,
    "lenVar": 40
   },
   "kernels_config": {
    "python": {
     "delete_cmd_postfix": "",
     "delete_cmd_prefix": "del ",
     "library": "var_list.py",
     "varRefreshCmd": "print(var_dic_list())"
    },
    "r": {
     "delete_cmd_postfix": ") ",
     "delete_cmd_prefix": "rm(",
     "library": "var_list.r",
     "varRefreshCmd": "cat(var_dic_list()) "
    }
   },
   "types_to_exclude": [
    "module",
    "function",
    "builtin_function_or_method",
    "instance",
    "_Feature"
   ],
   "window_display": false
  }
 },
 "nbformat": 4,
 "nbformat_minor": 4
}
