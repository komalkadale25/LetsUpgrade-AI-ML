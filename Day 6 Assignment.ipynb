{
 "cells": [
  {
   "cell_type": "markdown",
   "metadata": {},
   "source": [
    "**Q.1. Assuming that we have some email addresses in the \"username@companyname.com\" format, please write program to print the company name of a given email address. Both user names and company names are composed of letters only**\n"
   ]
  },
  {
   "cell_type": "code",
   "execution_count": 1,
   "metadata": {},
   "outputs": [
    {
     "name": "stdout",
     "output_type": "stream",
     "text": [
      "Enter your email address: john@google.com\n",
      "Company name is: google\n"
     ]
    }
   ],
   "source": [
    "email = input(\"Enter your email address: \")\n",
    "print(\"Company name is: \"+email.split(\"@\")[1].split(\".\")[0]+\"\")"
   ]
  },
  {
   "cell_type": "markdown",
   "metadata": {},
   "source": [
    "**Q.2. Write a program that accepts a comma-separated sequence of words as input and prints the words in a comma separated sequence after sorting them alphabetically.**\n"
   ]
  },
  {
   "cell_type": "code",
   "execution_count": 24,
   "metadata": {
    "scrolled": true
   },
   "outputs": [
    {
     "name": "stdout",
     "output_type": "stream",
     "text": [
      "Enter the words: without, hello, bag, world\n",
      "[' bag', ' hello', ' world', 'without']\n"
     ]
    }
   ],
   "source": [
    "word = input(\"Enter the words: \").split(\",\")\n",
    "word.sort()\n",
    "print(word)"
   ]
  },
  {
   "cell_type": "markdown",
   "metadata": {},
   "source": [
    "**Q.3. Create your own Jupyter Notebook for Sets.**\n"
   ]
  },
  {
   "cell_type": "code",
   "execution_count": 19,
   "metadata": {},
   "outputs": [
    {
     "name": "stdout",
     "output_type": "stream",
     "text": [
      "{'name', 'komal', 'is', 'my'}\n",
      "{'komal', 'is', 'my', 'kad', 'name'}\n",
      "{'is', 'my', 'kad', 'name'}\n",
      "{'is', 'my', 'name'}\n",
      "{'your', 'is', 'my', 'name'}\n",
      "set()\n"
     ]
    }
   ],
   "source": [
    "set = {\"my\", \"name\", \"is\", \"komal\"}\n",
    "print(set)\n",
    "set.add(\"kad\")\n",
    "print(set)\n",
    "set.pop()\n",
    "print(set)\n",
    "set.remove(\"kad\")\n",
    "print(set)\n",
    "set.update([\"your\",\"name\",\"is\"])\n",
    "print(set)\n",
    "set.clear()\n",
    "print(set)"
   ]
  },
  {
   "cell_type": "markdown",
   "metadata": {},
   "source": [
    "**Q.4. Given a list of n-1 numbers ranging from 1 to n, your task is to find the missing number. There are no duplicates.**\n"
   ]
  },
  {
   "cell_type": "code",
   "execution_count": 25,
   "metadata": {
    "scrolled": true
   },
   "outputs": [
    {
     "name": "stdout",
     "output_type": "stream",
     "text": [
      "Enter list of numbers 1 2 4 6 3 7 8\n",
      "5\n"
     ]
    }
   ],
   "source": [
    "num = input(\"Enter list of numbers \").split(\" \")\n",
    "for i in range(1,len(num)):\n",
    "    if str(i) not in num:\n",
    "        print(i)"
   ]
  },
  {
   "cell_type": "markdown",
   "metadata": {},
   "source": [
    "**Q.5. With a given list L, write a program to print this list L after removing all duplicate values with original order reserved.**\n"
   ]
  },
  {
   "cell_type": "code",
   "execution_count": 26,
   "metadata": {},
   "outputs": [
    {
     "name": "stdout",
     "output_type": "stream",
     "text": [
      "Enter list of numbers: 12 24 35 24 88 120 155 88 120 155\n",
      "['12', '24', '35', '88', '120', '155']\n"
     ]
    }
   ],
   "source": [
    "l = input('Enter list of numbers: ').split(\" \")\n",
    "print(list(dict.fromkeys(l)))"
   ]
  },
  {
   "cell_type": "code",
   "execution_count": null,
   "metadata": {},
   "outputs": [],
   "source": []
  },
  {
   "cell_type": "code",
   "execution_count": null,
   "metadata": {},
   "outputs": [],
   "source": []
  },
  {
   "cell_type": "code",
   "execution_count": null,
   "metadata": {},
   "outputs": [],
   "source": []
  },
  {
   "cell_type": "code",
   "execution_count": null,
   "metadata": {},
   "outputs": [],
   "source": []
  },
  {
   "cell_type": "code",
   "execution_count": null,
   "metadata": {},
   "outputs": [],
   "source": []
  },
  {
   "cell_type": "code",
   "execution_count": null,
   "metadata": {},
   "outputs": [],
   "source": []
  }
 ],
 "metadata": {
  "kernelspec": {
   "display_name": "Python 3",
   "language": "python",
   "name": "python3"
  },
  "language_info": {
   "codemirror_mode": {
    "name": "ipython",
    "version": 3
   },
   "file_extension": ".py",
   "mimetype": "text/x-python",
   "name": "python",
   "nbconvert_exporter": "python",
   "pygments_lexer": "ipython3",
   "version": "3.7.6"
  }
 },
 "nbformat": 4,
 "nbformat_minor": 4
}
