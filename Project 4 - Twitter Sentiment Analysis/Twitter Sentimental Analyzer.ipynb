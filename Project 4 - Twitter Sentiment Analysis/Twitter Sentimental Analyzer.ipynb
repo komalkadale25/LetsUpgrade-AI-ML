{
 "cells": [
  {
   "cell_type": "markdown",
   "metadata": {},
   "source": [
    "### We will colect text data using Twitter API."
   ]
  },
  {
   "cell_type": "code",
   "execution_count": 1,
   "metadata": {},
   "outputs": [
    {
     "name": "stdout",
     "output_type": "stream",
     "text": [
      "Requirement already satisfied: tweepy in c:\\users\\komal\\anaconda3\\lib\\site-packages (3.9.0)\n",
      "Requirement already satisfied: requests[socks]>=2.11.1 in c:\\users\\komal\\anaconda3\\lib\\site-packages (from tweepy) (2.22.0)\n",
      "Requirement already satisfied: requests-oauthlib>=0.7.0 in c:\\users\\komal\\anaconda3\\lib\\site-packages (from tweepy) (1.3.0)\n",
      "Requirement already satisfied: six>=1.10.0 in c:\\users\\komal\\anaconda3\\lib\\site-packages (from tweepy) (1.14.0)\n",
      "Requirement already satisfied: idna<2.9,>=2.5 in c:\\users\\komal\\anaconda3\\lib\\site-packages (from requests[socks]>=2.11.1->tweepy) (2.8)\n",
      "Requirement already satisfied: urllib3!=1.25.0,!=1.25.1,<1.26,>=1.21.1 in c:\\users\\komal\\anaconda3\\lib\\site-packages (from requests[socks]>=2.11.1->tweepy) (1.25.8)\n",
      "Requirement already satisfied: certifi>=2017.4.17 in c:\\users\\komal\\anaconda3\\lib\\site-packages (from requests[socks]>=2.11.1->tweepy) (2019.11.28)\n",
      "Requirement already satisfied: chardet<3.1.0,>=3.0.2 in c:\\users\\komal\\anaconda3\\lib\\site-packages (from requests[socks]>=2.11.1->tweepy) (3.0.4)\n",
      "Requirement already satisfied: PySocks!=1.5.7,>=1.5.6; extra == \"socks\" in c:\\users\\komal\\anaconda3\\lib\\site-packages (from requests[socks]>=2.11.1->tweepy) (1.7.1)\n",
      "Requirement already satisfied: oauthlib>=3.0.0 in c:\\users\\komal\\anaconda3\\lib\\site-packages (from requests-oauthlib>=0.7.0->tweepy) (3.1.0)\n"
     ]
    }
   ],
   "source": [
    "# communicate with twitter api\n",
    "!pip install tweepy"
   ]
  },
  {
   "cell_type": "code",
   "execution_count": 2,
   "metadata": {},
   "outputs": [
    {
     "name": "stdout",
     "output_type": "stream",
     "text": [
      "Requirement already satisfied: openpyxl in c:\\users\\komal\\anaconda3\\lib\\site-packages (3.0.3)\n",
      "Requirement already satisfied: jdcal in c:\\users\\komal\\anaconda3\\lib\\site-packages (from openpyxl) (1.4.1)\n",
      "Requirement already satisfied: et-xmlfile in c:\\users\\komal\\anaconda3\\lib\\site-packages (from openpyxl) (1.0.1)\n"
     ]
    }
   ],
   "source": [
    "# read or write excell file\n",
    "!pip install openpyxl     "
   ]
  },
  {
   "cell_type": "code",
   "execution_count": 3,
   "metadata": {},
   "outputs": [],
   "source": [
    "import numpy as np\n",
    "import pandas as pd\n",
    "import tweepy\n",
    "import json\n",
    "from tweepy import OAuthHandler  # communicate with twitter"
   ]
  },
  {
   "cell_type": "code",
   "execution_count": 4,
   "metadata": {},
   "outputs": [],
   "source": [
    "consumer_key = \"cEQU7HP8sIz5q598uA65g9ooa\"\n",
    "consumer_secret = \"GLPgPqHoKyvQTNC5m0Fyd7JaSDE8ONPFKOIjB1dpBuWWuFhVo1\"\n",
    "access_token = \"1321518103482695680-7WmynEdqVf8ozt0qYteptjpHejBs30\"\n",
    "access_token_secret = \"qHTjoZdsvsAOYDAED7PahuMuNWyrZL0hquUFnSUK4HwMW\""
   ]
  },
  {
   "cell_type": "code",
   "execution_count": 5,
   "metadata": {},
   "outputs": [],
   "source": [
    "auth = tweepy.OAuthHandler(consumer_key, consumer_secret)\n",
    "auth.set_access_token(access_token, access_token_secret)\n",
    "api = tweepy.API(auth)"
   ]
  },
  {
   "cell_type": "code",
   "execution_count": 6,
   "metadata": {},
   "outputs": [],
   "source": [
    "query = \"bjp election in bihar\""
   ]
  },
  {
   "cell_type": "code",
   "execution_count": 7,
   "metadata": {},
   "outputs": [
    {
     "name": "stdout",
     "output_type": "stream",
     "text": [
      "Status(_api=<tweepy.api.API object at 0x000002FA89A1FC48>, _json={'created_at': 'Mon Nov 02 12:27:26 +0000 2020', 'id': 1323240298785333248, 'id_str': '1323240298785333248', 'full_text': \"#BiharElections2020 | Siwan has been BJP stronghold since 2005 and the party is aiming to win it for a fourth time this year\\n\\nTop contenders are Om Prakash Yadav from the BJP, RJD's Awadh Bihari Chaudhary and RLSP's Abdul Rizwan Ansari \\n\\n#ElectionsWithHT\\n\\nhttps://t.co/JODQtveGhJ https://t.co/qsriGPRlni\", 'truncated': False, 'display_text_range': [0, 279], 'entities': {'hashtags': [{'text': 'BiharElections2020', 'indices': [0, 19]}, {'text': 'ElectionsWithHT', 'indices': [238, 254]}], 'symbols': [], 'user_mentions': [], 'urls': [{'url': 'https://t.co/JODQtveGhJ', 'expanded_url': 'https://www.hindustantimes.com/bihar-election/bihar-assembly-election-2020-bjp-aims-to-secure-fourth-straight-win-in-siwan/story-kuFY9YEwkgRD5FQg0ADqVN.html', 'display_url': 'hindustantimes.com/bihar-election…', 'indices': [256, 279]}], 'media': [{'id': 1323239541436657664, 'id_str': '1323239541436657664', 'indices': [280, 303], 'media_url': 'http://pbs.twimg.com/media/El0XWiQVMAADznM.jpg', 'media_url_https': 'https://pbs.twimg.com/media/El0XWiQVMAADznM.jpg', 'url': 'https://t.co/qsriGPRlni', 'display_url': 'pic.twitter.com/qsriGPRlni', 'expanded_url': 'https://twitter.com/htTweets/status/1323240298785333248/photo/1', 'type': 'photo', 'sizes': {'medium': {'w': 1200, 'h': 675, 'resize': 'fit'}, 'thumb': {'w': 150, 'h': 150, 'resize': 'crop'}, 'small': {'w': 680, 'h': 383, 'resize': 'fit'}, 'large': {'w': 1200, 'h': 675, 'resize': 'fit'}}}]}, 'extended_entities': {'media': [{'id': 1323239541436657664, 'id_str': '1323239541436657664', 'indices': [280, 303], 'media_url': 'http://pbs.twimg.com/media/El0XWiQVMAADznM.jpg', 'media_url_https': 'https://pbs.twimg.com/media/El0XWiQVMAADznM.jpg', 'url': 'https://t.co/qsriGPRlni', 'display_url': 'pic.twitter.com/qsriGPRlni', 'expanded_url': 'https://twitter.com/htTweets/status/1323240298785333248/photo/1', 'type': 'photo', 'sizes': {'medium': {'w': 1200, 'h': 675, 'resize': 'fit'}, 'thumb': {'w': 150, 'h': 150, 'resize': 'crop'}, 'small': {'w': 680, 'h': 383, 'resize': 'fit'}, 'large': {'w': 1200, 'h': 675, 'resize': 'fit'}}}]}, 'metadata': {'iso_language_code': 'en', 'result_type': 'recent'}, 'source': '<a href=\"https://about.twitter.com/products/tweetdeck\" rel=\"nofollow\">TweetDeck</a>', 'in_reply_to_status_id': None, 'in_reply_to_status_id_str': None, 'in_reply_to_user_id': None, 'in_reply_to_user_id_str': None, 'in_reply_to_screen_name': None, 'user': {'id': 36327407, 'id_str': '36327407', 'name': 'Hindustan Times', 'screen_name': 'htTweets', 'location': 'India', 'description': \"One of India's largest media companies. Latest news from around the world. Retweets are not endorsements\", 'url': 'https://t.co/yEyv2GeRpS', 'entities': {'url': {'urls': [{'url': 'https://t.co/yEyv2GeRpS', 'expanded_url': 'http://www.hindustantimes.com', 'display_url': 'hindustantimes.com', 'indices': [0, 23]}]}, 'description': {'urls': []}}, 'protected': False, 'followers_count': 7801126, 'friends_count': 125, 'listed_count': 7065, 'created_at': 'Wed Apr 29 10:11:34 +0000 2009', 'favourites_count': 2949, 'utc_offset': None, 'time_zone': None, 'geo_enabled': True, 'verified': True, 'statuses_count': 796313, 'lang': None, 'contributors_enabled': False, 'is_translator': False, 'is_translation_enabled': False, 'profile_background_color': '1A1B1F', 'profile_background_image_url': 'http://abs.twimg.com/images/themes/theme9/bg.gif', 'profile_background_image_url_https': 'https://abs.twimg.com/images/themes/theme9/bg.gif', 'profile_background_tile': False, 'profile_image_url': 'http://pbs.twimg.com/profile_images/1300145337617661952/Z6rMaX5R_normal.jpg', 'profile_image_url_https': 'https://pbs.twimg.com/profile_images/1300145337617661952/Z6rMaX5R_normal.jpg', 'profile_banner_url': 'https://pbs.twimg.com/profile_banners/36327407/1603844108', 'profile_link_color': '1D8BA1', 'profile_sidebar_border_color': 'FFFFFF', 'profile_sidebar_fill_color': 'BACAD4', 'profile_text_color': '1D1B1B', 'profile_use_background_image': True, 'has_extended_profile': False, 'default_profile': False, 'default_profile_image': False, 'following': False, 'follow_request_sent': False, 'notifications': False, 'translator_type': 'none'}, 'geo': None, 'coordinates': None, 'place': None, 'contributors': None, 'is_quote_status': False, 'retweet_count': 0, 'favorite_count': 0, 'favorited': False, 'retweeted': False, 'possibly_sensitive': False, 'lang': 'en'}, created_at=datetime.datetime(2020, 11, 2, 12, 27, 26), id=1323240298785333248, id_str='1323240298785333248', full_text=\"#BiharElections2020 | Siwan has been BJP stronghold since 2005 and the party is aiming to win it for a fourth time this year\\n\\nTop contenders are Om Prakash Yadav from the BJP, RJD's Awadh Bihari Chaudhary and RLSP's Abdul Rizwan Ansari \\n\\n#ElectionsWithHT\\n\\nhttps://t.co/JODQtveGhJ https://t.co/qsriGPRlni\", truncated=False, display_text_range=[0, 279], entities={'hashtags': [{'text': 'BiharElections2020', 'indices': [0, 19]}, {'text': 'ElectionsWithHT', 'indices': [238, 254]}], 'symbols': [], 'user_mentions': [], 'urls': [{'url': 'https://t.co/JODQtveGhJ', 'expanded_url': 'https://www.hindustantimes.com/bihar-election/bihar-assembly-election-2020-bjp-aims-to-secure-fourth-straight-win-in-siwan/story-kuFY9YEwkgRD5FQg0ADqVN.html', 'display_url': 'hindustantimes.com/bihar-election…', 'indices': [256, 279]}], 'media': [{'id': 1323239541436657664, 'id_str': '1323239541436657664', 'indices': [280, 303], 'media_url': 'http://pbs.twimg.com/media/El0XWiQVMAADznM.jpg', 'media_url_https': 'https://pbs.twimg.com/media/El0XWiQVMAADznM.jpg', 'url': 'https://t.co/qsriGPRlni', 'display_url': 'pic.twitter.com/qsriGPRlni', 'expanded_url': 'https://twitter.com/htTweets/status/1323240298785333248/photo/1', 'type': 'photo', 'sizes': {'medium': {'w': 1200, 'h': 675, 'resize': 'fit'}, 'thumb': {'w': 150, 'h': 150, 'resize': 'crop'}, 'small': {'w': 680, 'h': 383, 'resize': 'fit'}, 'large': {'w': 1200, 'h': 675, 'resize': 'fit'}}}]}, extended_entities={'media': [{'id': 1323239541436657664, 'id_str': '1323239541436657664', 'indices': [280, 303], 'media_url': 'http://pbs.twimg.com/media/El0XWiQVMAADznM.jpg', 'media_url_https': 'https://pbs.twimg.com/media/El0XWiQVMAADznM.jpg', 'url': 'https://t.co/qsriGPRlni', 'display_url': 'pic.twitter.com/qsriGPRlni', 'expanded_url': 'https://twitter.com/htTweets/status/1323240298785333248/photo/1', 'type': 'photo', 'sizes': {'medium': {'w': 1200, 'h': 675, 'resize': 'fit'}, 'thumb': {'w': 150, 'h': 150, 'resize': 'crop'}, 'small': {'w': 680, 'h': 383, 'resize': 'fit'}, 'large': {'w': 1200, 'h': 675, 'resize': 'fit'}}}]}, metadata={'iso_language_code': 'en', 'result_type': 'recent'}, source='TweetDeck', source_url='https://about.twitter.com/products/tweetdeck', in_reply_to_status_id=None, in_reply_to_status_id_str=None, in_reply_to_user_id=None, in_reply_to_user_id_str=None, in_reply_to_screen_name=None, author=User(_api=<tweepy.api.API object at 0x000002FA89A1FC48>, _json={'id': 36327407, 'id_str': '36327407', 'name': 'Hindustan Times', 'screen_name': 'htTweets', 'location': 'India', 'description': \"One of India's largest media companies. Latest news from around the world. Retweets are not endorsements\", 'url': 'https://t.co/yEyv2GeRpS', 'entities': {'url': {'urls': [{'url': 'https://t.co/yEyv2GeRpS', 'expanded_url': 'http://www.hindustantimes.com', 'display_url': 'hindustantimes.com', 'indices': [0, 23]}]}, 'description': {'urls': []}}, 'protected': False, 'followers_count': 7801126, 'friends_count': 125, 'listed_count': 7065, 'created_at': 'Wed Apr 29 10:11:34 +0000 2009', 'favourites_count': 2949, 'utc_offset': None, 'time_zone': None, 'geo_enabled': True, 'verified': True, 'statuses_count': 796313, 'lang': None, 'contributors_enabled': False, 'is_translator': False, 'is_translation_enabled': False, 'profile_background_color': '1A1B1F', 'profile_background_image_url': 'http://abs.twimg.com/images/themes/theme9/bg.gif', 'profile_background_image_url_https': 'https://abs.twimg.com/images/themes/theme9/bg.gif', 'profile_background_tile': False, 'profile_image_url': 'http://pbs.twimg.com/profile_images/1300145337617661952/Z6rMaX5R_normal.jpg', 'profile_image_url_https': 'https://pbs.twimg.com/profile_images/1300145337617661952/Z6rMaX5R_normal.jpg', 'profile_banner_url': 'https://pbs.twimg.com/profile_banners/36327407/1603844108', 'profile_link_color': '1D8BA1', 'profile_sidebar_border_color': 'FFFFFF', 'profile_sidebar_fill_color': 'BACAD4', 'profile_text_color': '1D1B1B', 'profile_use_background_image': True, 'has_extended_profile': False, 'default_profile': False, 'default_profile_image': False, 'following': False, 'follow_request_sent': False, 'notifications': False, 'translator_type': 'none'}, id=36327407, id_str='36327407', name='Hindustan Times', screen_name='htTweets', location='India', description=\"One of India's largest media companies. Latest news from around the world. Retweets are not endorsements\", url='https://t.co/yEyv2GeRpS', entities={'url': {'urls': [{'url': 'https://t.co/yEyv2GeRpS', 'expanded_url': 'http://www.hindustantimes.com', 'display_url': 'hindustantimes.com', 'indices': [0, 23]}]}, 'description': {'urls': []}}, protected=False, followers_count=7801126, friends_count=125, listed_count=7065, created_at=datetime.datetime(2009, 4, 29, 10, 11, 34), favourites_count=2949, utc_offset=None, time_zone=None, geo_enabled=True, verified=True, statuses_count=796313, lang=None, contributors_enabled=False, is_translator=False, is_translation_enabled=False, profile_background_color='1A1B1F', profile_background_image_url='http://abs.twimg.com/images/themes/theme9/bg.gif', profile_background_image_url_https='https://abs.twimg.com/images/themes/theme9/bg.gif', profile_background_tile=False, profile_image_url='http://pbs.twimg.com/profile_images/1300145337617661952/Z6rMaX5R_normal.jpg', profile_image_url_https='https://pbs.twimg.com/profile_images/1300145337617661952/Z6rMaX5R_normal.jpg', profile_banner_url='https://pbs.twimg.com/profile_banners/36327407/1603844108', profile_link_color='1D8BA1', profile_sidebar_border_color='FFFFFF', profile_sidebar_fill_color='BACAD4', profile_text_color='1D1B1B', profile_use_background_image=True, has_extended_profile=False, default_profile=False, default_profile_image=False, following=False, follow_request_sent=False, notifications=False, translator_type='none'), user=User(_api=<tweepy.api.API object at 0x000002FA89A1FC48>, _json={'id': 36327407, 'id_str': '36327407', 'name': 'Hindustan Times', 'screen_name': 'htTweets', 'location': 'India', 'description': \"One of India's largest media companies. Latest news from around the world. Retweets are not endorsements\", 'url': 'https://t.co/yEyv2GeRpS', 'entities': {'url': {'urls': [{'url': 'https://t.co/yEyv2GeRpS', 'expanded_url': 'http://www.hindustantimes.com', 'display_url': 'hindustantimes.com', 'indices': [0, 23]}]}, 'description': {'urls': []}}, 'protected': False, 'followers_count': 7801126, 'friends_count': 125, 'listed_count': 7065, 'created_at': 'Wed Apr 29 10:11:34 +0000 2009', 'favourites_count': 2949, 'utc_offset': None, 'time_zone': None, 'geo_enabled': True, 'verified': True, 'statuses_count': 796313, 'lang': None, 'contributors_enabled': False, 'is_translator': False, 'is_translation_enabled': False, 'profile_background_color': '1A1B1F', 'profile_background_image_url': 'http://abs.twimg.com/images/themes/theme9/bg.gif', 'profile_background_image_url_https': 'https://abs.twimg.com/images/themes/theme9/bg.gif', 'profile_background_tile': False, 'profile_image_url': 'http://pbs.twimg.com/profile_images/1300145337617661952/Z6rMaX5R_normal.jpg', 'profile_image_url_https': 'https://pbs.twimg.com/profile_images/1300145337617661952/Z6rMaX5R_normal.jpg', 'profile_banner_url': 'https://pbs.twimg.com/profile_banners/36327407/1603844108', 'profile_link_color': '1D8BA1', 'profile_sidebar_border_color': 'FFFFFF', 'profile_sidebar_fill_color': 'BACAD4', 'profile_text_color': '1D1B1B', 'profile_use_background_image': True, 'has_extended_profile': False, 'default_profile': False, 'default_profile_image': False, 'following': False, 'follow_request_sent': False, 'notifications': False, 'translator_type': 'none'}, id=36327407, id_str='36327407', name='Hindustan Times', screen_name='htTweets', location='India', description=\"One of India's largest media companies. Latest news from around the world. Retweets are not endorsements\", url='https://t.co/yEyv2GeRpS', entities={'url': {'urls': [{'url': 'https://t.co/yEyv2GeRpS', 'expanded_url': 'http://www.hindustantimes.com', 'display_url': 'hindustantimes.com', 'indices': [0, 23]}]}, 'description': {'urls': []}}, protected=False, followers_count=7801126, friends_count=125, listed_count=7065, created_at=datetime.datetime(2009, 4, 29, 10, 11, 34), favourites_count=2949, utc_offset=None, time_zone=None, geo_enabled=True, verified=True, statuses_count=796313, lang=None, contributors_enabled=False, is_translator=False, is_translation_enabled=False, profile_background_color='1A1B1F', profile_background_image_url='http://abs.twimg.com/images/themes/theme9/bg.gif', profile_background_image_url_https='https://abs.twimg.com/images/themes/theme9/bg.gif', profile_background_tile=False, profile_image_url='http://pbs.twimg.com/profile_images/1300145337617661952/Z6rMaX5R_normal.jpg', profile_image_url_https='https://pbs.twimg.com/profile_images/1300145337617661952/Z6rMaX5R_normal.jpg', profile_banner_url='https://pbs.twimg.com/profile_banners/36327407/1603844108', profile_link_color='1D8BA1', profile_sidebar_border_color='FFFFFF', profile_sidebar_fill_color='BACAD4', profile_text_color='1D1B1B', profile_use_background_image=True, has_extended_profile=False, default_profile=False, default_profile_image=False, following=False, follow_request_sent=False, notifications=False, translator_type='none'), geo=None, coordinates=None, place=None, contributors=None, is_quote_status=False, retweet_count=0, favorite_count=0, favorited=False, retweeted=False, possibly_sensitive=False, lang='en') \n",
      "\n",
      "........................................\n",
      "\n",
      "Status(_api=<tweepy.api.API object at 0x000002FA89A1FC48>, _json={'created_at': 'Mon Nov 02 12:23:35 +0000 2020', 'id': 1323239331843215360, 'id_str': '1323239331843215360', 'full_text': \"After PM Modi's speech in Chhapra, women supporters celebrate on Bhojpuri songs\\n https://t.co/hF1CoSNJvF\\n\\nvia NaMo App https://t.co/pDNa4LURdF\", 'truncated': False, 'display_text_range': [0, 118], 'entities': {'hashtags': [], 'symbols': [], 'user_mentions': [], 'urls': [{'url': 'https://t.co/hF1CoSNJvF', 'expanded_url': 'https://www.bhaskar.com/local/bihar/news/after-the-speech-of-pm-modi-in-chhapra-women-started-dancing-pm-narendra-modi-rally-in-chhapra-bihar-election-bjp-star-campaigner-in-bihar-election-127870953.html', 'display_url': 'bhaskar.com/local/bihar/ne…', 'indices': [81, 104]}], 'media': [{'id': 1323239319407132675, 'id_str': '1323239319407132675', 'indices': [119, 142], 'media_url': 'http://pbs.twimg.com/media/El0XJnIXgAMbENk.jpg', 'media_url_https': 'https://pbs.twimg.com/media/El0XJnIXgAMbENk.jpg', 'url': 'https://t.co/pDNa4LURdF', 'display_url': 'pic.twitter.com/pDNa4LURdF', 'expanded_url': 'https://twitter.com/harishchawla49/status/1323239331843215360/photo/1', 'type': 'photo', 'sizes': {'thumb': {'w': 150, 'h': 150, 'resize': 'crop'}, 'small': {'w': 680, 'h': 504, 'resize': 'fit'}, 'large': {'w': 1476, 'h': 1093, 'resize': 'fit'}, 'medium': {'w': 1200, 'h': 889, 'resize': 'fit'}}}]}, 'extended_entities': {'media': [{'id': 1323239319407132675, 'id_str': '1323239319407132675', 'indices': [119, 142], 'media_url': 'http://pbs.twimg.com/media/El0XJnIXgAMbENk.jpg', 'media_url_https': 'https://pbs.twimg.com/media/El0XJnIXgAMbENk.jpg', 'url': 'https://t.co/pDNa4LURdF', 'display_url': 'pic.twitter.com/pDNa4LURdF', 'expanded_url': 'https://twitter.com/harishchawla49/status/1323239331843215360/photo/1', 'type': 'photo', 'sizes': {'thumb': {'w': 150, 'h': 150, 'resize': 'crop'}, 'small': {'w': 680, 'h': 504, 'resize': 'fit'}, 'large': {'w': 1476, 'h': 1093, 'resize': 'fit'}, 'medium': {'w': 1200, 'h': 889, 'resize': 'fit'}}}]}, 'metadata': {'iso_language_code': 'en', 'result_type': 'recent'}, 'source': '<a href=\"http://twitter.com/#!/download/ipad\" rel=\"nofollow\">Twitter for iPad</a>', 'in_reply_to_status_id': None, 'in_reply_to_status_id_str': None, 'in_reply_to_user_id': None, 'in_reply_to_user_id_str': None, 'in_reply_to_screen_name': None, 'user': {'id': 2855173742, 'id_str': '2855173742', 'name': 'हरीश भारतीय', 'screen_name': 'harishchawla49', 'location': 'India', 'description': \"Retired.......Nation First.......Ek Bharat Shreshth Bharat....Hum Sab Ek Hain....Tweets are personal views...R.T's are not endorsement.\", 'url': None, 'entities': {'description': {'urls': []}}, 'protected': False, 'followers_count': 1226, 'friends_count': 470, 'listed_count': 48, 'created_at': 'Tue Oct 14 05:03:06 +0000 2014', 'favourites_count': 53765, 'utc_offset': None, 'time_zone': None, 'geo_enabled': True, 'verified': False, 'statuses_count': 99816, 'lang': None, 'contributors_enabled': False, 'is_translator': False, 'is_translation_enabled': False, 'profile_background_color': 'C0DEED', 'profile_background_image_url': 'http://abs.twimg.com/images/themes/theme1/bg.png', 'profile_background_image_url_https': 'https://abs.twimg.com/images/themes/theme1/bg.png', 'profile_background_tile': False, 'profile_image_url': 'http://pbs.twimg.com/profile_images/1197164817267728384/1hw3UKnN_normal.jpg', 'profile_image_url_https': 'https://pbs.twimg.com/profile_images/1197164817267728384/1hw3UKnN_normal.jpg', 'profile_banner_url': 'https://pbs.twimg.com/profile_banners/2855173742/1536228649', 'profile_link_color': '1DA1F2', 'profile_sidebar_border_color': 'C0DEED', 'profile_sidebar_fill_color': 'DDEEF6', 'profile_text_color': '333333', 'profile_use_background_image': True, 'has_extended_profile': True, 'default_profile': True, 'default_profile_image': False, 'following': False, 'follow_request_sent': False, 'notifications': False, 'translator_type': 'none'}, 'geo': None, 'coordinates': None, 'place': None, 'contributors': None, 'is_quote_status': False, 'retweet_count': 0, 'favorite_count': 0, 'favorited': False, 'retweeted': False, 'possibly_sensitive': False, 'lang': 'en'}, created_at=datetime.datetime(2020, 11, 2, 12, 23, 35), id=1323239331843215360, id_str='1323239331843215360', full_text=\"After PM Modi's speech in Chhapra, women supporters celebrate on Bhojpuri songs\\n https://t.co/hF1CoSNJvF\\n\\nvia NaMo App https://t.co/pDNa4LURdF\", truncated=False, display_text_range=[0, 118], entities={'hashtags': [], 'symbols': [], 'user_mentions': [], 'urls': [{'url': 'https://t.co/hF1CoSNJvF', 'expanded_url': 'https://www.bhaskar.com/local/bihar/news/after-the-speech-of-pm-modi-in-chhapra-women-started-dancing-pm-narendra-modi-rally-in-chhapra-bihar-election-bjp-star-campaigner-in-bihar-election-127870953.html', 'display_url': 'bhaskar.com/local/bihar/ne…', 'indices': [81, 104]}], 'media': [{'id': 1323239319407132675, 'id_str': '1323239319407132675', 'indices': [119, 142], 'media_url': 'http://pbs.twimg.com/media/El0XJnIXgAMbENk.jpg', 'media_url_https': 'https://pbs.twimg.com/media/El0XJnIXgAMbENk.jpg', 'url': 'https://t.co/pDNa4LURdF', 'display_url': 'pic.twitter.com/pDNa4LURdF', 'expanded_url': 'https://twitter.com/harishchawla49/status/1323239331843215360/photo/1', 'type': 'photo', 'sizes': {'thumb': {'w': 150, 'h': 150, 'resize': 'crop'}, 'small': {'w': 680, 'h': 504, 'resize': 'fit'}, 'large': {'w': 1476, 'h': 1093, 'resize': 'fit'}, 'medium': {'w': 1200, 'h': 889, 'resize': 'fit'}}}]}, extended_entities={'media': [{'id': 1323239319407132675, 'id_str': '1323239319407132675', 'indices': [119, 142], 'media_url': 'http://pbs.twimg.com/media/El0XJnIXgAMbENk.jpg', 'media_url_https': 'https://pbs.twimg.com/media/El0XJnIXgAMbENk.jpg', 'url': 'https://t.co/pDNa4LURdF', 'display_url': 'pic.twitter.com/pDNa4LURdF', 'expanded_url': 'https://twitter.com/harishchawla49/status/1323239331843215360/photo/1', 'type': 'photo', 'sizes': {'thumb': {'w': 150, 'h': 150, 'resize': 'crop'}, 'small': {'w': 680, 'h': 504, 'resize': 'fit'}, 'large': {'w': 1476, 'h': 1093, 'resize': 'fit'}, 'medium': {'w': 1200, 'h': 889, 'resize': 'fit'}}}]}, metadata={'iso_language_code': 'en', 'result_type': 'recent'}, source='Twitter for iPad', source_url='http://twitter.com/#!/download/ipad', in_reply_to_status_id=None, in_reply_to_status_id_str=None, in_reply_to_user_id=None, in_reply_to_user_id_str=None, in_reply_to_screen_name=None, author=User(_api=<tweepy.api.API object at 0x000002FA89A1FC48>, _json={'id': 2855173742, 'id_str': '2855173742', 'name': 'हरीश भारतीय', 'screen_name': 'harishchawla49', 'location': 'India', 'description': \"Retired.......Nation First.......Ek Bharat Shreshth Bharat....Hum Sab Ek Hain....Tweets are personal views...R.T's are not endorsement.\", 'url': None, 'entities': {'description': {'urls': []}}, 'protected': False, 'followers_count': 1226, 'friends_count': 470, 'listed_count': 48, 'created_at': 'Tue Oct 14 05:03:06 +0000 2014', 'favourites_count': 53765, 'utc_offset': None, 'time_zone': None, 'geo_enabled': True, 'verified': False, 'statuses_count': 99816, 'lang': None, 'contributors_enabled': False, 'is_translator': False, 'is_translation_enabled': False, 'profile_background_color': 'C0DEED', 'profile_background_image_url': 'http://abs.twimg.com/images/themes/theme1/bg.png', 'profile_background_image_url_https': 'https://abs.twimg.com/images/themes/theme1/bg.png', 'profile_background_tile': False, 'profile_image_url': 'http://pbs.twimg.com/profile_images/1197164817267728384/1hw3UKnN_normal.jpg', 'profile_image_url_https': 'https://pbs.twimg.com/profile_images/1197164817267728384/1hw3UKnN_normal.jpg', 'profile_banner_url': 'https://pbs.twimg.com/profile_banners/2855173742/1536228649', 'profile_link_color': '1DA1F2', 'profile_sidebar_border_color': 'C0DEED', 'profile_sidebar_fill_color': 'DDEEF6', 'profile_text_color': '333333', 'profile_use_background_image': True, 'has_extended_profile': True, 'default_profile': True, 'default_profile_image': False, 'following': False, 'follow_request_sent': False, 'notifications': False, 'translator_type': 'none'}, id=2855173742, id_str='2855173742', name='हरीश भारतीय', screen_name='harishchawla49', location='India', description=\"Retired.......Nation First.......Ek Bharat Shreshth Bharat....Hum Sab Ek Hain....Tweets are personal views...R.T's are not endorsement.\", url=None, entities={'description': {'urls': []}}, protected=False, followers_count=1226, friends_count=470, listed_count=48, created_at=datetime.datetime(2014, 10, 14, 5, 3, 6), favourites_count=53765, utc_offset=None, time_zone=None, geo_enabled=True, verified=False, statuses_count=99816, lang=None, contributors_enabled=False, is_translator=False, is_translation_enabled=False, profile_background_color='C0DEED', profile_background_image_url='http://abs.twimg.com/images/themes/theme1/bg.png', profile_background_image_url_https='https://abs.twimg.com/images/themes/theme1/bg.png', profile_background_tile=False, profile_image_url='http://pbs.twimg.com/profile_images/1197164817267728384/1hw3UKnN_normal.jpg', profile_image_url_https='https://pbs.twimg.com/profile_images/1197164817267728384/1hw3UKnN_normal.jpg', profile_banner_url='https://pbs.twimg.com/profile_banners/2855173742/1536228649', profile_link_color='1DA1F2', profile_sidebar_border_color='C0DEED', profile_sidebar_fill_color='DDEEF6', profile_text_color='333333', profile_use_background_image=True, has_extended_profile=True, default_profile=True, default_profile_image=False, following=False, follow_request_sent=False, notifications=False, translator_type='none'), user=User(_api=<tweepy.api.API object at 0x000002FA89A1FC48>, _json={'id': 2855173742, 'id_str': '2855173742', 'name': 'हरीश भारतीय', 'screen_name': 'harishchawla49', 'location': 'India', 'description': \"Retired.......Nation First.......Ek Bharat Shreshth Bharat....Hum Sab Ek Hain....Tweets are personal views...R.T's are not endorsement.\", 'url': None, 'entities': {'description': {'urls': []}}, 'protected': False, 'followers_count': 1226, 'friends_count': 470, 'listed_count': 48, 'created_at': 'Tue Oct 14 05:03:06 +0000 2014', 'favourites_count': 53765, 'utc_offset': None, 'time_zone': None, 'geo_enabled': True, 'verified': False, 'statuses_count': 99816, 'lang': None, 'contributors_enabled': False, 'is_translator': False, 'is_translation_enabled': False, 'profile_background_color': 'C0DEED', 'profile_background_image_url': 'http://abs.twimg.com/images/themes/theme1/bg.png', 'profile_background_image_url_https': 'https://abs.twimg.com/images/themes/theme1/bg.png', 'profile_background_tile': False, 'profile_image_url': 'http://pbs.twimg.com/profile_images/1197164817267728384/1hw3UKnN_normal.jpg', 'profile_image_url_https': 'https://pbs.twimg.com/profile_images/1197164817267728384/1hw3UKnN_normal.jpg', 'profile_banner_url': 'https://pbs.twimg.com/profile_banners/2855173742/1536228649', 'profile_link_color': '1DA1F2', 'profile_sidebar_border_color': 'C0DEED', 'profile_sidebar_fill_color': 'DDEEF6', 'profile_text_color': '333333', 'profile_use_background_image': True, 'has_extended_profile': True, 'default_profile': True, 'default_profile_image': False, 'following': False, 'follow_request_sent': False, 'notifications': False, 'translator_type': 'none'}, id=2855173742, id_str='2855173742', name='हरीश भारतीय', screen_name='harishchawla49', location='India', description=\"Retired.......Nation First.......Ek Bharat Shreshth Bharat....Hum Sab Ek Hain....Tweets are personal views...R.T's are not endorsement.\", url=None, entities={'description': {'urls': []}}, protected=False, followers_count=1226, friends_count=470, listed_count=48, created_at=datetime.datetime(2014, 10, 14, 5, 3, 6), favourites_count=53765, utc_offset=None, time_zone=None, geo_enabled=True, verified=False, statuses_count=99816, lang=None, contributors_enabled=False, is_translator=False, is_translation_enabled=False, profile_background_color='C0DEED', profile_background_image_url='http://abs.twimg.com/images/themes/theme1/bg.png', profile_background_image_url_https='https://abs.twimg.com/images/themes/theme1/bg.png', profile_background_tile=False, profile_image_url='http://pbs.twimg.com/profile_images/1197164817267728384/1hw3UKnN_normal.jpg', profile_image_url_https='https://pbs.twimg.com/profile_images/1197164817267728384/1hw3UKnN_normal.jpg', profile_banner_url='https://pbs.twimg.com/profile_banners/2855173742/1536228649', profile_link_color='1DA1F2', profile_sidebar_border_color='C0DEED', profile_sidebar_fill_color='DDEEF6', profile_text_color='333333', profile_use_background_image=True, has_extended_profile=True, default_profile=True, default_profile_image=False, following=False, follow_request_sent=False, notifications=False, translator_type='none'), geo=None, coordinates=None, place=None, contributors=None, is_quote_status=False, retweet_count=0, favorite_count=0, favorited=False, retweeted=False, possibly_sensitive=False, lang='en') \n",
      "\n",
      "........................................\n",
      "\n",
      "Status(_api=<tweepy.api.API object at 0x000002FA89A1FC48>, _json={'created_at': 'Mon Nov 02 12:19:01 +0000 2020', 'id': 1323238182549221376, 'id_str': '1323238182549221376', 'full_text': \"After PM Modi's speech in Chhapra, women supporters celebrate on Bhojpuri songs\\n https://t.co/lsiutWO6ZU\\n\\nvia NaMo App https://t.co/eJJCGtHi6f\", 'truncated': False, 'display_text_range': [0, 118], 'entities': {'hashtags': [], 'symbols': [], 'user_mentions': [], 'urls': [{'url': 'https://t.co/lsiutWO6ZU', 'expanded_url': 'https://www.bhaskar.com/local/bihar/news/after-the-speech-of-pm-modi-in-chhapra-women-started-dancing-pm-narendra-modi-rally-in-chhapra-bihar-election-bjp-star-campaigner-in-bihar-election-127870953.html', 'display_url': 'bhaskar.com/local/bihar/ne…', 'indices': [81, 104]}], 'media': [{'id': 1323238174777249792, 'id_str': '1323238174777249792', 'indices': [119, 142], 'media_url': 'http://pbs.twimg.com/media/El0WG_DVkAA1kRc.jpg', 'media_url_https': 'https://pbs.twimg.com/media/El0WG_DVkAA1kRc.jpg', 'url': 'https://t.co/eJJCGtHi6f', 'display_url': 'pic.twitter.com/eJJCGtHi6f', 'expanded_url': 'https://twitter.com/trivedidn/status/1323238182549221376/photo/1', 'type': 'photo', 'sizes': {'medium': {'w': 848, 'h': 1200, 'resize': 'fit'}, 'thumb': {'w': 150, 'h': 150, 'resize': 'crop'}, 'large': {'w': 1035, 'h': 1465, 'resize': 'fit'}, 'small': {'w': 480, 'h': 680, 'resize': 'fit'}}}]}, 'extended_entities': {'media': [{'id': 1323238174777249792, 'id_str': '1323238174777249792', 'indices': [119, 142], 'media_url': 'http://pbs.twimg.com/media/El0WG_DVkAA1kRc.jpg', 'media_url_https': 'https://pbs.twimg.com/media/El0WG_DVkAA1kRc.jpg', 'url': 'https://t.co/eJJCGtHi6f', 'display_url': 'pic.twitter.com/eJJCGtHi6f', 'expanded_url': 'https://twitter.com/trivedidn/status/1323238182549221376/photo/1', 'type': 'photo', 'sizes': {'medium': {'w': 848, 'h': 1200, 'resize': 'fit'}, 'thumb': {'w': 150, 'h': 150, 'resize': 'crop'}, 'large': {'w': 1035, 'h': 1465, 'resize': 'fit'}, 'small': {'w': 480, 'h': 680, 'resize': 'fit'}}}]}, 'metadata': {'iso_language_code': 'en', 'result_type': 'recent'}, 'source': '<a href=\"http://twitter.com/download/iphone\" rel=\"nofollow\">Twitter for iPhone</a>', 'in_reply_to_status_id': None, 'in_reply_to_status_id_str': None, 'in_reply_to_user_id': None, 'in_reply_to_user_id_str': None, 'in_reply_to_screen_name': None, 'user': {'id': 912641252, 'id_str': '912641252', 'name': 'DINESH TRIVEDI', 'screen_name': 'trivedidn', 'location': '', 'description': '', 'url': None, 'entities': {'description': {'urls': []}}, 'protected': False, 'followers_count': 189, 'friends_count': 437, 'listed_count': 5, 'created_at': 'Mon Oct 29 15:16:32 +0000 2012', 'favourites_count': 696, 'utc_offset': None, 'time_zone': None, 'geo_enabled': True, 'verified': False, 'statuses_count': 38129, 'lang': None, 'contributors_enabled': False, 'is_translator': False, 'is_translation_enabled': False, 'profile_background_color': 'C0DEED', 'profile_background_image_url': 'http://abs.twimg.com/images/themes/theme1/bg.png', 'profile_background_image_url_https': 'https://abs.twimg.com/images/themes/theme1/bg.png', 'profile_background_tile': False, 'profile_image_url': 'http://pbs.twimg.com/profile_images/657802439899287552/OwPuEDFL_normal.jpg', 'profile_image_url_https': 'https://pbs.twimg.com/profile_images/657802439899287552/OwPuEDFL_normal.jpg', 'profile_banner_url': 'https://pbs.twimg.com/profile_banners/912641252/1466991694', 'profile_link_color': '1DA1F2', 'profile_sidebar_border_color': 'C0DEED', 'profile_sidebar_fill_color': 'DDEEF6', 'profile_text_color': '333333', 'profile_use_background_image': True, 'has_extended_profile': True, 'default_profile': True, 'default_profile_image': False, 'following': False, 'follow_request_sent': False, 'notifications': False, 'translator_type': 'none'}, 'geo': None, 'coordinates': None, 'place': None, 'contributors': None, 'is_quote_status': False, 'retweet_count': 0, 'favorite_count': 0, 'favorited': False, 'retweeted': False, 'possibly_sensitive': False, 'lang': 'en'}, created_at=datetime.datetime(2020, 11, 2, 12, 19, 1), id=1323238182549221376, id_str='1323238182549221376', full_text=\"After PM Modi's speech in Chhapra, women supporters celebrate on Bhojpuri songs\\n https://t.co/lsiutWO6ZU\\n\\nvia NaMo App https://t.co/eJJCGtHi6f\", truncated=False, display_text_range=[0, 118], entities={'hashtags': [], 'symbols': [], 'user_mentions': [], 'urls': [{'url': 'https://t.co/lsiutWO6ZU', 'expanded_url': 'https://www.bhaskar.com/local/bihar/news/after-the-speech-of-pm-modi-in-chhapra-women-started-dancing-pm-narendra-modi-rally-in-chhapra-bihar-election-bjp-star-campaigner-in-bihar-election-127870953.html', 'display_url': 'bhaskar.com/local/bihar/ne…', 'indices': [81, 104]}], 'media': [{'id': 1323238174777249792, 'id_str': '1323238174777249792', 'indices': [119, 142], 'media_url': 'http://pbs.twimg.com/media/El0WG_DVkAA1kRc.jpg', 'media_url_https': 'https://pbs.twimg.com/media/El0WG_DVkAA1kRc.jpg', 'url': 'https://t.co/eJJCGtHi6f', 'display_url': 'pic.twitter.com/eJJCGtHi6f', 'expanded_url': 'https://twitter.com/trivedidn/status/1323238182549221376/photo/1', 'type': 'photo', 'sizes': {'medium': {'w': 848, 'h': 1200, 'resize': 'fit'}, 'thumb': {'w': 150, 'h': 150, 'resize': 'crop'}, 'large': {'w': 1035, 'h': 1465, 'resize': 'fit'}, 'small': {'w': 480, 'h': 680, 'resize': 'fit'}}}]}, extended_entities={'media': [{'id': 1323238174777249792, 'id_str': '1323238174777249792', 'indices': [119, 142], 'media_url': 'http://pbs.twimg.com/media/El0WG_DVkAA1kRc.jpg', 'media_url_https': 'https://pbs.twimg.com/media/El0WG_DVkAA1kRc.jpg', 'url': 'https://t.co/eJJCGtHi6f', 'display_url': 'pic.twitter.com/eJJCGtHi6f', 'expanded_url': 'https://twitter.com/trivedidn/status/1323238182549221376/photo/1', 'type': 'photo', 'sizes': {'medium': {'w': 848, 'h': 1200, 'resize': 'fit'}, 'thumb': {'w': 150, 'h': 150, 'resize': 'crop'}, 'large': {'w': 1035, 'h': 1465, 'resize': 'fit'}, 'small': {'w': 480, 'h': 680, 'resize': 'fit'}}}]}, metadata={'iso_language_code': 'en', 'result_type': 'recent'}, source='Twitter for iPhone', source_url='http://twitter.com/download/iphone', in_reply_to_status_id=None, in_reply_to_status_id_str=None, in_reply_to_user_id=None, in_reply_to_user_id_str=None, in_reply_to_screen_name=None, author=User(_api=<tweepy.api.API object at 0x000002FA89A1FC48>, _json={'id': 912641252, 'id_str': '912641252', 'name': 'DINESH TRIVEDI', 'screen_name': 'trivedidn', 'location': '', 'description': '', 'url': None, 'entities': {'description': {'urls': []}}, 'protected': False, 'followers_count': 189, 'friends_count': 437, 'listed_count': 5, 'created_at': 'Mon Oct 29 15:16:32 +0000 2012', 'favourites_count': 696, 'utc_offset': None, 'time_zone': None, 'geo_enabled': True, 'verified': False, 'statuses_count': 38129, 'lang': None, 'contributors_enabled': False, 'is_translator': False, 'is_translation_enabled': False, 'profile_background_color': 'C0DEED', 'profile_background_image_url': 'http://abs.twimg.com/images/themes/theme1/bg.png', 'profile_background_image_url_https': 'https://abs.twimg.com/images/themes/theme1/bg.png', 'profile_background_tile': False, 'profile_image_url': 'http://pbs.twimg.com/profile_images/657802439899287552/OwPuEDFL_normal.jpg', 'profile_image_url_https': 'https://pbs.twimg.com/profile_images/657802439899287552/OwPuEDFL_normal.jpg', 'profile_banner_url': 'https://pbs.twimg.com/profile_banners/912641252/1466991694', 'profile_link_color': '1DA1F2', 'profile_sidebar_border_color': 'C0DEED', 'profile_sidebar_fill_color': 'DDEEF6', 'profile_text_color': '333333', 'profile_use_background_image': True, 'has_extended_profile': True, 'default_profile': True, 'default_profile_image': False, 'following': False, 'follow_request_sent': False, 'notifications': False, 'translator_type': 'none'}, id=912641252, id_str='912641252', name='DINESH TRIVEDI', screen_name='trivedidn', location='', description='', url=None, entities={'description': {'urls': []}}, protected=False, followers_count=189, friends_count=437, listed_count=5, created_at=datetime.datetime(2012, 10, 29, 15, 16, 32), favourites_count=696, utc_offset=None, time_zone=None, geo_enabled=True, verified=False, statuses_count=38129, lang=None, contributors_enabled=False, is_translator=False, is_translation_enabled=False, profile_background_color='C0DEED', profile_background_image_url='http://abs.twimg.com/images/themes/theme1/bg.png', profile_background_image_url_https='https://abs.twimg.com/images/themes/theme1/bg.png', profile_background_tile=False, profile_image_url='http://pbs.twimg.com/profile_images/657802439899287552/OwPuEDFL_normal.jpg', profile_image_url_https='https://pbs.twimg.com/profile_images/657802439899287552/OwPuEDFL_normal.jpg', profile_banner_url='https://pbs.twimg.com/profile_banners/912641252/1466991694', profile_link_color='1DA1F2', profile_sidebar_border_color='C0DEED', profile_sidebar_fill_color='DDEEF6', profile_text_color='333333', profile_use_background_image=True, has_extended_profile=True, default_profile=True, default_profile_image=False, following=False, follow_request_sent=False, notifications=False, translator_type='none'), user=User(_api=<tweepy.api.API object at 0x000002FA89A1FC48>, _json={'id': 912641252, 'id_str': '912641252', 'name': 'DINESH TRIVEDI', 'screen_name': 'trivedidn', 'location': '', 'description': '', 'url': None, 'entities': {'description': {'urls': []}}, 'protected': False, 'followers_count': 189, 'friends_count': 437, 'listed_count': 5, 'created_at': 'Mon Oct 29 15:16:32 +0000 2012', 'favourites_count': 696, 'utc_offset': None, 'time_zone': None, 'geo_enabled': True, 'verified': False, 'statuses_count': 38129, 'lang': None, 'contributors_enabled': False, 'is_translator': False, 'is_translation_enabled': False, 'profile_background_color': 'C0DEED', 'profile_background_image_url': 'http://abs.twimg.com/images/themes/theme1/bg.png', 'profile_background_image_url_https': 'https://abs.twimg.com/images/themes/theme1/bg.png', 'profile_background_tile': False, 'profile_image_url': 'http://pbs.twimg.com/profile_images/657802439899287552/OwPuEDFL_normal.jpg', 'profile_image_url_https': 'https://pbs.twimg.com/profile_images/657802439899287552/OwPuEDFL_normal.jpg', 'profile_banner_url': 'https://pbs.twimg.com/profile_banners/912641252/1466991694', 'profile_link_color': '1DA1F2', 'profile_sidebar_border_color': 'C0DEED', 'profile_sidebar_fill_color': 'DDEEF6', 'profile_text_color': '333333', 'profile_use_background_image': True, 'has_extended_profile': True, 'default_profile': True, 'default_profile_image': False, 'following': False, 'follow_request_sent': False, 'notifications': False, 'translator_type': 'none'}, id=912641252, id_str='912641252', name='DINESH TRIVEDI', screen_name='trivedidn', location='', description='', url=None, entities={'description': {'urls': []}}, protected=False, followers_count=189, friends_count=437, listed_count=5, created_at=datetime.datetime(2012, 10, 29, 15, 16, 32), favourites_count=696, utc_offset=None, time_zone=None, geo_enabled=True, verified=False, statuses_count=38129, lang=None, contributors_enabled=False, is_translator=False, is_translation_enabled=False, profile_background_color='C0DEED', profile_background_image_url='http://abs.twimg.com/images/themes/theme1/bg.png', profile_background_image_url_https='https://abs.twimg.com/images/themes/theme1/bg.png', profile_background_tile=False, profile_image_url='http://pbs.twimg.com/profile_images/657802439899287552/OwPuEDFL_normal.jpg', profile_image_url_https='https://pbs.twimg.com/profile_images/657802439899287552/OwPuEDFL_normal.jpg', profile_banner_url='https://pbs.twimg.com/profile_banners/912641252/1466991694', profile_link_color='1DA1F2', profile_sidebar_border_color='C0DEED', profile_sidebar_fill_color='DDEEF6', profile_text_color='333333', profile_use_background_image=True, has_extended_profile=True, default_profile=True, default_profile_image=False, following=False, follow_request_sent=False, notifications=False, translator_type='none'), geo=None, coordinates=None, place=None, contributors=None, is_quote_status=False, retweet_count=0, favorite_count=0, favorited=False, retweeted=False, possibly_sensitive=False, lang='en') \n",
      "\n",
      "........................................\n",
      "\n",
      "Status(_api=<tweepy.api.API object at 0x000002FA89A1FC48>, _json={'created_at': 'Mon Nov 02 12:10:19 +0000 2020', 'id': 1323235990454980608, 'id_str': '1323235990454980608', 'full_text': \"From the Prime Minister to other BJP leaders; All are engaged in lying in election rallies. The Prime Minister's sudden lockdown decision had ruined the lives of migrant labourers.\\n\\nThe country and Bihar are all remembered.\\n#IndiaRejectsModi\", 'truncated': False, 'display_text_range': [0, 241], 'entities': {'hashtags': [{'text': 'IndiaRejectsModi', 'indices': [224, 241]}], 'symbols': [], 'user_mentions': [], 'urls': []}, 'metadata': {'iso_language_code': 'en', 'result_type': 'recent'}, 'source': '<a href=\"https://mobile.twitter.com\" rel=\"nofollow\">Twitter Web App</a>', 'in_reply_to_status_id': None, 'in_reply_to_status_id_str': None, 'in_reply_to_user_id': None, 'in_reply_to_user_id_str': None, 'in_reply_to_screen_name': None, 'user': {'id': 921006677737979904, 'id_str': '921006677737979904', 'name': 'PARMINDERsinghBHAMBA ਸਰਦਾਰ ਪਰਮਿੰਦਰ ਸਿੰਘ ਭੰਬਾ', 'screen_name': 'rajanbhamba', 'location': 'karnal, India', 'description': 'Kirat karo-Naam japo-Wand Shako\\n\\n\\n\\nKisanCongress\\nSM Head HRY\\n#Farmer #BhambaRajan\\nSM Head @TheDossierTimes\\nInsta-@rajanbhamba\\n\\nStatehead-rgvmharyana', 'url': 'https://t.co/1IbaHw5oRk', 'entities': {'url': {'urls': [{'url': 'https://t.co/1IbaHw5oRk', 'expanded_url': 'http://parmindersinghbhamba.blogspot.com', 'display_url': 'parmindersinghbhamba.blogspot.com', 'indices': [0, 23]}]}, 'description': {'urls': []}}, 'protected': False, 'followers_count': 5863, 'friends_count': 5730, 'listed_count': 4, 'created_at': 'Thu Oct 19 13:34:38 +0000 2017', 'favourites_count': 60206, 'utc_offset': None, 'time_zone': None, 'geo_enabled': False, 'verified': False, 'statuses_count': 52210, 'lang': None, 'contributors_enabled': False, 'is_translator': False, 'is_translation_enabled': False, 'profile_background_color': 'F5F8FA', 'profile_background_image_url': None, 'profile_background_image_url_https': None, 'profile_background_tile': False, 'profile_image_url': 'http://pbs.twimg.com/profile_images/1307015722153906176/Q73W62Ip_normal.jpg', 'profile_image_url_https': 'https://pbs.twimg.com/profile_images/1307015722153906176/Q73W62Ip_normal.jpg', 'profile_banner_url': 'https://pbs.twimg.com/profile_banners/921006677737979904/1602144015', 'profile_link_color': '1DA1F2', 'profile_sidebar_border_color': 'C0DEED', 'profile_sidebar_fill_color': 'DDEEF6', 'profile_text_color': '333333', 'profile_use_background_image': True, 'has_extended_profile': True, 'default_profile': True, 'default_profile_image': False, 'following': False, 'follow_request_sent': False, 'notifications': False, 'translator_type': 'none'}, 'geo': None, 'coordinates': None, 'place': None, 'contributors': None, 'is_quote_status': False, 'retweet_count': 2, 'favorite_count': 2, 'favorited': False, 'retweeted': False, 'lang': 'en'}, created_at=datetime.datetime(2020, 11, 2, 12, 10, 19), id=1323235990454980608, id_str='1323235990454980608', full_text=\"From the Prime Minister to other BJP leaders; All are engaged in lying in election rallies. The Prime Minister's sudden lockdown decision had ruined the lives of migrant labourers.\\n\\nThe country and Bihar are all remembered.\\n#IndiaRejectsModi\", truncated=False, display_text_range=[0, 241], entities={'hashtags': [{'text': 'IndiaRejectsModi', 'indices': [224, 241]}], 'symbols': [], 'user_mentions': [], 'urls': []}, metadata={'iso_language_code': 'en', 'result_type': 'recent'}, source='Twitter Web App', source_url='https://mobile.twitter.com', in_reply_to_status_id=None, in_reply_to_status_id_str=None, in_reply_to_user_id=None, in_reply_to_user_id_str=None, in_reply_to_screen_name=None, author=User(_api=<tweepy.api.API object at 0x000002FA89A1FC48>, _json={'id': 921006677737979904, 'id_str': '921006677737979904', 'name': 'PARMINDERsinghBHAMBA ਸਰਦਾਰ ਪਰਮਿੰਦਰ ਸਿੰਘ ਭੰਬਾ', 'screen_name': 'rajanbhamba', 'location': 'karnal, India', 'description': 'Kirat karo-Naam japo-Wand Shako\\n\\n\\n\\nKisanCongress\\nSM Head HRY\\n#Farmer #BhambaRajan\\nSM Head @TheDossierTimes\\nInsta-@rajanbhamba\\n\\nStatehead-rgvmharyana', 'url': 'https://t.co/1IbaHw5oRk', 'entities': {'url': {'urls': [{'url': 'https://t.co/1IbaHw5oRk', 'expanded_url': 'http://parmindersinghbhamba.blogspot.com', 'display_url': 'parmindersinghbhamba.blogspot.com', 'indices': [0, 23]}]}, 'description': {'urls': []}}, 'protected': False, 'followers_count': 5863, 'friends_count': 5730, 'listed_count': 4, 'created_at': 'Thu Oct 19 13:34:38 +0000 2017', 'favourites_count': 60206, 'utc_offset': None, 'time_zone': None, 'geo_enabled': False, 'verified': False, 'statuses_count': 52210, 'lang': None, 'contributors_enabled': False, 'is_translator': False, 'is_translation_enabled': False, 'profile_background_color': 'F5F8FA', 'profile_background_image_url': None, 'profile_background_image_url_https': None, 'profile_background_tile': False, 'profile_image_url': 'http://pbs.twimg.com/profile_images/1307015722153906176/Q73W62Ip_normal.jpg', 'profile_image_url_https': 'https://pbs.twimg.com/profile_images/1307015722153906176/Q73W62Ip_normal.jpg', 'profile_banner_url': 'https://pbs.twimg.com/profile_banners/921006677737979904/1602144015', 'profile_link_color': '1DA1F2', 'profile_sidebar_border_color': 'C0DEED', 'profile_sidebar_fill_color': 'DDEEF6', 'profile_text_color': '333333', 'profile_use_background_image': True, 'has_extended_profile': True, 'default_profile': True, 'default_profile_image': False, 'following': False, 'follow_request_sent': False, 'notifications': False, 'translator_type': 'none'}, id=921006677737979904, id_str='921006677737979904', name='PARMINDERsinghBHAMBA ਸਰਦਾਰ ਪਰਮਿੰਦਰ ਸਿੰਘ ਭੰਬਾ', screen_name='rajanbhamba', location='karnal, India', description='Kirat karo-Naam japo-Wand Shako\\n\\n\\n\\nKisanCongress\\nSM Head HRY\\n#Farmer #BhambaRajan\\nSM Head @TheDossierTimes\\nInsta-@rajanbhamba\\n\\nStatehead-rgvmharyana', url='https://t.co/1IbaHw5oRk', entities={'url': {'urls': [{'url': 'https://t.co/1IbaHw5oRk', 'expanded_url': 'http://parmindersinghbhamba.blogspot.com', 'display_url': 'parmindersinghbhamba.blogspot.com', 'indices': [0, 23]}]}, 'description': {'urls': []}}, protected=False, followers_count=5863, friends_count=5730, listed_count=4, created_at=datetime.datetime(2017, 10, 19, 13, 34, 38), favourites_count=60206, utc_offset=None, time_zone=None, geo_enabled=False, verified=False, statuses_count=52210, lang=None, contributors_enabled=False, is_translator=False, is_translation_enabled=False, profile_background_color='F5F8FA', profile_background_image_url=None, profile_background_image_url_https=None, profile_background_tile=False, profile_image_url='http://pbs.twimg.com/profile_images/1307015722153906176/Q73W62Ip_normal.jpg', profile_image_url_https='https://pbs.twimg.com/profile_images/1307015722153906176/Q73W62Ip_normal.jpg', profile_banner_url='https://pbs.twimg.com/profile_banners/921006677737979904/1602144015', profile_link_color='1DA1F2', profile_sidebar_border_color='C0DEED', profile_sidebar_fill_color='DDEEF6', profile_text_color='333333', profile_use_background_image=True, has_extended_profile=True, default_profile=True, default_profile_image=False, following=False, follow_request_sent=False, notifications=False, translator_type='none'), user=User(_api=<tweepy.api.API object at 0x000002FA89A1FC48>, _json={'id': 921006677737979904, 'id_str': '921006677737979904', 'name': 'PARMINDERsinghBHAMBA ਸਰਦਾਰ ਪਰਮਿੰਦਰ ਸਿੰਘ ਭੰਬਾ', 'screen_name': 'rajanbhamba', 'location': 'karnal, India', 'description': 'Kirat karo-Naam japo-Wand Shako\\n\\n\\n\\nKisanCongress\\nSM Head HRY\\n#Farmer #BhambaRajan\\nSM Head @TheDossierTimes\\nInsta-@rajanbhamba\\n\\nStatehead-rgvmharyana', 'url': 'https://t.co/1IbaHw5oRk', 'entities': {'url': {'urls': [{'url': 'https://t.co/1IbaHw5oRk', 'expanded_url': 'http://parmindersinghbhamba.blogspot.com', 'display_url': 'parmindersinghbhamba.blogspot.com', 'indices': [0, 23]}]}, 'description': {'urls': []}}, 'protected': False, 'followers_count': 5863, 'friends_count': 5730, 'listed_count': 4, 'created_at': 'Thu Oct 19 13:34:38 +0000 2017', 'favourites_count': 60206, 'utc_offset': None, 'time_zone': None, 'geo_enabled': False, 'verified': False, 'statuses_count': 52210, 'lang': None, 'contributors_enabled': False, 'is_translator': False, 'is_translation_enabled': False, 'profile_background_color': 'F5F8FA', 'profile_background_image_url': None, 'profile_background_image_url_https': None, 'profile_background_tile': False, 'profile_image_url': 'http://pbs.twimg.com/profile_images/1307015722153906176/Q73W62Ip_normal.jpg', 'profile_image_url_https': 'https://pbs.twimg.com/profile_images/1307015722153906176/Q73W62Ip_normal.jpg', 'profile_banner_url': 'https://pbs.twimg.com/profile_banners/921006677737979904/1602144015', 'profile_link_color': '1DA1F2', 'profile_sidebar_border_color': 'C0DEED', 'profile_sidebar_fill_color': 'DDEEF6', 'profile_text_color': '333333', 'profile_use_background_image': True, 'has_extended_profile': True, 'default_profile': True, 'default_profile_image': False, 'following': False, 'follow_request_sent': False, 'notifications': False, 'translator_type': 'none'}, id=921006677737979904, id_str='921006677737979904', name='PARMINDERsinghBHAMBA ਸਰਦਾਰ ਪਰਮਿੰਦਰ ਸਿੰਘ ਭੰਬਾ', screen_name='rajanbhamba', location='karnal, India', description='Kirat karo-Naam japo-Wand Shako\\n\\n\\n\\nKisanCongress\\nSM Head HRY\\n#Farmer #BhambaRajan\\nSM Head @TheDossierTimes\\nInsta-@rajanbhamba\\n\\nStatehead-rgvmharyana', url='https://t.co/1IbaHw5oRk', entities={'url': {'urls': [{'url': 'https://t.co/1IbaHw5oRk', 'expanded_url': 'http://parmindersinghbhamba.blogspot.com', 'display_url': 'parmindersinghbhamba.blogspot.com', 'indices': [0, 23]}]}, 'description': {'urls': []}}, protected=False, followers_count=5863, friends_count=5730, listed_count=4, created_at=datetime.datetime(2017, 10, 19, 13, 34, 38), favourites_count=60206, utc_offset=None, time_zone=None, geo_enabled=False, verified=False, statuses_count=52210, lang=None, contributors_enabled=False, is_translator=False, is_translation_enabled=False, profile_background_color='F5F8FA', profile_background_image_url=None, profile_background_image_url_https=None, profile_background_tile=False, profile_image_url='http://pbs.twimg.com/profile_images/1307015722153906176/Q73W62Ip_normal.jpg', profile_image_url_https='https://pbs.twimg.com/profile_images/1307015722153906176/Q73W62Ip_normal.jpg', profile_banner_url='https://pbs.twimg.com/profile_banners/921006677737979904/1602144015', profile_link_color='1DA1F2', profile_sidebar_border_color='C0DEED', profile_sidebar_fill_color='DDEEF6', profile_text_color='333333', profile_use_background_image=True, has_extended_profile=True, default_profile=True, default_profile_image=False, following=False, follow_request_sent=False, notifications=False, translator_type='none'), geo=None, coordinates=None, place=None, contributors=None, is_quote_status=False, retweet_count=2, favorite_count=2, favorited=False, retweeted=False, lang='en') \n",
      "\n",
      "........................................\n",
      "\n",
      "Status(_api=<tweepy.api.API object at 0x000002FA89A1FC48>, _json={'created_at': 'Mon Nov 02 12:06:34 +0000 2020', 'id': 1323235045759332354, 'id_str': '1323235045759332354', 'full_text': '@DanekarV @harshdeep0151 @prat_guru @uttamvfp @indiantweeter Im not frm bihar but never compare\\nMp elections with mla elections,\\nMp elections totally run on the name\\nOf modi &amp; national security issues,\\nIf today mp election happens rjd wl\\nWipeout , frm recent yrs people of\\nIndia voting differently , bjp won 7 mp in\\nDelhi but has only 3 MLAs', 'truncated': False, 'display_text_range': [61, 345], 'entities': {'hashtags': [], 'symbols': [], 'user_mentions': [{'screen_name': 'DanekarV', 'name': '#JusticeForSSR वैभव विनायकराव दा\\u200cणेकर', 'id': 2261161639, 'id_str': '2261161639', 'indices': [0, 9]}, {'screen_name': 'harshdeep0151', 'name': 'Harshdeep Singh Solanki', 'id': 889028084631977984, 'id_str': '889028084631977984', 'indices': [10, 24]}, {'screen_name': 'prat_guru', 'name': 'Prateek Singh 🇮🇳', 'id': 1188517669898616832, 'id_str': '1188517669898616832', 'indices': [25, 35]}, {'screen_name': 'uttamvfp', 'name': 'Uttam | उत्तम | ઉત્તમ', 'id': 123241181, 'id_str': '123241181', 'indices': [36, 45]}, {'screen_name': 'indiantweeter', 'name': 'अंकित जैन', 'id': 46062566, 'id_str': '46062566', 'indices': [46, 60]}], 'urls': []}, 'metadata': {'iso_language_code': 'en', 'result_type': 'recent'}, 'source': '<a href=\"http://twitter.com/download/android\" rel=\"nofollow\">Twitter for Android</a>', 'in_reply_to_status_id': 1323197038612246528, 'in_reply_to_status_id_str': '1323197038612246528', 'in_reply_to_user_id': 2261161639, 'in_reply_to_user_id_str': '2261161639', 'in_reply_to_screen_name': 'DanekarV', 'user': {'id': 387748838, 'id_str': '387748838', 'name': 'Vinay', 'screen_name': 'vinayaksavashe', 'location': 'North Karnataka, India', 'description': \"I'm very weak in bio .......... soooorrrrry🙂\", 'url': None, 'entities': {'description': {'urls': []}}, 'protected': False, 'followers_count': 1007, 'friends_count': 780, 'listed_count': 11, 'created_at': 'Sun Oct 09 16:12:31 +0000 2011', 'favourites_count': 21945, 'utc_offset': None, 'time_zone': None, 'geo_enabled': True, 'verified': False, 'statuses_count': 44631, 'lang': None, 'contributors_enabled': False, 'is_translator': False, 'is_translation_enabled': False, 'profile_background_color': '000000', 'profile_background_image_url': 'http://abs.twimg.com/images/themes/theme1/bg.png', 'profile_background_image_url_https': 'https://abs.twimg.com/images/themes/theme1/bg.png', 'profile_background_tile': False, 'profile_image_url': 'http://pbs.twimg.com/profile_images/1312005534254469121/O6xyfNnY_normal.jpg', 'profile_image_url_https': 'https://pbs.twimg.com/profile_images/1312005534254469121/O6xyfNnY_normal.jpg', 'profile_banner_url': 'https://pbs.twimg.com/profile_banners/387748838/1520608794', 'profile_link_color': 'DD2E44', 'profile_sidebar_border_color': '000000', 'profile_sidebar_fill_color': '000000', 'profile_text_color': '000000', 'profile_use_background_image': False, 'has_extended_profile': True, 'default_profile': False, 'default_profile_image': False, 'following': False, 'follow_request_sent': False, 'notifications': False, 'translator_type': 'none'}, 'geo': None, 'coordinates': None, 'place': None, 'contributors': None, 'is_quote_status': False, 'retweet_count': 0, 'favorite_count': 1, 'favorited': False, 'retweeted': False, 'lang': 'en'}, created_at=datetime.datetime(2020, 11, 2, 12, 6, 34), id=1323235045759332354, id_str='1323235045759332354', full_text='@DanekarV @harshdeep0151 @prat_guru @uttamvfp @indiantweeter Im not frm bihar but never compare\\nMp elections with mla elections,\\nMp elections totally run on the name\\nOf modi &amp; national security issues,\\nIf today mp election happens rjd wl\\nWipeout , frm recent yrs people of\\nIndia voting differently , bjp won 7 mp in\\nDelhi but has only 3 MLAs', truncated=False, display_text_range=[61, 345], entities={'hashtags': [], 'symbols': [], 'user_mentions': [{'screen_name': 'DanekarV', 'name': '#JusticeForSSR वैभव विनायकराव दा\\u200cणेकर', 'id': 2261161639, 'id_str': '2261161639', 'indices': [0, 9]}, {'screen_name': 'harshdeep0151', 'name': 'Harshdeep Singh Solanki', 'id': 889028084631977984, 'id_str': '889028084631977984', 'indices': [10, 24]}, {'screen_name': 'prat_guru', 'name': 'Prateek Singh 🇮🇳', 'id': 1188517669898616832, 'id_str': '1188517669898616832', 'indices': [25, 35]}, {'screen_name': 'uttamvfp', 'name': 'Uttam | उत्तम | ઉત્તમ', 'id': 123241181, 'id_str': '123241181', 'indices': [36, 45]}, {'screen_name': 'indiantweeter', 'name': 'अंकित जैन', 'id': 46062566, 'id_str': '46062566', 'indices': [46, 60]}], 'urls': []}, metadata={'iso_language_code': 'en', 'result_type': 'recent'}, source='Twitter for Android', source_url='http://twitter.com/download/android', in_reply_to_status_id=1323197038612246528, in_reply_to_status_id_str='1323197038612246528', in_reply_to_user_id=2261161639, in_reply_to_user_id_str='2261161639', in_reply_to_screen_name='DanekarV', author=User(_api=<tweepy.api.API object at 0x000002FA89A1FC48>, _json={'id': 387748838, 'id_str': '387748838', 'name': 'Vinay', 'screen_name': 'vinayaksavashe', 'location': 'North Karnataka, India', 'description': \"I'm very weak in bio .......... soooorrrrry🙂\", 'url': None, 'entities': {'description': {'urls': []}}, 'protected': False, 'followers_count': 1007, 'friends_count': 780, 'listed_count': 11, 'created_at': 'Sun Oct 09 16:12:31 +0000 2011', 'favourites_count': 21945, 'utc_offset': None, 'time_zone': None, 'geo_enabled': True, 'verified': False, 'statuses_count': 44631, 'lang': None, 'contributors_enabled': False, 'is_translator': False, 'is_translation_enabled': False, 'profile_background_color': '000000', 'profile_background_image_url': 'http://abs.twimg.com/images/themes/theme1/bg.png', 'profile_background_image_url_https': 'https://abs.twimg.com/images/themes/theme1/bg.png', 'profile_background_tile': False, 'profile_image_url': 'http://pbs.twimg.com/profile_images/1312005534254469121/O6xyfNnY_normal.jpg', 'profile_image_url_https': 'https://pbs.twimg.com/profile_images/1312005534254469121/O6xyfNnY_normal.jpg', 'profile_banner_url': 'https://pbs.twimg.com/profile_banners/387748838/1520608794', 'profile_link_color': 'DD2E44', 'profile_sidebar_border_color': '000000', 'profile_sidebar_fill_color': '000000', 'profile_text_color': '000000', 'profile_use_background_image': False, 'has_extended_profile': True, 'default_profile': False, 'default_profile_image': False, 'following': False, 'follow_request_sent': False, 'notifications': False, 'translator_type': 'none'}, id=387748838, id_str='387748838', name='Vinay', screen_name='vinayaksavashe', location='North Karnataka, India', description=\"I'm very weak in bio .......... soooorrrrry🙂\", url=None, entities={'description': {'urls': []}}, protected=False, followers_count=1007, friends_count=780, listed_count=11, created_at=datetime.datetime(2011, 10, 9, 16, 12, 31), favourites_count=21945, utc_offset=None, time_zone=None, geo_enabled=True, verified=False, statuses_count=44631, lang=None, contributors_enabled=False, is_translator=False, is_translation_enabled=False, profile_background_color='000000', profile_background_image_url='http://abs.twimg.com/images/themes/theme1/bg.png', profile_background_image_url_https='https://abs.twimg.com/images/themes/theme1/bg.png', profile_background_tile=False, profile_image_url='http://pbs.twimg.com/profile_images/1312005534254469121/O6xyfNnY_normal.jpg', profile_image_url_https='https://pbs.twimg.com/profile_images/1312005534254469121/O6xyfNnY_normal.jpg', profile_banner_url='https://pbs.twimg.com/profile_banners/387748838/1520608794', profile_link_color='DD2E44', profile_sidebar_border_color='000000', profile_sidebar_fill_color='000000', profile_text_color='000000', profile_use_background_image=False, has_extended_profile=True, default_profile=False, default_profile_image=False, following=False, follow_request_sent=False, notifications=False, translator_type='none'), user=User(_api=<tweepy.api.API object at 0x000002FA89A1FC48>, _json={'id': 387748838, 'id_str': '387748838', 'name': 'Vinay', 'screen_name': 'vinayaksavashe', 'location': 'North Karnataka, India', 'description': \"I'm very weak in bio .......... soooorrrrry🙂\", 'url': None, 'entities': {'description': {'urls': []}}, 'protected': False, 'followers_count': 1007, 'friends_count': 780, 'listed_count': 11, 'created_at': 'Sun Oct 09 16:12:31 +0000 2011', 'favourites_count': 21945, 'utc_offset': None, 'time_zone': None, 'geo_enabled': True, 'verified': False, 'statuses_count': 44631, 'lang': None, 'contributors_enabled': False, 'is_translator': False, 'is_translation_enabled': False, 'profile_background_color': '000000', 'profile_background_image_url': 'http://abs.twimg.com/images/themes/theme1/bg.png', 'profile_background_image_url_https': 'https://abs.twimg.com/images/themes/theme1/bg.png', 'profile_background_tile': False, 'profile_image_url': 'http://pbs.twimg.com/profile_images/1312005534254469121/O6xyfNnY_normal.jpg', 'profile_image_url_https': 'https://pbs.twimg.com/profile_images/1312005534254469121/O6xyfNnY_normal.jpg', 'profile_banner_url': 'https://pbs.twimg.com/profile_banners/387748838/1520608794', 'profile_link_color': 'DD2E44', 'profile_sidebar_border_color': '000000', 'profile_sidebar_fill_color': '000000', 'profile_text_color': '000000', 'profile_use_background_image': False, 'has_extended_profile': True, 'default_profile': False, 'default_profile_image': False, 'following': False, 'follow_request_sent': False, 'notifications': False, 'translator_type': 'none'}, id=387748838, id_str='387748838', name='Vinay', screen_name='vinayaksavashe', location='North Karnataka, India', description=\"I'm very weak in bio .......... soooorrrrry🙂\", url=None, entities={'description': {'urls': []}}, protected=False, followers_count=1007, friends_count=780, listed_count=11, created_at=datetime.datetime(2011, 10, 9, 16, 12, 31), favourites_count=21945, utc_offset=None, time_zone=None, geo_enabled=True, verified=False, statuses_count=44631, lang=None, contributors_enabled=False, is_translator=False, is_translation_enabled=False, profile_background_color='000000', profile_background_image_url='http://abs.twimg.com/images/themes/theme1/bg.png', profile_background_image_url_https='https://abs.twimg.com/images/themes/theme1/bg.png', profile_background_tile=False, profile_image_url='http://pbs.twimg.com/profile_images/1312005534254469121/O6xyfNnY_normal.jpg', profile_image_url_https='https://pbs.twimg.com/profile_images/1312005534254469121/O6xyfNnY_normal.jpg', profile_banner_url='https://pbs.twimg.com/profile_banners/387748838/1520608794', profile_link_color='DD2E44', profile_sidebar_border_color='000000', profile_sidebar_fill_color='000000', profile_text_color='000000', profile_use_background_image=False, has_extended_profile=True, default_profile=False, default_profile_image=False, following=False, follow_request_sent=False, notifications=False, translator_type='none'), geo=None, coordinates=None, place=None, contributors=None, is_quote_status=False, retweet_count=0, favorite_count=1, favorited=False, retweeted=False, lang='en') \n",
      "\n",
      "........................................\n",
      "\n",
      "Status(_api=<tweepy.api.API object at 0x000002FA89A1FC48>, _json={'created_at': 'Mon Nov 02 11:54:42 +0000 2020', 'id': 1323232062804033541, 'id_str': '1323232062804033541', 'full_text': '@t_d_h_nair @abhisar_sharma U r wrong. They all know BJP is loosing the election in Bihar. They r playing this Pulwama card to see how many more seats they can get by playing Pulwama card.\\nIf they get more, means they will understands it how mad we Indians are. Its a game analysis for next elections.', 'truncated': False, 'display_text_range': [28, 301], 'entities': {'hashtags': [], 'symbols': [], 'user_mentions': [{'screen_name': 't_d_h_nair', 'name': 'Ravi Nair', 'id': 951165164, 'id_str': '951165164', 'indices': [0, 11]}, {'screen_name': 'abhisar_sharma', 'name': 'Abhisar Sharma', 'id': 56627441, 'id_str': '56627441', 'indices': [12, 27]}], 'urls': []}, 'metadata': {'iso_language_code': 'en', 'result_type': 'recent'}, 'source': '<a href=\"http://twitter.com/download/android\" rel=\"nofollow\">Twitter for Android</a>', 'in_reply_to_status_id': 1323226906947321856, 'in_reply_to_status_id_str': '1323226906947321856', 'in_reply_to_user_id': 951165164, 'in_reply_to_user_id_str': '951165164', 'in_reply_to_screen_name': 't_d_h_nair', 'user': {'id': 752032350758985728, 'id_str': '752032350758985728', 'name': 'Habib mohiuddin', 'screen_name': 'mohiuddin_habib', 'location': 'Hyderabad, India', 'description': '', 'url': None, 'entities': {'description': {'urls': []}}, 'protected': False, 'followers_count': 21, 'friends_count': 96, 'listed_count': 0, 'created_at': 'Sun Jul 10 06:50:59 +0000 2016', 'favourites_count': 2460, 'utc_offset': None, 'time_zone': None, 'geo_enabled': False, 'verified': False, 'statuses_count': 3431, 'lang': None, 'contributors_enabled': False, 'is_translator': False, 'is_translation_enabled': False, 'profile_background_color': 'F5F8FA', 'profile_background_image_url': None, 'profile_background_image_url_https': None, 'profile_background_tile': False, 'profile_image_url': 'http://abs.twimg.com/sticky/default_profile_images/default_profile_normal.png', 'profile_image_url_https': 'https://abs.twimg.com/sticky/default_profile_images/default_profile_normal.png', 'profile_link_color': '1DA1F2', 'profile_sidebar_border_color': 'C0DEED', 'profile_sidebar_fill_color': 'DDEEF6', 'profile_text_color': '333333', 'profile_use_background_image': True, 'has_extended_profile': True, 'default_profile': True, 'default_profile_image': True, 'following': False, 'follow_request_sent': False, 'notifications': False, 'translator_type': 'none'}, 'geo': None, 'coordinates': None, 'place': None, 'contributors': None, 'is_quote_status': False, 'retweet_count': 0, 'favorite_count': 0, 'favorited': False, 'retweeted': False, 'lang': 'en'}, created_at=datetime.datetime(2020, 11, 2, 11, 54, 42), id=1323232062804033541, id_str='1323232062804033541', full_text='@t_d_h_nair @abhisar_sharma U r wrong. They all know BJP is loosing the election in Bihar. They r playing this Pulwama card to see how many more seats they can get by playing Pulwama card.\\nIf they get more, means they will understands it how mad we Indians are. Its a game analysis for next elections.', truncated=False, display_text_range=[28, 301], entities={'hashtags': [], 'symbols': [], 'user_mentions': [{'screen_name': 't_d_h_nair', 'name': 'Ravi Nair', 'id': 951165164, 'id_str': '951165164', 'indices': [0, 11]}, {'screen_name': 'abhisar_sharma', 'name': 'Abhisar Sharma', 'id': 56627441, 'id_str': '56627441', 'indices': [12, 27]}], 'urls': []}, metadata={'iso_language_code': 'en', 'result_type': 'recent'}, source='Twitter for Android', source_url='http://twitter.com/download/android', in_reply_to_status_id=1323226906947321856, in_reply_to_status_id_str='1323226906947321856', in_reply_to_user_id=951165164, in_reply_to_user_id_str='951165164', in_reply_to_screen_name='t_d_h_nair', author=User(_api=<tweepy.api.API object at 0x000002FA89A1FC48>, _json={'id': 752032350758985728, 'id_str': '752032350758985728', 'name': 'Habib mohiuddin', 'screen_name': 'mohiuddin_habib', 'location': 'Hyderabad, India', 'description': '', 'url': None, 'entities': {'description': {'urls': []}}, 'protected': False, 'followers_count': 21, 'friends_count': 96, 'listed_count': 0, 'created_at': 'Sun Jul 10 06:50:59 +0000 2016', 'favourites_count': 2460, 'utc_offset': None, 'time_zone': None, 'geo_enabled': False, 'verified': False, 'statuses_count': 3431, 'lang': None, 'contributors_enabled': False, 'is_translator': False, 'is_translation_enabled': False, 'profile_background_color': 'F5F8FA', 'profile_background_image_url': None, 'profile_background_image_url_https': None, 'profile_background_tile': False, 'profile_image_url': 'http://abs.twimg.com/sticky/default_profile_images/default_profile_normal.png', 'profile_image_url_https': 'https://abs.twimg.com/sticky/default_profile_images/default_profile_normal.png', 'profile_link_color': '1DA1F2', 'profile_sidebar_border_color': 'C0DEED', 'profile_sidebar_fill_color': 'DDEEF6', 'profile_text_color': '333333', 'profile_use_background_image': True, 'has_extended_profile': True, 'default_profile': True, 'default_profile_image': True, 'following': False, 'follow_request_sent': False, 'notifications': False, 'translator_type': 'none'}, id=752032350758985728, id_str='752032350758985728', name='Habib mohiuddin', screen_name='mohiuddin_habib', location='Hyderabad, India', description='', url=None, entities={'description': {'urls': []}}, protected=False, followers_count=21, friends_count=96, listed_count=0, created_at=datetime.datetime(2016, 7, 10, 6, 50, 59), favourites_count=2460, utc_offset=None, time_zone=None, geo_enabled=False, verified=False, statuses_count=3431, lang=None, contributors_enabled=False, is_translator=False, is_translation_enabled=False, profile_background_color='F5F8FA', profile_background_image_url=None, profile_background_image_url_https=None, profile_background_tile=False, profile_image_url='http://abs.twimg.com/sticky/default_profile_images/default_profile_normal.png', profile_image_url_https='https://abs.twimg.com/sticky/default_profile_images/default_profile_normal.png', profile_link_color='1DA1F2', profile_sidebar_border_color='C0DEED', profile_sidebar_fill_color='DDEEF6', profile_text_color='333333', profile_use_background_image=True, has_extended_profile=True, default_profile=True, default_profile_image=True, following=False, follow_request_sent=False, notifications=False, translator_type='none'), user=User(_api=<tweepy.api.API object at 0x000002FA89A1FC48>, _json={'id': 752032350758985728, 'id_str': '752032350758985728', 'name': 'Habib mohiuddin', 'screen_name': 'mohiuddin_habib', 'location': 'Hyderabad, India', 'description': '', 'url': None, 'entities': {'description': {'urls': []}}, 'protected': False, 'followers_count': 21, 'friends_count': 96, 'listed_count': 0, 'created_at': 'Sun Jul 10 06:50:59 +0000 2016', 'favourites_count': 2460, 'utc_offset': None, 'time_zone': None, 'geo_enabled': False, 'verified': False, 'statuses_count': 3431, 'lang': None, 'contributors_enabled': False, 'is_translator': False, 'is_translation_enabled': False, 'profile_background_color': 'F5F8FA', 'profile_background_image_url': None, 'profile_background_image_url_https': None, 'profile_background_tile': False, 'profile_image_url': 'http://abs.twimg.com/sticky/default_profile_images/default_profile_normal.png', 'profile_image_url_https': 'https://abs.twimg.com/sticky/default_profile_images/default_profile_normal.png', 'profile_link_color': '1DA1F2', 'profile_sidebar_border_color': 'C0DEED', 'profile_sidebar_fill_color': 'DDEEF6', 'profile_text_color': '333333', 'profile_use_background_image': True, 'has_extended_profile': True, 'default_profile': True, 'default_profile_image': True, 'following': False, 'follow_request_sent': False, 'notifications': False, 'translator_type': 'none'}, id=752032350758985728, id_str='752032350758985728', name='Habib mohiuddin', screen_name='mohiuddin_habib', location='Hyderabad, India', description='', url=None, entities={'description': {'urls': []}}, protected=False, followers_count=21, friends_count=96, listed_count=0, created_at=datetime.datetime(2016, 7, 10, 6, 50, 59), favourites_count=2460, utc_offset=None, time_zone=None, geo_enabled=False, verified=False, statuses_count=3431, lang=None, contributors_enabled=False, is_translator=False, is_translation_enabled=False, profile_background_color='F5F8FA', profile_background_image_url=None, profile_background_image_url_https=None, profile_background_tile=False, profile_image_url='http://abs.twimg.com/sticky/default_profile_images/default_profile_normal.png', profile_image_url_https='https://abs.twimg.com/sticky/default_profile_images/default_profile_normal.png', profile_link_color='1DA1F2', profile_sidebar_border_color='C0DEED', profile_sidebar_fill_color='DDEEF6', profile_text_color='333333', profile_use_background_image=True, has_extended_profile=True, default_profile=True, default_profile_image=True, following=False, follow_request_sent=False, notifications=False, translator_type='none'), geo=None, coordinates=None, place=None, contributors=None, is_quote_status=False, retweet_count=0, favorite_count=0, favorited=False, retweeted=False, lang='en') \n",
      "\n",
      "........................................\n",
      "\n",
      "Status(_api=<tweepy.api.API object at 0x000002FA89A1FC48>, _json={'created_at': 'Mon Nov 02 11:45:19 +0000 2020', 'id': 1323229700244738048, 'id_str': '1323229700244738048', 'full_text': \"@desainishit @mubasheersha @AshokChavanINC Please dont be absurd everytime. I m a BJP supporter and ryt now wrking in bihar election so tht u can win at some places. The prblm is u can't be thnkful of anything. whtevr u do, the party's name is at stake. So be careful of ur choice of words next time bcz it ruins party img.\", 'truncated': False, 'display_text_range': [43, 323], 'entities': {'hashtags': [], 'symbols': [], 'user_mentions': [{'screen_name': 'desainishit', 'name': 'NISHIT DESAI- ATMANIRBHAR / SELF RELIANT', 'id': 243543594, 'id_str': '243543594', 'indices': [0, 12]}, {'screen_name': 'mubasheersha', 'name': 'Mubasheer', 'id': 3011831982, 'id_str': '3011831982', 'indices': [13, 26]}, {'screen_name': 'AshokChavanINC', 'name': 'Ashok Chavan', 'id': 2476582710, 'id_str': '2476582710', 'indices': [27, 42]}], 'urls': []}, 'metadata': {'iso_language_code': 'en', 'result_type': 'recent'}, 'source': '<a href=\"http://twitter.com/download/android\" rel=\"nofollow\">Twitter for Android</a>', 'in_reply_to_status_id': 1323216316220633090, 'in_reply_to_status_id_str': '1323216316220633090', 'in_reply_to_user_id': 243543594, 'in_reply_to_user_id_str': '243543594', 'in_reply_to_screen_name': 'desainishit', 'user': {'id': 1083924391598145536, 'id_str': '1083924391598145536', 'name': 'Shresth Prakash', 'screen_name': 'ShresthPrakash_', 'location': 'Patna, India', 'description': \"There was a time when I use to kill time. now is the time when it's killing me 🔪😩\", 'url': None, 'entities': {'description': {'urls': []}}, 'protected': False, 'followers_count': 23, 'friends_count': 107, 'listed_count': 0, 'created_at': 'Sat Jan 12 03:11:28 +0000 2019', 'favourites_count': 4715, 'utc_offset': None, 'time_zone': None, 'geo_enabled': True, 'verified': False, 'statuses_count': 932, 'lang': None, 'contributors_enabled': False, 'is_translator': False, 'is_translation_enabled': False, 'profile_background_color': 'F5F8FA', 'profile_background_image_url': None, 'profile_background_image_url_https': None, 'profile_background_tile': False, 'profile_image_url': 'http://pbs.twimg.com/profile_images/1315397874692182016/0ff5ycZ7_normal.jpg', 'profile_image_url_https': 'https://pbs.twimg.com/profile_images/1315397874692182016/0ff5ycZ7_normal.jpg', 'profile_banner_url': 'https://pbs.twimg.com/profile_banners/1083924391598145536/1587230218', 'profile_link_color': '1DA1F2', 'profile_sidebar_border_color': 'C0DEED', 'profile_sidebar_fill_color': 'DDEEF6', 'profile_text_color': '333333', 'profile_use_background_image': True, 'has_extended_profile': True, 'default_profile': True, 'default_profile_image': False, 'following': False, 'follow_request_sent': False, 'notifications': False, 'translator_type': 'none'}, 'geo': None, 'coordinates': None, 'place': None, 'contributors': None, 'is_quote_status': False, 'retweet_count': 0, 'favorite_count': 0, 'favorited': False, 'retweeted': False, 'lang': 'en'}, created_at=datetime.datetime(2020, 11, 2, 11, 45, 19), id=1323229700244738048, id_str='1323229700244738048', full_text=\"@desainishit @mubasheersha @AshokChavanINC Please dont be absurd everytime. I m a BJP supporter and ryt now wrking in bihar election so tht u can win at some places. The prblm is u can't be thnkful of anything. whtevr u do, the party's name is at stake. So be careful of ur choice of words next time bcz it ruins party img.\", truncated=False, display_text_range=[43, 323], entities={'hashtags': [], 'symbols': [], 'user_mentions': [{'screen_name': 'desainishit', 'name': 'NISHIT DESAI- ATMANIRBHAR / SELF RELIANT', 'id': 243543594, 'id_str': '243543594', 'indices': [0, 12]}, {'screen_name': 'mubasheersha', 'name': 'Mubasheer', 'id': 3011831982, 'id_str': '3011831982', 'indices': [13, 26]}, {'screen_name': 'AshokChavanINC', 'name': 'Ashok Chavan', 'id': 2476582710, 'id_str': '2476582710', 'indices': [27, 42]}], 'urls': []}, metadata={'iso_language_code': 'en', 'result_type': 'recent'}, source='Twitter for Android', source_url='http://twitter.com/download/android', in_reply_to_status_id=1323216316220633090, in_reply_to_status_id_str='1323216316220633090', in_reply_to_user_id=243543594, in_reply_to_user_id_str='243543594', in_reply_to_screen_name='desainishit', author=User(_api=<tweepy.api.API object at 0x000002FA89A1FC48>, _json={'id': 1083924391598145536, 'id_str': '1083924391598145536', 'name': 'Shresth Prakash', 'screen_name': 'ShresthPrakash_', 'location': 'Patna, India', 'description': \"There was a time when I use to kill time. now is the time when it's killing me 🔪😩\", 'url': None, 'entities': {'description': {'urls': []}}, 'protected': False, 'followers_count': 23, 'friends_count': 107, 'listed_count': 0, 'created_at': 'Sat Jan 12 03:11:28 +0000 2019', 'favourites_count': 4715, 'utc_offset': None, 'time_zone': None, 'geo_enabled': True, 'verified': False, 'statuses_count': 932, 'lang': None, 'contributors_enabled': False, 'is_translator': False, 'is_translation_enabled': False, 'profile_background_color': 'F5F8FA', 'profile_background_image_url': None, 'profile_background_image_url_https': None, 'profile_background_tile': False, 'profile_image_url': 'http://pbs.twimg.com/profile_images/1315397874692182016/0ff5ycZ7_normal.jpg', 'profile_image_url_https': 'https://pbs.twimg.com/profile_images/1315397874692182016/0ff5ycZ7_normal.jpg', 'profile_banner_url': 'https://pbs.twimg.com/profile_banners/1083924391598145536/1587230218', 'profile_link_color': '1DA1F2', 'profile_sidebar_border_color': 'C0DEED', 'profile_sidebar_fill_color': 'DDEEF6', 'profile_text_color': '333333', 'profile_use_background_image': True, 'has_extended_profile': True, 'default_profile': True, 'default_profile_image': False, 'following': False, 'follow_request_sent': False, 'notifications': False, 'translator_type': 'none'}, id=1083924391598145536, id_str='1083924391598145536', name='Shresth Prakash', screen_name='ShresthPrakash_', location='Patna, India', description=\"There was a time when I use to kill time. now is the time when it's killing me 🔪😩\", url=None, entities={'description': {'urls': []}}, protected=False, followers_count=23, friends_count=107, listed_count=0, created_at=datetime.datetime(2019, 1, 12, 3, 11, 28), favourites_count=4715, utc_offset=None, time_zone=None, geo_enabled=True, verified=False, statuses_count=932, lang=None, contributors_enabled=False, is_translator=False, is_translation_enabled=False, profile_background_color='F5F8FA', profile_background_image_url=None, profile_background_image_url_https=None, profile_background_tile=False, profile_image_url='http://pbs.twimg.com/profile_images/1315397874692182016/0ff5ycZ7_normal.jpg', profile_image_url_https='https://pbs.twimg.com/profile_images/1315397874692182016/0ff5ycZ7_normal.jpg', profile_banner_url='https://pbs.twimg.com/profile_banners/1083924391598145536/1587230218', profile_link_color='1DA1F2', profile_sidebar_border_color='C0DEED', profile_sidebar_fill_color='DDEEF6', profile_text_color='333333', profile_use_background_image=True, has_extended_profile=True, default_profile=True, default_profile_image=False, following=False, follow_request_sent=False, notifications=False, translator_type='none'), user=User(_api=<tweepy.api.API object at 0x000002FA89A1FC48>, _json={'id': 1083924391598145536, 'id_str': '1083924391598145536', 'name': 'Shresth Prakash', 'screen_name': 'ShresthPrakash_', 'location': 'Patna, India', 'description': \"There was a time when I use to kill time. now is the time when it's killing me 🔪😩\", 'url': None, 'entities': {'description': {'urls': []}}, 'protected': False, 'followers_count': 23, 'friends_count': 107, 'listed_count': 0, 'created_at': 'Sat Jan 12 03:11:28 +0000 2019', 'favourites_count': 4715, 'utc_offset': None, 'time_zone': None, 'geo_enabled': True, 'verified': False, 'statuses_count': 932, 'lang': None, 'contributors_enabled': False, 'is_translator': False, 'is_translation_enabled': False, 'profile_background_color': 'F5F8FA', 'profile_background_image_url': None, 'profile_background_image_url_https': None, 'profile_background_tile': False, 'profile_image_url': 'http://pbs.twimg.com/profile_images/1315397874692182016/0ff5ycZ7_normal.jpg', 'profile_image_url_https': 'https://pbs.twimg.com/profile_images/1315397874692182016/0ff5ycZ7_normal.jpg', 'profile_banner_url': 'https://pbs.twimg.com/profile_banners/1083924391598145536/1587230218', 'profile_link_color': '1DA1F2', 'profile_sidebar_border_color': 'C0DEED', 'profile_sidebar_fill_color': 'DDEEF6', 'profile_text_color': '333333', 'profile_use_background_image': True, 'has_extended_profile': True, 'default_profile': True, 'default_profile_image': False, 'following': False, 'follow_request_sent': False, 'notifications': False, 'translator_type': 'none'}, id=1083924391598145536, id_str='1083924391598145536', name='Shresth Prakash', screen_name='ShresthPrakash_', location='Patna, India', description=\"There was a time when I use to kill time. now is the time when it's killing me 🔪😩\", url=None, entities={'description': {'urls': []}}, protected=False, followers_count=23, friends_count=107, listed_count=0, created_at=datetime.datetime(2019, 1, 12, 3, 11, 28), favourites_count=4715, utc_offset=None, time_zone=None, geo_enabled=True, verified=False, statuses_count=932, lang=None, contributors_enabled=False, is_translator=False, is_translation_enabled=False, profile_background_color='F5F8FA', profile_background_image_url=None, profile_background_image_url_https=None, profile_background_tile=False, profile_image_url='http://pbs.twimg.com/profile_images/1315397874692182016/0ff5ycZ7_normal.jpg', profile_image_url_https='https://pbs.twimg.com/profile_images/1315397874692182016/0ff5ycZ7_normal.jpg', profile_banner_url='https://pbs.twimg.com/profile_banners/1083924391598145536/1587230218', profile_link_color='1DA1F2', profile_sidebar_border_color='C0DEED', profile_sidebar_fill_color='DDEEF6', profile_text_color='333333', profile_use_background_image=True, has_extended_profile=True, default_profile=True, default_profile_image=False, following=False, follow_request_sent=False, notifications=False, translator_type='none'), geo=None, coordinates=None, place=None, contributors=None, is_quote_status=False, retweet_count=0, favorite_count=0, favorited=False, retweeted=False, lang='en') \n",
      "\n",
      "........................................\n",
      "\n",
      "Status(_api=<tweepy.api.API object at 0x000002FA89A1FC48>, _json={'created_at': 'Mon Nov 02 11:45:09 +0000 2020', 'id': 1323229657467035648, 'id_str': '1323229657467035648', 'full_text': \"After PM Modi's speech in Chhapra, women supporters celebrate on Bhojpuri songs\\nhttps://t.co/f2iCf1rbSU\\n\\nvia NaMo App https://t.co/gJQy2yTLuf\", 'truncated': False, 'display_text_range': [0, 117], 'entities': {'hashtags': [], 'symbols': [], 'user_mentions': [], 'urls': [{'url': 'https://t.co/f2iCf1rbSU', 'expanded_url': 'https://www.bhaskar.com/local/bihar/news/after-the-speech-of-pm-modi-in-chhapra-women-started-dancing-pm-narendra-modi-rally-in-chhapra-bihar-election-bjp-star-campaigner-in-bihar-election-127870953.html', 'display_url': 'bhaskar.com/local/bihar/ne…', 'indices': [80, 103]}], 'media': [{'id': 1323229609266085888, 'id_str': '1323229609266085888', 'indices': [118, 141], 'media_url': 'http://pbs.twimg.com/media/El0OUaCVgAALWkd.jpg', 'media_url_https': 'https://pbs.twimg.com/media/El0OUaCVgAALWkd.jpg', 'url': 'https://t.co/gJQy2yTLuf', 'display_url': 'pic.twitter.com/gJQy2yTLuf', 'expanded_url': 'https://twitter.com/1979Kishor/status/1323229657467035648/photo/1', 'type': 'photo', 'sizes': {'thumb': {'w': 150, 'h': 150, 'resize': 'crop'}, 'large': {'w': 680, 'h': 1024, 'resize': 'fit'}, 'small': {'w': 452, 'h': 680, 'resize': 'fit'}, 'medium': {'w': 680, 'h': 1024, 'resize': 'fit'}}}]}, 'extended_entities': {'media': [{'id': 1323229609266085888, 'id_str': '1323229609266085888', 'indices': [118, 141], 'media_url': 'http://pbs.twimg.com/media/El0OUaCVgAALWkd.jpg', 'media_url_https': 'https://pbs.twimg.com/media/El0OUaCVgAALWkd.jpg', 'url': 'https://t.co/gJQy2yTLuf', 'display_url': 'pic.twitter.com/gJQy2yTLuf', 'expanded_url': 'https://twitter.com/1979Kishor/status/1323229657467035648/photo/1', 'type': 'photo', 'sizes': {'thumb': {'w': 150, 'h': 150, 'resize': 'crop'}, 'large': {'w': 680, 'h': 1024, 'resize': 'fit'}, 'small': {'w': 452, 'h': 680, 'resize': 'fit'}, 'medium': {'w': 680, 'h': 1024, 'resize': 'fit'}}}]}, 'metadata': {'iso_language_code': 'en', 'result_type': 'recent'}, 'source': '<a href=\"http://twitter.com/download/android\" rel=\"nofollow\">Twitter for Android</a>', 'in_reply_to_status_id': None, 'in_reply_to_status_id_str': None, 'in_reply_to_user_id': None, 'in_reply_to_user_id_str': None, 'in_reply_to_screen_name': None, 'user': {'id': 782593548, 'id_str': '782593548', 'name': 'Raj Kishor Tiwari', 'screen_name': '1979Kishor', 'location': '', 'description': 'राष्ट्रभक्ति हमारी रगो मे हैं, जो देश विरोधी बात करेगा, उसे ये राष्ट्रभक्त.... करेगा !(100%फॉलो बैक )', 'url': None, 'entities': {'description': {'urls': []}}, 'protected': False, 'followers_count': 644, 'friends_count': 690, 'listed_count': 2, 'created_at': 'Sun Aug 26 14:56:54 +0000 2012', 'favourites_count': 8817, 'utc_offset': None, 'time_zone': None, 'geo_enabled': False, 'verified': False, 'statuses_count': 17644, 'lang': None, 'contributors_enabled': False, 'is_translator': False, 'is_translation_enabled': False, 'profile_background_color': 'C0DEED', 'profile_background_image_url': 'http://abs.twimg.com/images/themes/theme1/bg.png', 'profile_background_image_url_https': 'https://abs.twimg.com/images/themes/theme1/bg.png', 'profile_background_tile': False, 'profile_image_url': 'http://pbs.twimg.com/profile_images/1244112813003403264/YJMXlkhm_normal.jpg', 'profile_image_url_https': 'https://pbs.twimg.com/profile_images/1244112813003403264/YJMXlkhm_normal.jpg', 'profile_banner_url': 'https://pbs.twimg.com/profile_banners/782593548/1554283659', 'profile_link_color': '1DA1F2', 'profile_sidebar_border_color': 'C0DEED', 'profile_sidebar_fill_color': 'DDEEF6', 'profile_text_color': '333333', 'profile_use_background_image': True, 'has_extended_profile': True, 'default_profile': True, 'default_profile_image': False, 'following': False, 'follow_request_sent': False, 'notifications': False, 'translator_type': 'none'}, 'geo': None, 'coordinates': None, 'place': None, 'contributors': None, 'is_quote_status': False, 'retweet_count': 0, 'favorite_count': 0, 'favorited': False, 'retweeted': False, 'possibly_sensitive': False, 'lang': 'en'}, created_at=datetime.datetime(2020, 11, 2, 11, 45, 9), id=1323229657467035648, id_str='1323229657467035648', full_text=\"After PM Modi's speech in Chhapra, women supporters celebrate on Bhojpuri songs\\nhttps://t.co/f2iCf1rbSU\\n\\nvia NaMo App https://t.co/gJQy2yTLuf\", truncated=False, display_text_range=[0, 117], entities={'hashtags': [], 'symbols': [], 'user_mentions': [], 'urls': [{'url': 'https://t.co/f2iCf1rbSU', 'expanded_url': 'https://www.bhaskar.com/local/bihar/news/after-the-speech-of-pm-modi-in-chhapra-women-started-dancing-pm-narendra-modi-rally-in-chhapra-bihar-election-bjp-star-campaigner-in-bihar-election-127870953.html', 'display_url': 'bhaskar.com/local/bihar/ne…', 'indices': [80, 103]}], 'media': [{'id': 1323229609266085888, 'id_str': '1323229609266085888', 'indices': [118, 141], 'media_url': 'http://pbs.twimg.com/media/El0OUaCVgAALWkd.jpg', 'media_url_https': 'https://pbs.twimg.com/media/El0OUaCVgAALWkd.jpg', 'url': 'https://t.co/gJQy2yTLuf', 'display_url': 'pic.twitter.com/gJQy2yTLuf', 'expanded_url': 'https://twitter.com/1979Kishor/status/1323229657467035648/photo/1', 'type': 'photo', 'sizes': {'thumb': {'w': 150, 'h': 150, 'resize': 'crop'}, 'large': {'w': 680, 'h': 1024, 'resize': 'fit'}, 'small': {'w': 452, 'h': 680, 'resize': 'fit'}, 'medium': {'w': 680, 'h': 1024, 'resize': 'fit'}}}]}, extended_entities={'media': [{'id': 1323229609266085888, 'id_str': '1323229609266085888', 'indices': [118, 141], 'media_url': 'http://pbs.twimg.com/media/El0OUaCVgAALWkd.jpg', 'media_url_https': 'https://pbs.twimg.com/media/El0OUaCVgAALWkd.jpg', 'url': 'https://t.co/gJQy2yTLuf', 'display_url': 'pic.twitter.com/gJQy2yTLuf', 'expanded_url': 'https://twitter.com/1979Kishor/status/1323229657467035648/photo/1', 'type': 'photo', 'sizes': {'thumb': {'w': 150, 'h': 150, 'resize': 'crop'}, 'large': {'w': 680, 'h': 1024, 'resize': 'fit'}, 'small': {'w': 452, 'h': 680, 'resize': 'fit'}, 'medium': {'w': 680, 'h': 1024, 'resize': 'fit'}}}]}, metadata={'iso_language_code': 'en', 'result_type': 'recent'}, source='Twitter for Android', source_url='http://twitter.com/download/android', in_reply_to_status_id=None, in_reply_to_status_id_str=None, in_reply_to_user_id=None, in_reply_to_user_id_str=None, in_reply_to_screen_name=None, author=User(_api=<tweepy.api.API object at 0x000002FA89A1FC48>, _json={'id': 782593548, 'id_str': '782593548', 'name': 'Raj Kishor Tiwari', 'screen_name': '1979Kishor', 'location': '', 'description': 'राष्ट्रभक्ति हमारी रगो मे हैं, जो देश विरोधी बात करेगा, उसे ये राष्ट्रभक्त.... करेगा !(100%फॉलो बैक )', 'url': None, 'entities': {'description': {'urls': []}}, 'protected': False, 'followers_count': 644, 'friends_count': 690, 'listed_count': 2, 'created_at': 'Sun Aug 26 14:56:54 +0000 2012', 'favourites_count': 8817, 'utc_offset': None, 'time_zone': None, 'geo_enabled': False, 'verified': False, 'statuses_count': 17644, 'lang': None, 'contributors_enabled': False, 'is_translator': False, 'is_translation_enabled': False, 'profile_background_color': 'C0DEED', 'profile_background_image_url': 'http://abs.twimg.com/images/themes/theme1/bg.png', 'profile_background_image_url_https': 'https://abs.twimg.com/images/themes/theme1/bg.png', 'profile_background_tile': False, 'profile_image_url': 'http://pbs.twimg.com/profile_images/1244112813003403264/YJMXlkhm_normal.jpg', 'profile_image_url_https': 'https://pbs.twimg.com/profile_images/1244112813003403264/YJMXlkhm_normal.jpg', 'profile_banner_url': 'https://pbs.twimg.com/profile_banners/782593548/1554283659', 'profile_link_color': '1DA1F2', 'profile_sidebar_border_color': 'C0DEED', 'profile_sidebar_fill_color': 'DDEEF6', 'profile_text_color': '333333', 'profile_use_background_image': True, 'has_extended_profile': True, 'default_profile': True, 'default_profile_image': False, 'following': False, 'follow_request_sent': False, 'notifications': False, 'translator_type': 'none'}, id=782593548, id_str='782593548', name='Raj Kishor Tiwari', screen_name='1979Kishor', location='', description='राष्ट्रभक्ति हमारी रगो मे हैं, जो देश विरोधी बात करेगा, उसे ये राष्ट्रभक्त.... करेगा !(100%फॉलो बैक )', url=None, entities={'description': {'urls': []}}, protected=False, followers_count=644, friends_count=690, listed_count=2, created_at=datetime.datetime(2012, 8, 26, 14, 56, 54), favourites_count=8817, utc_offset=None, time_zone=None, geo_enabled=False, verified=False, statuses_count=17644, lang=None, contributors_enabled=False, is_translator=False, is_translation_enabled=False, profile_background_color='C0DEED', profile_background_image_url='http://abs.twimg.com/images/themes/theme1/bg.png', profile_background_image_url_https='https://abs.twimg.com/images/themes/theme1/bg.png', profile_background_tile=False, profile_image_url='http://pbs.twimg.com/profile_images/1244112813003403264/YJMXlkhm_normal.jpg', profile_image_url_https='https://pbs.twimg.com/profile_images/1244112813003403264/YJMXlkhm_normal.jpg', profile_banner_url='https://pbs.twimg.com/profile_banners/782593548/1554283659', profile_link_color='1DA1F2', profile_sidebar_border_color='C0DEED', profile_sidebar_fill_color='DDEEF6', profile_text_color='333333', profile_use_background_image=True, has_extended_profile=True, default_profile=True, default_profile_image=False, following=False, follow_request_sent=False, notifications=False, translator_type='none'), user=User(_api=<tweepy.api.API object at 0x000002FA89A1FC48>, _json={'id': 782593548, 'id_str': '782593548', 'name': 'Raj Kishor Tiwari', 'screen_name': '1979Kishor', 'location': '', 'description': 'राष्ट्रभक्ति हमारी रगो मे हैं, जो देश विरोधी बात करेगा, उसे ये राष्ट्रभक्त.... करेगा !(100%फॉलो बैक )', 'url': None, 'entities': {'description': {'urls': []}}, 'protected': False, 'followers_count': 644, 'friends_count': 690, 'listed_count': 2, 'created_at': 'Sun Aug 26 14:56:54 +0000 2012', 'favourites_count': 8817, 'utc_offset': None, 'time_zone': None, 'geo_enabled': False, 'verified': False, 'statuses_count': 17644, 'lang': None, 'contributors_enabled': False, 'is_translator': False, 'is_translation_enabled': False, 'profile_background_color': 'C0DEED', 'profile_background_image_url': 'http://abs.twimg.com/images/themes/theme1/bg.png', 'profile_background_image_url_https': 'https://abs.twimg.com/images/themes/theme1/bg.png', 'profile_background_tile': False, 'profile_image_url': 'http://pbs.twimg.com/profile_images/1244112813003403264/YJMXlkhm_normal.jpg', 'profile_image_url_https': 'https://pbs.twimg.com/profile_images/1244112813003403264/YJMXlkhm_normal.jpg', 'profile_banner_url': 'https://pbs.twimg.com/profile_banners/782593548/1554283659', 'profile_link_color': '1DA1F2', 'profile_sidebar_border_color': 'C0DEED', 'profile_sidebar_fill_color': 'DDEEF6', 'profile_text_color': '333333', 'profile_use_background_image': True, 'has_extended_profile': True, 'default_profile': True, 'default_profile_image': False, 'following': False, 'follow_request_sent': False, 'notifications': False, 'translator_type': 'none'}, id=782593548, id_str='782593548', name='Raj Kishor Tiwari', screen_name='1979Kishor', location='', description='राष्ट्रभक्ति हमारी रगो मे हैं, जो देश विरोधी बात करेगा, उसे ये राष्ट्रभक्त.... करेगा !(100%फॉलो बैक )', url=None, entities={'description': {'urls': []}}, protected=False, followers_count=644, friends_count=690, listed_count=2, created_at=datetime.datetime(2012, 8, 26, 14, 56, 54), favourites_count=8817, utc_offset=None, time_zone=None, geo_enabled=False, verified=False, statuses_count=17644, lang=None, contributors_enabled=False, is_translator=False, is_translation_enabled=False, profile_background_color='C0DEED', profile_background_image_url='http://abs.twimg.com/images/themes/theme1/bg.png', profile_background_image_url_https='https://abs.twimg.com/images/themes/theme1/bg.png', profile_background_tile=False, profile_image_url='http://pbs.twimg.com/profile_images/1244112813003403264/YJMXlkhm_normal.jpg', profile_image_url_https='https://pbs.twimg.com/profile_images/1244112813003403264/YJMXlkhm_normal.jpg', profile_banner_url='https://pbs.twimg.com/profile_banners/782593548/1554283659', profile_link_color='1DA1F2', profile_sidebar_border_color='C0DEED', profile_sidebar_fill_color='DDEEF6', profile_text_color='333333', profile_use_background_image=True, has_extended_profile=True, default_profile=True, default_profile_image=False, following=False, follow_request_sent=False, notifications=False, translator_type='none'), geo=None, coordinates=None, place=None, contributors=None, is_quote_status=False, retweet_count=0, favorite_count=0, favorited=False, retweeted=False, possibly_sensitive=False, lang='en') \n",
      "\n",
      "........................................\n",
      "\n",
      "Status(_api=<tweepy.api.API object at 0x000002FA89A1FC48>, _json={'created_at': 'Mon Nov 02 11:43:47 +0000 2020', 'id': 1323229313932566529, 'id_str': '1323229313932566529', 'full_text': \"And Finally Mandir-Masjid Politics has comes before in before the Bihar's second phase poll.\\n\\nAll knows that this has been pre planned by BJP to win the Election in Bihar on the name of Relegion, Mandir-Masjid Politics.\\n\\n#MathuraCase is just to win the elections nothing else.\", 'truncated': False, 'display_text_range': [0, 276], 'entities': {'hashtags': [{'text': 'MathuraCase', 'indices': [221, 233]}], 'symbols': [], 'user_mentions': [], 'urls': []}, 'metadata': {'iso_language_code': 'en', 'result_type': 'recent'}, 'source': '<a href=\"http://twitter.com/download/android\" rel=\"nofollow\">Twitter for Android</a>', 'in_reply_to_status_id': None, 'in_reply_to_status_id_str': None, 'in_reply_to_user_id': None, 'in_reply_to_user_id_str': None, 'in_reply_to_screen_name': None, 'user': {'id': 1228325263735324674, 'id_str': '1228325263735324674', 'name': 'Amir Choudhary(عامر چورھری)🥀', 'screen_name': 'Amir_Khatana_', 'location': 'Jammu And Kashmir', 'description': 'Law Student 🎓|| State Media Secretary @JKGBYWC|| Revolutionary Lover ||Part Time Writer || Inquilab Zindabad✌️', 'url': 'https://t.co/GdLFQqp5XX', 'entities': {'url': {'urls': [{'url': 'https://t.co/GdLFQqp5XX', 'expanded_url': 'https://www.facebook.com/amir.khatana.786', 'display_url': 'facebook.com/amir.khatana.7…', 'indices': [0, 23]}]}, 'description': {'urls': []}}, 'protected': False, 'followers_count': 1763, 'friends_count': 1093, 'listed_count': 1, 'created_at': 'Fri Feb 14 14:29:09 +0000 2020', 'favourites_count': 57060, 'utc_offset': None, 'time_zone': None, 'geo_enabled': False, 'verified': False, 'statuses_count': 2705, 'lang': None, 'contributors_enabled': False, 'is_translator': False, 'is_translation_enabled': False, 'profile_background_color': 'F5F8FA', 'profile_background_image_url': None, 'profile_background_image_url_https': None, 'profile_background_tile': False, 'profile_image_url': 'http://pbs.twimg.com/profile_images/1320359537409310725/4Nc3rB9p_normal.jpg', 'profile_image_url_https': 'https://pbs.twimg.com/profile_images/1320359537409310725/4Nc3rB9p_normal.jpg', 'profile_banner_url': 'https://pbs.twimg.com/profile_banners/1228325263735324674/1602477945', 'profile_link_color': '1DA1F2', 'profile_sidebar_border_color': 'C0DEED', 'profile_sidebar_fill_color': 'DDEEF6', 'profile_text_color': '333333', 'profile_use_background_image': True, 'has_extended_profile': False, 'default_profile': True, 'default_profile_image': False, 'following': False, 'follow_request_sent': False, 'notifications': False, 'translator_type': 'none'}, 'geo': None, 'coordinates': None, 'place': None, 'contributors': None, 'is_quote_status': False, 'retweet_count': 0, 'favorite_count': 2, 'favorited': False, 'retweeted': False, 'lang': 'en'}, created_at=datetime.datetime(2020, 11, 2, 11, 43, 47), id=1323229313932566529, id_str='1323229313932566529', full_text=\"And Finally Mandir-Masjid Politics has comes before in before the Bihar's second phase poll.\\n\\nAll knows that this has been pre planned by BJP to win the Election in Bihar on the name of Relegion, Mandir-Masjid Politics.\\n\\n#MathuraCase is just to win the elections nothing else.\", truncated=False, display_text_range=[0, 276], entities={'hashtags': [{'text': 'MathuraCase', 'indices': [221, 233]}], 'symbols': [], 'user_mentions': [], 'urls': []}, metadata={'iso_language_code': 'en', 'result_type': 'recent'}, source='Twitter for Android', source_url='http://twitter.com/download/android', in_reply_to_status_id=None, in_reply_to_status_id_str=None, in_reply_to_user_id=None, in_reply_to_user_id_str=None, in_reply_to_screen_name=None, author=User(_api=<tweepy.api.API object at 0x000002FA89A1FC48>, _json={'id': 1228325263735324674, 'id_str': '1228325263735324674', 'name': 'Amir Choudhary(عامر چورھری)🥀', 'screen_name': 'Amir_Khatana_', 'location': 'Jammu And Kashmir', 'description': 'Law Student 🎓|| State Media Secretary @JKGBYWC|| Revolutionary Lover ||Part Time Writer || Inquilab Zindabad✌️', 'url': 'https://t.co/GdLFQqp5XX', 'entities': {'url': {'urls': [{'url': 'https://t.co/GdLFQqp5XX', 'expanded_url': 'https://www.facebook.com/amir.khatana.786', 'display_url': 'facebook.com/amir.khatana.7…', 'indices': [0, 23]}]}, 'description': {'urls': []}}, 'protected': False, 'followers_count': 1763, 'friends_count': 1093, 'listed_count': 1, 'created_at': 'Fri Feb 14 14:29:09 +0000 2020', 'favourites_count': 57060, 'utc_offset': None, 'time_zone': None, 'geo_enabled': False, 'verified': False, 'statuses_count': 2705, 'lang': None, 'contributors_enabled': False, 'is_translator': False, 'is_translation_enabled': False, 'profile_background_color': 'F5F8FA', 'profile_background_image_url': None, 'profile_background_image_url_https': None, 'profile_background_tile': False, 'profile_image_url': 'http://pbs.twimg.com/profile_images/1320359537409310725/4Nc3rB9p_normal.jpg', 'profile_image_url_https': 'https://pbs.twimg.com/profile_images/1320359537409310725/4Nc3rB9p_normal.jpg', 'profile_banner_url': 'https://pbs.twimg.com/profile_banners/1228325263735324674/1602477945', 'profile_link_color': '1DA1F2', 'profile_sidebar_border_color': 'C0DEED', 'profile_sidebar_fill_color': 'DDEEF6', 'profile_text_color': '333333', 'profile_use_background_image': True, 'has_extended_profile': False, 'default_profile': True, 'default_profile_image': False, 'following': False, 'follow_request_sent': False, 'notifications': False, 'translator_type': 'none'}, id=1228325263735324674, id_str='1228325263735324674', name='Amir Choudhary(عامر چورھری)🥀', screen_name='Amir_Khatana_', location='Jammu And Kashmir', description='Law Student 🎓|| State Media Secretary @JKGBYWC|| Revolutionary Lover ||Part Time Writer || Inquilab Zindabad✌️', url='https://t.co/GdLFQqp5XX', entities={'url': {'urls': [{'url': 'https://t.co/GdLFQqp5XX', 'expanded_url': 'https://www.facebook.com/amir.khatana.786', 'display_url': 'facebook.com/amir.khatana.7…', 'indices': [0, 23]}]}, 'description': {'urls': []}}, protected=False, followers_count=1763, friends_count=1093, listed_count=1, created_at=datetime.datetime(2020, 2, 14, 14, 29, 9), favourites_count=57060, utc_offset=None, time_zone=None, geo_enabled=False, verified=False, statuses_count=2705, lang=None, contributors_enabled=False, is_translator=False, is_translation_enabled=False, profile_background_color='F5F8FA', profile_background_image_url=None, profile_background_image_url_https=None, profile_background_tile=False, profile_image_url='http://pbs.twimg.com/profile_images/1320359537409310725/4Nc3rB9p_normal.jpg', profile_image_url_https='https://pbs.twimg.com/profile_images/1320359537409310725/4Nc3rB9p_normal.jpg', profile_banner_url='https://pbs.twimg.com/profile_banners/1228325263735324674/1602477945', profile_link_color='1DA1F2', profile_sidebar_border_color='C0DEED', profile_sidebar_fill_color='DDEEF6', profile_text_color='333333', profile_use_background_image=True, has_extended_profile=False, default_profile=True, default_profile_image=False, following=False, follow_request_sent=False, notifications=False, translator_type='none'), user=User(_api=<tweepy.api.API object at 0x000002FA89A1FC48>, _json={'id': 1228325263735324674, 'id_str': '1228325263735324674', 'name': 'Amir Choudhary(عامر چورھری)🥀', 'screen_name': 'Amir_Khatana_', 'location': 'Jammu And Kashmir', 'description': 'Law Student 🎓|| State Media Secretary @JKGBYWC|| Revolutionary Lover ||Part Time Writer || Inquilab Zindabad✌️', 'url': 'https://t.co/GdLFQqp5XX', 'entities': {'url': {'urls': [{'url': 'https://t.co/GdLFQqp5XX', 'expanded_url': 'https://www.facebook.com/amir.khatana.786', 'display_url': 'facebook.com/amir.khatana.7…', 'indices': [0, 23]}]}, 'description': {'urls': []}}, 'protected': False, 'followers_count': 1763, 'friends_count': 1093, 'listed_count': 1, 'created_at': 'Fri Feb 14 14:29:09 +0000 2020', 'favourites_count': 57060, 'utc_offset': None, 'time_zone': None, 'geo_enabled': False, 'verified': False, 'statuses_count': 2705, 'lang': None, 'contributors_enabled': False, 'is_translator': False, 'is_translation_enabled': False, 'profile_background_color': 'F5F8FA', 'profile_background_image_url': None, 'profile_background_image_url_https': None, 'profile_background_tile': False, 'profile_image_url': 'http://pbs.twimg.com/profile_images/1320359537409310725/4Nc3rB9p_normal.jpg', 'profile_image_url_https': 'https://pbs.twimg.com/profile_images/1320359537409310725/4Nc3rB9p_normal.jpg', 'profile_banner_url': 'https://pbs.twimg.com/profile_banners/1228325263735324674/1602477945', 'profile_link_color': '1DA1F2', 'profile_sidebar_border_color': 'C0DEED', 'profile_sidebar_fill_color': 'DDEEF6', 'profile_text_color': '333333', 'profile_use_background_image': True, 'has_extended_profile': False, 'default_profile': True, 'default_profile_image': False, 'following': False, 'follow_request_sent': False, 'notifications': False, 'translator_type': 'none'}, id=1228325263735324674, id_str='1228325263735324674', name='Amir Choudhary(عامر چورھری)🥀', screen_name='Amir_Khatana_', location='Jammu And Kashmir', description='Law Student 🎓|| State Media Secretary @JKGBYWC|| Revolutionary Lover ||Part Time Writer || Inquilab Zindabad✌️', url='https://t.co/GdLFQqp5XX', entities={'url': {'urls': [{'url': 'https://t.co/GdLFQqp5XX', 'expanded_url': 'https://www.facebook.com/amir.khatana.786', 'display_url': 'facebook.com/amir.khatana.7…', 'indices': [0, 23]}]}, 'description': {'urls': []}}, protected=False, followers_count=1763, friends_count=1093, listed_count=1, created_at=datetime.datetime(2020, 2, 14, 14, 29, 9), favourites_count=57060, utc_offset=None, time_zone=None, geo_enabled=False, verified=False, statuses_count=2705, lang=None, contributors_enabled=False, is_translator=False, is_translation_enabled=False, profile_background_color='F5F8FA', profile_background_image_url=None, profile_background_image_url_https=None, profile_background_tile=False, profile_image_url='http://pbs.twimg.com/profile_images/1320359537409310725/4Nc3rB9p_normal.jpg', profile_image_url_https='https://pbs.twimg.com/profile_images/1320359537409310725/4Nc3rB9p_normal.jpg', profile_banner_url='https://pbs.twimg.com/profile_banners/1228325263735324674/1602477945', profile_link_color='1DA1F2', profile_sidebar_border_color='C0DEED', profile_sidebar_fill_color='DDEEF6', profile_text_color='333333', profile_use_background_image=True, has_extended_profile=False, default_profile=True, default_profile_image=False, following=False, follow_request_sent=False, notifications=False, translator_type='none'), geo=None, coordinates=None, place=None, contributors=None, is_quote_status=False, retweet_count=0, favorite_count=2, favorited=False, retweeted=False, lang='en') \n",
      "\n",
      "........................................\n",
      "\n",
      "Status(_api=<tweepy.api.API object at 0x000002FA89A1FC48>, _json={'created_at': 'Mon Nov 02 11:43:06 +0000 2020', 'id': 1323229140984623106, 'id_str': '1323229140984623106', 'full_text': '#BiharElections | For the past 10 years, the Harsidhi seat has seen a contest between the BJP and RJD\\n\\nVoting here to take place in phase 2 tomorrow. Know more about the constituency https://t.co/NUmPtgzthr\\n\\nComplete election coverage - https://t.co/4L6L9iyAKo\\n\\n#ElectionsWithHT https://t.co/9wdyvj3H3k', 'truncated': False, 'display_text_range': [0, 278], 'entities': {'hashtags': [{'text': 'BiharElections', 'indices': [0, 15]}, {'text': 'ElectionsWithHT', 'indices': [262, 278]}], 'symbols': [], 'user_mentions': [], 'urls': [{'url': 'https://t.co/NUmPtgzthr', 'expanded_url': 'https://bit.ly/34LZ1vU', 'display_url': 'bit.ly/34LZ1vU', 'indices': [183, 206]}, {'url': 'https://t.co/4L6L9iyAKo', 'expanded_url': 'http://hindustantimes.com/bihar-election/', 'display_url': 'hindustantimes.com/bihar-election/', 'indices': [237, 260]}], 'media': [{'id': 1323229129169268736, 'id_str': '1323229129169268736', 'indices': [279, 302], 'media_url': 'http://pbs.twimg.com/media/El0N4diVcAAqVe2.jpg', 'media_url_https': 'https://pbs.twimg.com/media/El0N4diVcAAqVe2.jpg', 'url': 'https://t.co/9wdyvj3H3k', 'display_url': 'pic.twitter.com/9wdyvj3H3k', 'expanded_url': 'https://twitter.com/htTweets/status/1323229140984623106/photo/1', 'type': 'photo', 'sizes': {'thumb': {'w': 150, 'h': 150, 'resize': 'crop'}, 'medium': {'w': 1200, 'h': 675, 'resize': 'fit'}, 'small': {'w': 680, 'h': 383, 'resize': 'fit'}, 'large': {'w': 1200, 'h': 675, 'resize': 'fit'}}}]}, 'extended_entities': {'media': [{'id': 1323229129169268736, 'id_str': '1323229129169268736', 'indices': [279, 302], 'media_url': 'http://pbs.twimg.com/media/El0N4diVcAAqVe2.jpg', 'media_url_https': 'https://pbs.twimg.com/media/El0N4diVcAAqVe2.jpg', 'url': 'https://t.co/9wdyvj3H3k', 'display_url': 'pic.twitter.com/9wdyvj3H3k', 'expanded_url': 'https://twitter.com/htTweets/status/1323229140984623106/photo/1', 'type': 'photo', 'sizes': {'thumb': {'w': 150, 'h': 150, 'resize': 'crop'}, 'medium': {'w': 1200, 'h': 675, 'resize': 'fit'}, 'small': {'w': 680, 'h': 383, 'resize': 'fit'}, 'large': {'w': 1200, 'h': 675, 'resize': 'fit'}}}]}, 'metadata': {'iso_language_code': 'en', 'result_type': 'recent'}, 'source': '<a href=\"https://about.twitter.com/products/tweetdeck\" rel=\"nofollow\">TweetDeck</a>', 'in_reply_to_status_id': None, 'in_reply_to_status_id_str': None, 'in_reply_to_user_id': None, 'in_reply_to_user_id_str': None, 'in_reply_to_screen_name': None, 'user': {'id': 36327407, 'id_str': '36327407', 'name': 'Hindustan Times', 'screen_name': 'htTweets', 'location': 'India', 'description': \"One of India's largest media companies. Latest news from around the world. Retweets are not endorsements\", 'url': 'https://t.co/yEyv2GeRpS', 'entities': {'url': {'urls': [{'url': 'https://t.co/yEyv2GeRpS', 'expanded_url': 'http://www.hindustantimes.com', 'display_url': 'hindustantimes.com', 'indices': [0, 23]}]}, 'description': {'urls': []}}, 'protected': False, 'followers_count': 7801126, 'friends_count': 125, 'listed_count': 7065, 'created_at': 'Wed Apr 29 10:11:34 +0000 2009', 'favourites_count': 2949, 'utc_offset': None, 'time_zone': None, 'geo_enabled': True, 'verified': True, 'statuses_count': 796313, 'lang': None, 'contributors_enabled': False, 'is_translator': False, 'is_translation_enabled': False, 'profile_background_color': '1A1B1F', 'profile_background_image_url': 'http://abs.twimg.com/images/themes/theme9/bg.gif', 'profile_background_image_url_https': 'https://abs.twimg.com/images/themes/theme9/bg.gif', 'profile_background_tile': False, 'profile_image_url': 'http://pbs.twimg.com/profile_images/1300145337617661952/Z6rMaX5R_normal.jpg', 'profile_image_url_https': 'https://pbs.twimg.com/profile_images/1300145337617661952/Z6rMaX5R_normal.jpg', 'profile_banner_url': 'https://pbs.twimg.com/profile_banners/36327407/1603844108', 'profile_link_color': '1D8BA1', 'profile_sidebar_border_color': 'FFFFFF', 'profile_sidebar_fill_color': 'BACAD4', 'profile_text_color': '1D1B1B', 'profile_use_background_image': True, 'has_extended_profile': False, 'default_profile': False, 'default_profile_image': False, 'following': False, 'follow_request_sent': False, 'notifications': False, 'translator_type': 'none'}, 'geo': None, 'coordinates': None, 'place': None, 'contributors': None, 'is_quote_status': False, 'retweet_count': 0, 'favorite_count': 8, 'favorited': False, 'retweeted': False, 'possibly_sensitive': False, 'lang': 'en'}, created_at=datetime.datetime(2020, 11, 2, 11, 43, 6), id=1323229140984623106, id_str='1323229140984623106', full_text='#BiharElections | For the past 10 years, the Harsidhi seat has seen a contest between the BJP and RJD\\n\\nVoting here to take place in phase 2 tomorrow. Know more about the constituency https://t.co/NUmPtgzthr\\n\\nComplete election coverage - https://t.co/4L6L9iyAKo\\n\\n#ElectionsWithHT https://t.co/9wdyvj3H3k', truncated=False, display_text_range=[0, 278], entities={'hashtags': [{'text': 'BiharElections', 'indices': [0, 15]}, {'text': 'ElectionsWithHT', 'indices': [262, 278]}], 'symbols': [], 'user_mentions': [], 'urls': [{'url': 'https://t.co/NUmPtgzthr', 'expanded_url': 'https://bit.ly/34LZ1vU', 'display_url': 'bit.ly/34LZ1vU', 'indices': [183, 206]}, {'url': 'https://t.co/4L6L9iyAKo', 'expanded_url': 'http://hindustantimes.com/bihar-election/', 'display_url': 'hindustantimes.com/bihar-election/', 'indices': [237, 260]}], 'media': [{'id': 1323229129169268736, 'id_str': '1323229129169268736', 'indices': [279, 302], 'media_url': 'http://pbs.twimg.com/media/El0N4diVcAAqVe2.jpg', 'media_url_https': 'https://pbs.twimg.com/media/El0N4diVcAAqVe2.jpg', 'url': 'https://t.co/9wdyvj3H3k', 'display_url': 'pic.twitter.com/9wdyvj3H3k', 'expanded_url': 'https://twitter.com/htTweets/status/1323229140984623106/photo/1', 'type': 'photo', 'sizes': {'thumb': {'w': 150, 'h': 150, 'resize': 'crop'}, 'medium': {'w': 1200, 'h': 675, 'resize': 'fit'}, 'small': {'w': 680, 'h': 383, 'resize': 'fit'}, 'large': {'w': 1200, 'h': 675, 'resize': 'fit'}}}]}, extended_entities={'media': [{'id': 1323229129169268736, 'id_str': '1323229129169268736', 'indices': [279, 302], 'media_url': 'http://pbs.twimg.com/media/El0N4diVcAAqVe2.jpg', 'media_url_https': 'https://pbs.twimg.com/media/El0N4diVcAAqVe2.jpg', 'url': 'https://t.co/9wdyvj3H3k', 'display_url': 'pic.twitter.com/9wdyvj3H3k', 'expanded_url': 'https://twitter.com/htTweets/status/1323229140984623106/photo/1', 'type': 'photo', 'sizes': {'thumb': {'w': 150, 'h': 150, 'resize': 'crop'}, 'medium': {'w': 1200, 'h': 675, 'resize': 'fit'}, 'small': {'w': 680, 'h': 383, 'resize': 'fit'}, 'large': {'w': 1200, 'h': 675, 'resize': 'fit'}}}]}, metadata={'iso_language_code': 'en', 'result_type': 'recent'}, source='TweetDeck', source_url='https://about.twitter.com/products/tweetdeck', in_reply_to_status_id=None, in_reply_to_status_id_str=None, in_reply_to_user_id=None, in_reply_to_user_id_str=None, in_reply_to_screen_name=None, author=User(_api=<tweepy.api.API object at 0x000002FA89A1FC48>, _json={'id': 36327407, 'id_str': '36327407', 'name': 'Hindustan Times', 'screen_name': 'htTweets', 'location': 'India', 'description': \"One of India's largest media companies. Latest news from around the world. Retweets are not endorsements\", 'url': 'https://t.co/yEyv2GeRpS', 'entities': {'url': {'urls': [{'url': 'https://t.co/yEyv2GeRpS', 'expanded_url': 'http://www.hindustantimes.com', 'display_url': 'hindustantimes.com', 'indices': [0, 23]}]}, 'description': {'urls': []}}, 'protected': False, 'followers_count': 7801126, 'friends_count': 125, 'listed_count': 7065, 'created_at': 'Wed Apr 29 10:11:34 +0000 2009', 'favourites_count': 2949, 'utc_offset': None, 'time_zone': None, 'geo_enabled': True, 'verified': True, 'statuses_count': 796313, 'lang': None, 'contributors_enabled': False, 'is_translator': False, 'is_translation_enabled': False, 'profile_background_color': '1A1B1F', 'profile_background_image_url': 'http://abs.twimg.com/images/themes/theme9/bg.gif', 'profile_background_image_url_https': 'https://abs.twimg.com/images/themes/theme9/bg.gif', 'profile_background_tile': False, 'profile_image_url': 'http://pbs.twimg.com/profile_images/1300145337617661952/Z6rMaX5R_normal.jpg', 'profile_image_url_https': 'https://pbs.twimg.com/profile_images/1300145337617661952/Z6rMaX5R_normal.jpg', 'profile_banner_url': 'https://pbs.twimg.com/profile_banners/36327407/1603844108', 'profile_link_color': '1D8BA1', 'profile_sidebar_border_color': 'FFFFFF', 'profile_sidebar_fill_color': 'BACAD4', 'profile_text_color': '1D1B1B', 'profile_use_background_image': True, 'has_extended_profile': False, 'default_profile': False, 'default_profile_image': False, 'following': False, 'follow_request_sent': False, 'notifications': False, 'translator_type': 'none'}, id=36327407, id_str='36327407', name='Hindustan Times', screen_name='htTweets', location='India', description=\"One of India's largest media companies. Latest news from around the world. Retweets are not endorsements\", url='https://t.co/yEyv2GeRpS', entities={'url': {'urls': [{'url': 'https://t.co/yEyv2GeRpS', 'expanded_url': 'http://www.hindustantimes.com', 'display_url': 'hindustantimes.com', 'indices': [0, 23]}]}, 'description': {'urls': []}}, protected=False, followers_count=7801126, friends_count=125, listed_count=7065, created_at=datetime.datetime(2009, 4, 29, 10, 11, 34), favourites_count=2949, utc_offset=None, time_zone=None, geo_enabled=True, verified=True, statuses_count=796313, lang=None, contributors_enabled=False, is_translator=False, is_translation_enabled=False, profile_background_color='1A1B1F', profile_background_image_url='http://abs.twimg.com/images/themes/theme9/bg.gif', profile_background_image_url_https='https://abs.twimg.com/images/themes/theme9/bg.gif', profile_background_tile=False, profile_image_url='http://pbs.twimg.com/profile_images/1300145337617661952/Z6rMaX5R_normal.jpg', profile_image_url_https='https://pbs.twimg.com/profile_images/1300145337617661952/Z6rMaX5R_normal.jpg', profile_banner_url='https://pbs.twimg.com/profile_banners/36327407/1603844108', profile_link_color='1D8BA1', profile_sidebar_border_color='FFFFFF', profile_sidebar_fill_color='BACAD4', profile_text_color='1D1B1B', profile_use_background_image=True, has_extended_profile=False, default_profile=False, default_profile_image=False, following=False, follow_request_sent=False, notifications=False, translator_type='none'), user=User(_api=<tweepy.api.API object at 0x000002FA89A1FC48>, _json={'id': 36327407, 'id_str': '36327407', 'name': 'Hindustan Times', 'screen_name': 'htTweets', 'location': 'India', 'description': \"One of India's largest media companies. Latest news from around the world. Retweets are not endorsements\", 'url': 'https://t.co/yEyv2GeRpS', 'entities': {'url': {'urls': [{'url': 'https://t.co/yEyv2GeRpS', 'expanded_url': 'http://www.hindustantimes.com', 'display_url': 'hindustantimes.com', 'indices': [0, 23]}]}, 'description': {'urls': []}}, 'protected': False, 'followers_count': 7801126, 'friends_count': 125, 'listed_count': 7065, 'created_at': 'Wed Apr 29 10:11:34 +0000 2009', 'favourites_count': 2949, 'utc_offset': None, 'time_zone': None, 'geo_enabled': True, 'verified': True, 'statuses_count': 796313, 'lang': None, 'contributors_enabled': False, 'is_translator': False, 'is_translation_enabled': False, 'profile_background_color': '1A1B1F', 'profile_background_image_url': 'http://abs.twimg.com/images/themes/theme9/bg.gif', 'profile_background_image_url_https': 'https://abs.twimg.com/images/themes/theme9/bg.gif', 'profile_background_tile': False, 'profile_image_url': 'http://pbs.twimg.com/profile_images/1300145337617661952/Z6rMaX5R_normal.jpg', 'profile_image_url_https': 'https://pbs.twimg.com/profile_images/1300145337617661952/Z6rMaX5R_normal.jpg', 'profile_banner_url': 'https://pbs.twimg.com/profile_banners/36327407/1603844108', 'profile_link_color': '1D8BA1', 'profile_sidebar_border_color': 'FFFFFF', 'profile_sidebar_fill_color': 'BACAD4', 'profile_text_color': '1D1B1B', 'profile_use_background_image': True, 'has_extended_profile': False, 'default_profile': False, 'default_profile_image': False, 'following': False, 'follow_request_sent': False, 'notifications': False, 'translator_type': 'none'}, id=36327407, id_str='36327407', name='Hindustan Times', screen_name='htTweets', location='India', description=\"One of India's largest media companies. Latest news from around the world. Retweets are not endorsements\", url='https://t.co/yEyv2GeRpS', entities={'url': {'urls': [{'url': 'https://t.co/yEyv2GeRpS', 'expanded_url': 'http://www.hindustantimes.com', 'display_url': 'hindustantimes.com', 'indices': [0, 23]}]}, 'description': {'urls': []}}, protected=False, followers_count=7801126, friends_count=125, listed_count=7065, created_at=datetime.datetime(2009, 4, 29, 10, 11, 34), favourites_count=2949, utc_offset=None, time_zone=None, geo_enabled=True, verified=True, statuses_count=796313, lang=None, contributors_enabled=False, is_translator=False, is_translation_enabled=False, profile_background_color='1A1B1F', profile_background_image_url='http://abs.twimg.com/images/themes/theme9/bg.gif', profile_background_image_url_https='https://abs.twimg.com/images/themes/theme9/bg.gif', profile_background_tile=False, profile_image_url='http://pbs.twimg.com/profile_images/1300145337617661952/Z6rMaX5R_normal.jpg', profile_image_url_https='https://pbs.twimg.com/profile_images/1300145337617661952/Z6rMaX5R_normal.jpg', profile_banner_url='https://pbs.twimg.com/profile_banners/36327407/1603844108', profile_link_color='1D8BA1', profile_sidebar_border_color='FFFFFF', profile_sidebar_fill_color='BACAD4', profile_text_color='1D1B1B', profile_use_background_image=True, has_extended_profile=False, default_profile=False, default_profile_image=False, following=False, follow_request_sent=False, notifications=False, translator_type='none'), geo=None, coordinates=None, place=None, contributors=None, is_quote_status=False, retweet_count=0, favorite_count=8, favorited=False, retweeted=False, possibly_sensitive=False, lang='en') \n",
      "\n",
      "........................................\n",
      "\n"
     ]
    }
   ],
   "source": [
    "Tweets = api.search(query, count = 10, lang = 'en', exclude = 'retweets', tweet_mode = 'extended')\n",
    "# tweet_mode = 'extended' - full text attribute\n",
    "# tweet_mode = 'compat' - extract tweets having only 140 characters\n",
    "\n",
    "for tweet in Tweets:\n",
    "    print(tweet,\"\\n\")\n",
    "    print(\"........................................\\n\")"
   ]
  },
  {
   "cell_type": "markdown",
   "metadata": {},
   "source": [
    "### Get Tweets and some Attributes"
   ]
  },
  {
   "cell_type": "markdown",
   "metadata": {},
   "source": [
    "tweepy.Cursor() - allow us to get as many tweets as we want"
   ]
  },
  {
   "cell_type": "code",
   "execution_count": 8,
   "metadata": {},
   "outputs": [
    {
     "name": "stdout",
     "output_type": "stream",
     "text": [
      "Empty DataFrame\n",
      "Columns: [Tweets, Users, User_status_count, user_followers, user_location, user_verified, fav_count, rt_count, tweet_date]\n",
      "Index: []\n",
      "(0, 9)\n"
     ]
    }
   ],
   "source": [
    "df = pd.DataFrame(columns= ['Tweets', 'Users', 'User_status_count', 'user_followers',\n",
    "                           'user_location', 'user_verified', 'fav_count', 'rt_count',\n",
    "                           'tweet_date'])\n",
    "print(df)\n",
    "print(df.shape)"
   ]
  },
  {
   "cell_type": "code",
   "execution_count": 9,
   "metadata": {},
   "outputs": [],
   "source": [
    "def stream(data, file_name):\n",
    "    i=0\n",
    "    for tweet in tweepy.Cursor(api.search, q=data, count=100, lang='en').items():\n",
    "        print(i, end='\\r')\n",
    "        df.loc[i, 'Tweets'] = tweet.text\n",
    "        df.loc[i, 'User'] = tweet.user.name\n",
    "        df.loc[i, 'User_status_count'] = tweet.user.statuses_count\n",
    "        df.loc[i, 'user_followers'] = tweet.user.followers_count\n",
    "        df.loc[i, 'user_location'] = tweet.user.location\n",
    "        df.loc[i, 'user_verified'] = tweet.user.verified\n",
    "        df.loc[i, 'fav_count'] = tweet.favorite_count\n",
    "        df.loc[i, 'rt_count'] = tweet.retweet_count\n",
    "        df.loc[i, 'tweet_date'] = tweet.created_at\n",
    "        \n",
    "        df.to_excel('{}.xlsx'.format(file_name))\n",
    "        i = i+1\n",
    "        if i == 1000:\n",
    "            break\n",
    "        else:\n",
    "            pass"
   ]
  },
  {
   "cell_type": "code",
   "execution_count": 10,
   "metadata": {},
   "outputs": [
    {
     "name": "stdout",
     "output_type": "stream",
     "text": [
      "999\r"
     ]
    }
   ],
   "source": [
    "stream(data=['bjp election in bihar'],file_name='my_tweets')"
   ]
  },
  {
   "cell_type": "code",
   "execution_count": 11,
   "metadata": {},
   "outputs": [
    {
     "data": {
      "text/html": [
       "<div>\n",
       "<style scoped>\n",
       "    .dataframe tbody tr th:only-of-type {\n",
       "        vertical-align: middle;\n",
       "    }\n",
       "\n",
       "    .dataframe tbody tr th {\n",
       "        vertical-align: top;\n",
       "    }\n",
       "\n",
       "    .dataframe thead th {\n",
       "        text-align: right;\n",
       "    }\n",
       "</style>\n",
       "<table border=\"1\" class=\"dataframe\">\n",
       "  <thead>\n",
       "    <tr style=\"text-align: right;\">\n",
       "      <th></th>\n",
       "      <th>Tweets</th>\n",
       "      <th>Users</th>\n",
       "      <th>User_status_count</th>\n",
       "      <th>user_followers</th>\n",
       "      <th>user_location</th>\n",
       "      <th>user_verified</th>\n",
       "      <th>fav_count</th>\n",
       "      <th>rt_count</th>\n",
       "      <th>tweet_date</th>\n",
       "      <th>User</th>\n",
       "    </tr>\n",
       "  </thead>\n",
       "  <tbody>\n",
       "    <tr>\n",
       "      <th>0</th>\n",
       "      <td>#BiharElections2020 | Siwan has been BJP stron...</td>\n",
       "      <td>NaN</td>\n",
       "      <td>796313</td>\n",
       "      <td>7801126</td>\n",
       "      <td>India</td>\n",
       "      <td>True</td>\n",
       "      <td>0</td>\n",
       "      <td>0</td>\n",
       "      <td>2020-11-02 12:27:26</td>\n",
       "      <td>Hindustan Times</td>\n",
       "    </tr>\n",
       "    <tr>\n",
       "      <th>1</th>\n",
       "      <td>RT @NarundarM: \"Baba Ka Dhaba\" gathered more c...</td>\n",
       "      <td>NaN</td>\n",
       "      <td>27828</td>\n",
       "      <td>493</td>\n",
       "      <td>Reston, VA</td>\n",
       "      <td>False</td>\n",
       "      <td>0</td>\n",
       "      <td>73</td>\n",
       "      <td>2020-11-02 12:26:19</td>\n",
       "      <td>Rofl bhakt 🏹</td>\n",
       "    </tr>\n",
       "    <tr>\n",
       "      <th>2</th>\n",
       "      <td>After PM Modi's speech in Chhapra, women suppo...</td>\n",
       "      <td>NaN</td>\n",
       "      <td>99816</td>\n",
       "      <td>1226</td>\n",
       "      <td>India</td>\n",
       "      <td>False</td>\n",
       "      <td>0</td>\n",
       "      <td>0</td>\n",
       "      <td>2020-11-02 12:23:35</td>\n",
       "      <td>हरीश भारतीय</td>\n",
       "    </tr>\n",
       "    <tr>\n",
       "      <th>3</th>\n",
       "      <td>RT @SurajKrBauddh: Without taking name (help) ...</td>\n",
       "      <td>NaN</td>\n",
       "      <td>1186</td>\n",
       "      <td>51869</td>\n",
       "      <td>New Delhi, India</td>\n",
       "      <td>True</td>\n",
       "      <td>0</td>\n",
       "      <td>13</td>\n",
       "      <td>2020-11-02 12:23:26</td>\n",
       "      <td>Suraj Kumar Bauddh</td>\n",
       "    </tr>\n",
       "    <tr>\n",
       "      <th>4</th>\n",
       "      <td>RT @NarundarM: \"Baba Ka Dhaba\" gathered more c...</td>\n",
       "      <td>NaN</td>\n",
       "      <td>12471</td>\n",
       "      <td>421</td>\n",
       "      <td></td>\n",
       "      <td>False</td>\n",
       "      <td>0</td>\n",
       "      <td>73</td>\n",
       "      <td>2020-11-02 12:20:34</td>\n",
       "      <td>कैलाश प्रधान</td>\n",
       "    </tr>\n",
       "  </tbody>\n",
       "</table>\n",
       "</div>"
      ],
      "text/plain": [
       "                                              Tweets Users User_status_count  \\\n",
       "0  #BiharElections2020 | Siwan has been BJP stron...   NaN            796313   \n",
       "1  RT @NarundarM: \"Baba Ka Dhaba\" gathered more c...   NaN             27828   \n",
       "2  After PM Modi's speech in Chhapra, women suppo...   NaN             99816   \n",
       "3  RT @SurajKrBauddh: Without taking name (help) ...   NaN              1186   \n",
       "4  RT @NarundarM: \"Baba Ka Dhaba\" gathered more c...   NaN             12471   \n",
       "\n",
       "  user_followers     user_location user_verified fav_count rt_count  \\\n",
       "0        7801126             India          True         0        0   \n",
       "1            493        Reston, VA         False         0       73   \n",
       "2           1226             India         False         0        0   \n",
       "3          51869  New Delhi, India          True         0       13   \n",
       "4            421                           False         0       73   \n",
       "\n",
       "            tweet_date                User  \n",
       "0  2020-11-02 12:27:26     Hindustan Times  \n",
       "1  2020-11-02 12:26:19        Rofl bhakt 🏹  \n",
       "2  2020-11-02 12:23:35         हरीश भारतीय  \n",
       "3  2020-11-02 12:23:26  Suraj Kumar Bauddh  \n",
       "4  2020-11-02 12:20:34        कैलाश प्रधान  "
      ]
     },
     "execution_count": 11,
     "metadata": {},
     "output_type": "execute_result"
    }
   ],
   "source": [
    "df.head()"
   ]
  },
  {
   "cell_type": "code",
   "execution_count": 12,
   "metadata": {},
   "outputs": [
    {
     "name": "stdout",
     "output_type": "stream",
     "text": [
      "Requirement already satisfied: textblob in c:\\users\\komal\\anaconda3\\lib\\site-packages (0.15.3)\n",
      "Requirement already satisfied: nltk>=3.1 in c:\\users\\komal\\anaconda3\\lib\\site-packages (from textblob) (3.4.5)\n",
      "Requirement already satisfied: six in c:\\users\\komal\\anaconda3\\lib\\site-packages (from nltk>=3.1->textblob) (1.14.0)\n"
     ]
    }
   ],
   "source": [
    "!pip install textblob "
   ]
  },
  {
   "cell_type": "markdown",
   "metadata": {},
   "source": [
    "#### return sentiment(polarity, subjectivity)\n",
    "\n",
    "#### Polarity score : [-1, +1]\n",
    "\n",
    "#### Subjectivity : [0.0, 1.0]\n",
    "\n",
    "#### where 0.0 is very objectivity and 1.0 is very subjective"
   ]
  },
  {
   "cell_type": "code",
   "execution_count": 13,
   "metadata": {},
   "outputs": [],
   "source": [
    "from textblob import TextBlob"
   ]
  },
  {
   "cell_type": "code",
   "execution_count": 14,
   "metadata": {},
   "outputs": [],
   "source": [
    "import re\n",
    "def clean_tweet(tweet):\n",
    "    return ' '.join(re.sub('(@[A-Za-z0-9]+)|([^0-9A-Za-z \\t])|(\\w+:\\/\\/\\S+)', ' ',tweet).split())"
   ]
  },
  {
   "cell_type": "code",
   "execution_count": 15,
   "metadata": {},
   "outputs": [],
   "source": [
    "def analyze_sentiment(tweet):\n",
    "    analysis = TextBlob(tweet)\n",
    "    if analysis.sentiment.polarity > 0:\n",
    "        return 'Positive'\n",
    "    elif analysis.sentiment.polarity == 0:\n",
    "        return 'Neutral'\n",
    "    else:\n",
    "        return 'Negative'"
   ]
  },
  {
   "cell_type": "code",
   "execution_count": 16,
   "metadata": {},
   "outputs": [],
   "source": [
    "df['clean_tweet'] = df['Tweets'].apply(lambda x : clean_tweet(x))"
   ]
  },
  {
   "cell_type": "code",
   "execution_count": 17,
   "metadata": {},
   "outputs": [
    {
     "data": {
      "text/html": [
       "<div>\n",
       "<style scoped>\n",
       "    .dataframe tbody tr th:only-of-type {\n",
       "        vertical-align: middle;\n",
       "    }\n",
       "\n",
       "    .dataframe tbody tr th {\n",
       "        vertical-align: top;\n",
       "    }\n",
       "\n",
       "    .dataframe thead th {\n",
       "        text-align: right;\n",
       "    }\n",
       "</style>\n",
       "<table border=\"1\" class=\"dataframe\">\n",
       "  <thead>\n",
       "    <tr style=\"text-align: right;\">\n",
       "      <th></th>\n",
       "      <th>Tweets</th>\n",
       "      <th>Users</th>\n",
       "      <th>User_status_count</th>\n",
       "      <th>user_followers</th>\n",
       "      <th>user_location</th>\n",
       "      <th>user_verified</th>\n",
       "      <th>fav_count</th>\n",
       "      <th>rt_count</th>\n",
       "      <th>tweet_date</th>\n",
       "      <th>User</th>\n",
       "      <th>clean_tweet</th>\n",
       "    </tr>\n",
       "  </thead>\n",
       "  <tbody>\n",
       "    <tr>\n",
       "      <th>0</th>\n",
       "      <td>#BiharElections2020 | Siwan has been BJP stron...</td>\n",
       "      <td>NaN</td>\n",
       "      <td>796313</td>\n",
       "      <td>7801126</td>\n",
       "      <td>India</td>\n",
       "      <td>True</td>\n",
       "      <td>0</td>\n",
       "      <td>0</td>\n",
       "      <td>2020-11-02 12:27:26</td>\n",
       "      <td>Hindustan Times</td>\n",
       "      <td>BiharElections2020 Siwan has been BJP strongho...</td>\n",
       "    </tr>\n",
       "    <tr>\n",
       "      <th>1</th>\n",
       "      <td>RT @NarundarM: \"Baba Ka Dhaba\" gathered more c...</td>\n",
       "      <td>NaN</td>\n",
       "      <td>27828</td>\n",
       "      <td>493</td>\n",
       "      <td>Reston, VA</td>\n",
       "      <td>False</td>\n",
       "      <td>0</td>\n",
       "      <td>73</td>\n",
       "      <td>2020-11-02 12:26:19</td>\n",
       "      <td>Rofl bhakt 🏹</td>\n",
       "      <td>RT Baba Ka Dhaba gathered more crowd than BJP ...</td>\n",
       "    </tr>\n",
       "    <tr>\n",
       "      <th>2</th>\n",
       "      <td>After PM Modi's speech in Chhapra, women suppo...</td>\n",
       "      <td>NaN</td>\n",
       "      <td>99816</td>\n",
       "      <td>1226</td>\n",
       "      <td>India</td>\n",
       "      <td>False</td>\n",
       "      <td>0</td>\n",
       "      <td>0</td>\n",
       "      <td>2020-11-02 12:23:35</td>\n",
       "      <td>हरीश भारतीय</td>\n",
       "      <td>After PM Modi s speech in Chhapra women suppor...</td>\n",
       "    </tr>\n",
       "    <tr>\n",
       "      <th>3</th>\n",
       "      <td>RT @SurajKrBauddh: Without taking name (help) ...</td>\n",
       "      <td>NaN</td>\n",
       "      <td>1186</td>\n",
       "      <td>51869</td>\n",
       "      <td>New Delhi, India</td>\n",
       "      <td>True</td>\n",
       "      <td>0</td>\n",
       "      <td>13</td>\n",
       "      <td>2020-11-02 12:23:26</td>\n",
       "      <td>Suraj Kumar Bauddh</td>\n",
       "      <td>RT Without taking name help of Pakistan BJP ca...</td>\n",
       "    </tr>\n",
       "    <tr>\n",
       "      <th>4</th>\n",
       "      <td>RT @NarundarM: \"Baba Ka Dhaba\" gathered more c...</td>\n",
       "      <td>NaN</td>\n",
       "      <td>12471</td>\n",
       "      <td>421</td>\n",
       "      <td></td>\n",
       "      <td>False</td>\n",
       "      <td>0</td>\n",
       "      <td>73</td>\n",
       "      <td>2020-11-02 12:20:34</td>\n",
       "      <td>कैलाश प्रधान</td>\n",
       "      <td>RT Baba Ka Dhaba gathered more crowd than BJP ...</td>\n",
       "    </tr>\n",
       "  </tbody>\n",
       "</table>\n",
       "</div>"
      ],
      "text/plain": [
       "                                              Tweets Users User_status_count  \\\n",
       "0  #BiharElections2020 | Siwan has been BJP stron...   NaN            796313   \n",
       "1  RT @NarundarM: \"Baba Ka Dhaba\" gathered more c...   NaN             27828   \n",
       "2  After PM Modi's speech in Chhapra, women suppo...   NaN             99816   \n",
       "3  RT @SurajKrBauddh: Without taking name (help) ...   NaN              1186   \n",
       "4  RT @NarundarM: \"Baba Ka Dhaba\" gathered more c...   NaN             12471   \n",
       "\n",
       "  user_followers     user_location user_verified fav_count rt_count  \\\n",
       "0        7801126             India          True         0        0   \n",
       "1            493        Reston, VA         False         0       73   \n",
       "2           1226             India         False         0        0   \n",
       "3          51869  New Delhi, India          True         0       13   \n",
       "4            421                           False         0       73   \n",
       "\n",
       "            tweet_date                User  \\\n",
       "0  2020-11-02 12:27:26     Hindustan Times   \n",
       "1  2020-11-02 12:26:19        Rofl bhakt 🏹   \n",
       "2  2020-11-02 12:23:35         हरीश भारतीय   \n",
       "3  2020-11-02 12:23:26  Suraj Kumar Bauddh   \n",
       "4  2020-11-02 12:20:34        कैलाश प्रधान   \n",
       "\n",
       "                                         clean_tweet  \n",
       "0  BiharElections2020 Siwan has been BJP strongho...  \n",
       "1  RT Baba Ka Dhaba gathered more crowd than BJP ...  \n",
       "2  After PM Modi s speech in Chhapra women suppor...  \n",
       "3  RT Without taking name help of Pakistan BJP ca...  \n",
       "4  RT Baba Ka Dhaba gathered more crowd than BJP ...  "
      ]
     },
     "execution_count": 17,
     "metadata": {},
     "output_type": "execute_result"
    }
   ],
   "source": [
    "df.head()"
   ]
  },
  {
   "cell_type": "code",
   "execution_count": 18,
   "metadata": {},
   "outputs": [
    {
     "data": {
      "text/html": [
       "<div>\n",
       "<style scoped>\n",
       "    .dataframe tbody tr th:only-of-type {\n",
       "        vertical-align: middle;\n",
       "    }\n",
       "\n",
       "    .dataframe tbody tr th {\n",
       "        vertical-align: top;\n",
       "    }\n",
       "\n",
       "    .dataframe thead th {\n",
       "        text-align: right;\n",
       "    }\n",
       "</style>\n",
       "<table border=\"1\" class=\"dataframe\">\n",
       "  <thead>\n",
       "    <tr style=\"text-align: right;\">\n",
       "      <th></th>\n",
       "      <th>Tweets</th>\n",
       "      <th>Users</th>\n",
       "      <th>User_status_count</th>\n",
       "      <th>user_followers</th>\n",
       "      <th>user_location</th>\n",
       "      <th>user_verified</th>\n",
       "      <th>fav_count</th>\n",
       "      <th>rt_count</th>\n",
       "      <th>tweet_date</th>\n",
       "      <th>User</th>\n",
       "      <th>clean_tweet</th>\n",
       "      <th>Sentiment</th>\n",
       "    </tr>\n",
       "  </thead>\n",
       "  <tbody>\n",
       "    <tr>\n",
       "      <th>0</th>\n",
       "      <td>#BiharElections2020 | Siwan has been BJP stron...</td>\n",
       "      <td>NaN</td>\n",
       "      <td>796313</td>\n",
       "      <td>7801126</td>\n",
       "      <td>India</td>\n",
       "      <td>True</td>\n",
       "      <td>0</td>\n",
       "      <td>0</td>\n",
       "      <td>2020-11-02 12:27:26</td>\n",
       "      <td>Hindustan Times</td>\n",
       "      <td>BiharElections2020 Siwan has been BJP strongho...</td>\n",
       "      <td>Positive</td>\n",
       "    </tr>\n",
       "    <tr>\n",
       "      <th>1</th>\n",
       "      <td>RT @NarundarM: \"Baba Ka Dhaba\" gathered more c...</td>\n",
       "      <td>NaN</td>\n",
       "      <td>27828</td>\n",
       "      <td>493</td>\n",
       "      <td>Reston, VA</td>\n",
       "      <td>False</td>\n",
       "      <td>0</td>\n",
       "      <td>73</td>\n",
       "      <td>2020-11-02 12:26:19</td>\n",
       "      <td>Rofl bhakt 🏹</td>\n",
       "      <td>RT Baba Ka Dhaba gathered more crowd than BJP ...</td>\n",
       "      <td>Positive</td>\n",
       "    </tr>\n",
       "    <tr>\n",
       "      <th>2</th>\n",
       "      <td>After PM Modi's speech in Chhapra, women suppo...</td>\n",
       "      <td>NaN</td>\n",
       "      <td>99816</td>\n",
       "      <td>1226</td>\n",
       "      <td>India</td>\n",
       "      <td>False</td>\n",
       "      <td>0</td>\n",
       "      <td>0</td>\n",
       "      <td>2020-11-02 12:23:35</td>\n",
       "      <td>हरीश भारतीय</td>\n",
       "      <td>After PM Modi s speech in Chhapra women suppor...</td>\n",
       "      <td>Neutral</td>\n",
       "    </tr>\n",
       "    <tr>\n",
       "      <th>3</th>\n",
       "      <td>RT @SurajKrBauddh: Without taking name (help) ...</td>\n",
       "      <td>NaN</td>\n",
       "      <td>1186</td>\n",
       "      <td>51869</td>\n",
       "      <td>New Delhi, India</td>\n",
       "      <td>True</td>\n",
       "      <td>0</td>\n",
       "      <td>13</td>\n",
       "      <td>2020-11-02 12:23:26</td>\n",
       "      <td>Suraj Kumar Bauddh</td>\n",
       "      <td>RT Without taking name help of Pakistan BJP ca...</td>\n",
       "      <td>Positive</td>\n",
       "    </tr>\n",
       "    <tr>\n",
       "      <th>4</th>\n",
       "      <td>RT @NarundarM: \"Baba Ka Dhaba\" gathered more c...</td>\n",
       "      <td>NaN</td>\n",
       "      <td>12471</td>\n",
       "      <td>421</td>\n",
       "      <td></td>\n",
       "      <td>False</td>\n",
       "      <td>0</td>\n",
       "      <td>73</td>\n",
       "      <td>2020-11-02 12:20:34</td>\n",
       "      <td>कैलाश प्रधान</td>\n",
       "      <td>RT Baba Ka Dhaba gathered more crowd than BJP ...</td>\n",
       "      <td>Positive</td>\n",
       "    </tr>\n",
       "  </tbody>\n",
       "</table>\n",
       "</div>"
      ],
      "text/plain": [
       "                                              Tweets Users User_status_count  \\\n",
       "0  #BiharElections2020 | Siwan has been BJP stron...   NaN            796313   \n",
       "1  RT @NarundarM: \"Baba Ka Dhaba\" gathered more c...   NaN             27828   \n",
       "2  After PM Modi's speech in Chhapra, women suppo...   NaN             99816   \n",
       "3  RT @SurajKrBauddh: Without taking name (help) ...   NaN              1186   \n",
       "4  RT @NarundarM: \"Baba Ka Dhaba\" gathered more c...   NaN             12471   \n",
       "\n",
       "  user_followers     user_location user_verified fav_count rt_count  \\\n",
       "0        7801126             India          True         0        0   \n",
       "1            493        Reston, VA         False         0       73   \n",
       "2           1226             India         False         0        0   \n",
       "3          51869  New Delhi, India          True         0       13   \n",
       "4            421                           False         0       73   \n",
       "\n",
       "            tweet_date                User  \\\n",
       "0  2020-11-02 12:27:26     Hindustan Times   \n",
       "1  2020-11-02 12:26:19        Rofl bhakt 🏹   \n",
       "2  2020-11-02 12:23:35         हरीश भारतीय   \n",
       "3  2020-11-02 12:23:26  Suraj Kumar Bauddh   \n",
       "4  2020-11-02 12:20:34        कैलाश प्रधान   \n",
       "\n",
       "                                         clean_tweet Sentiment  \n",
       "0  BiharElections2020 Siwan has been BJP strongho...  Positive  \n",
       "1  RT Baba Ka Dhaba gathered more crowd than BJP ...  Positive  \n",
       "2  After PM Modi s speech in Chhapra women suppor...   Neutral  \n",
       "3  RT Without taking name help of Pakistan BJP ca...  Positive  \n",
       "4  RT Baba Ka Dhaba gathered more crowd than BJP ...  Positive  "
      ]
     },
     "execution_count": 18,
     "metadata": {},
     "output_type": "execute_result"
    }
   ],
   "source": [
    "df['Sentiment'] = df['clean_tweet'].apply(lambda x : analyze_sentiment(x))\n",
    "df.head()"
   ]
  },
  {
   "cell_type": "code",
   "execution_count": 19,
   "metadata": {},
   "outputs": [
    {
     "name": "stdout",
     "output_type": "stream",
     "text": [
      "Original tweet:\n",
      " RT @NarundarM: \"Baba Ka Dhaba\" gathered more crowd than BJP leaders election rallies in Bihar.\n",
      "\n",
      "Clean tweet:\n",
      " RT Baba Ka Dhaba gathered more crowd than BJP leaders election rallies in Bihar\n",
      "\n",
      "Sentiment tweet:\n",
      " Positive\n"
     ]
    }
   ],
   "source": [
    "n = 1\n",
    "print(\"Original tweet:\\n\", df['Tweets'][n])\n",
    "print()\n",
    "print(\"Clean tweet:\\n\", df['clean_tweet'][n])\n",
    "print()\n",
    "print(\"Sentiment tweet:\\n\", df['Sentiment'][n])"
   ]
  },
  {
   "cell_type": "code",
   "execution_count": 20,
   "metadata": {},
   "outputs": [
    {
     "name": "stdout",
     "output_type": "stream",
     "text": [
      "Original tweet:\n",
      " RT @IMurugesh: After PM Modi's speech in Chhapra, women supporters celebrate on Bhojpuri songs\n",
      "https://t.co/Qew5QKVQBW\n",
      "\n",
      "via NaMo App https:…\n",
      "\n",
      "Clean tweet:\n",
      " RT After PM Modi s speech in Chhapra women supporters celebrate on Bhojpuri songs via NaMo App https\n",
      "\n",
      "Sentiment tweet:\n",
      " Neutral\n"
     ]
    }
   ],
   "source": [
    "n = 25\n",
    "print(\"Original tweet:\\n\", df['Tweets'][n])\n",
    "print()\n",
    "print(\"Clean tweet:\\n\", df['clean_tweet'][n])\n",
    "print()\n",
    "print(\"Sentiment tweet:\\n\", df['Sentiment'][n])"
   ]
  },
  {
   "cell_type": "code",
   "execution_count": 21,
   "metadata": {},
   "outputs": [
    {
     "name": "stdout",
     "output_type": "stream",
     "text": [
      "Original tweet:\n",
      " RT @TimesNow: Most anticipated election interview on TIMES NOW. \n",
      "\n",
      "Is Nitish the CM face and BJP the big boss?\n",
      "\n",
      "Who is the vote puller: PM @…\n",
      "\n",
      "Clean tweet:\n",
      " RT Most anticipated election interview on TIMES NOW Is Nitish the CM face and BJP the big boss Who is the vote puller PM\n",
      "\n",
      "Sentiment tweet:\n",
      " Positive\n"
     ]
    }
   ],
   "source": [
    "n = 500\n",
    "print(\"Original tweet:\\n\", df['Tweets'][n])\n",
    "print()\n",
    "print(\"Clean tweet:\\n\", df['clean_tweet'][n])\n",
    "print()\n",
    "print(\"Sentiment tweet:\\n\", df['Sentiment'][n])"
   ]
  },
  {
   "cell_type": "code",
   "execution_count": 22,
   "metadata": {},
   "outputs": [
    {
     "name": "stdout",
     "output_type": "stream",
     "text": [
      "Original tweet:\n",
      " RT @AhmedBilal_JK: In fiirst phase of Bihar election, people voted in favour of Mahagathbandhan.\n",
      "\n",
      "JDU &amp; BJP abandoned labourers during lock…\n",
      "\n",
      "Clean tweet:\n",
      " RT JK In fiirst phase of Bihar election people voted in favour of Mahagathbandhan JDU amp BJP abandoned labourers during lock\n",
      "\n",
      "Sentiment tweet:\n",
      " Neutral\n"
     ]
    }
   ],
   "source": [
    "n = 777\n",
    "print(\"Original tweet:\\n\", df['Tweets'][n])\n",
    "print()\n",
    "print(\"Clean tweet:\\n\", df['clean_tweet'][n])\n",
    "print()\n",
    "print(\"Sentiment tweet:\\n\", df['Sentiment'][n])"
   ]
  },
  {
   "cell_type": "code",
   "execution_count": 23,
   "metadata": {},
   "outputs": [
    {
     "data": {
      "text/plain": [
       "237"
      ]
     },
     "execution_count": 23,
     "metadata": {},
     "output_type": "execute_result"
    }
   ],
   "source": [
    "df[df.Sentiment == 'Positive'].shape[0]"
   ]
  },
  {
   "cell_type": "code",
   "execution_count": 24,
   "metadata": {},
   "outputs": [
    {
     "data": {
      "text/plain": [
       "698"
      ]
     },
     "execution_count": 24,
     "metadata": {},
     "output_type": "execute_result"
    }
   ],
   "source": [
    "df[df.Sentiment == 'Neutral'].shape[0]"
   ]
  },
  {
   "cell_type": "code",
   "execution_count": 25,
   "metadata": {},
   "outputs": [
    {
     "data": {
      "text/plain": [
       "65"
      ]
     },
     "execution_count": 25,
     "metadata": {},
     "output_type": "execute_result"
    }
   ],
   "source": [
    "df[df.Sentiment == 'Negative'].shape[0]"
   ]
  },
  {
   "cell_type": "code",
   "execution_count": null,
   "metadata": {},
   "outputs": [],
   "source": []
  }
 ],
 "metadata": {
  "kernelspec": {
   "display_name": "Python 3",
   "language": "python",
   "name": "python3"
  },
  "language_info": {
   "codemirror_mode": {
    "name": "ipython",
    "version": 3
   },
   "file_extension": ".py",
   "mimetype": "text/x-python",
   "name": "python",
   "nbconvert_exporter": "python",
   "pygments_lexer": "ipython3",
   "version": "3.7.6"
  }
 },
 "nbformat": 4,
 "nbformat_minor": 4
}
