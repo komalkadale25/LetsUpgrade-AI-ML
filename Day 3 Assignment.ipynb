{
 "cells": [
  {
   "cell_type": "markdown",
   "metadata": {},
   "source": [
    "# Assignment Day 3 | 8th July 2020¶\n"
   ]
  },
  {
   "cell_type": "markdown",
   "metadata": {},
   "source": [
    "**1. write a program to subtract two complex numbers in python**"
   ]
  },
  {
   "cell_type": "code",
   "execution_count": 21,
   "metadata": {},
   "outputs": [
    {
     "name": "stdout",
     "output_type": "stream",
     "text": [
      "Enter 1st no: 2+4j\n",
      "Enter 1st no:1+2j\n",
      "Subtraction is :  (1+2j)\n"
     ]
    }
   ],
   "source": [
    "def Compl( a, b): \n",
    "    return a-b \n",
    "  \n",
    "a = complex(input('Enter 1st no: '))\n",
    "b = complex(input('Enter 1st no:' )) \n",
    "print( \"Subtraction is : \", Compl(a, b)) \n",
    "    \n",
    "\n",
    "    \n",
    "    "
   ]
  },
  {
   "cell_type": "code",
   "execution_count": 2,
   "metadata": {},
   "outputs": [
    {
     "name": "stdout",
     "output_type": "stream",
     "text": [
      "Subtraction is :  (1+1j)\n"
     ]
    }
   ],
   "source": [
    "e = complex(2, 3) \n",
    "f = complex(1, 2) \n",
    "c=e-f\n",
    "\n",
    "print( \"Subtraction is : \", c )"
   ]
  },
  {
   "cell_type": "markdown",
   "metadata": {},
   "source": [
    "**2. write a program to find  the fourth root of a number**"
   ]
  },
  {
   "cell_type": "code",
   "execution_count": 15,
   "metadata": {},
   "outputs": [
    {
     "name": "stdout",
     "output_type": "stream",
     "text": [
      "2.0\n"
     ]
    }
   ],
   "source": [
    "def forthrootofm(a,n):\n",
    "    return pow(a,(1/n))\n",
    "a=16\n",
    "n=4\n",
    "q=forthrootofm(a,n)\n",
    "print(q)"
   ]
  },
  {
   "cell_type": "code",
   "execution_count": 5,
   "metadata": {},
   "outputs": [
    {
     "name": "stdout",
     "output_type": "stream",
     "text": [
      "Enter a no: 16\n",
      "Fourth Root of the no is:  2.0\n"
     ]
    }
   ],
   "source": [
    "def root(x):\n",
    "    return x**(1.0/4)\n",
    "\n",
    "n = float(input(\"Enter a no: \"))\n",
    "print (\"Fourth Root of the no is: \",root(n))"
   ]
  },
  {
   "cell_type": "markdown",
   "metadata": {},
   "source": [
    "**3. write a program to swap two numbers in python with the help of temporary variable**"
   ]
  },
  {
   "cell_type": "code",
   "execution_count": 7,
   "metadata": {},
   "outputs": [
    {
     "name": "stdout",
     "output_type": "stream",
     "text": [
      "Enter a no N1: 2\n",
      "Enter a no N2: 3\n",
      "The value of x after swapping: 3\n",
      "The value of y after swapping: 2\n"
     ]
    }
   ],
   "source": [
    "# Python program to swap two variables\n",
    "\n",
    "def swap(x,y):\n",
    "    temp = x\n",
    "    x = y\n",
    "    y = temp\n",
    "    print('The value of x after swapping: {}'.format(x))\n",
    "    print('The value of y after swapping: {}'.format(y))\n",
    "\n",
    "n1 = int(input(\"Enter a no N1: \"))\n",
    "n2 = int(input(\"Enter a no N2: \"))\n",
    "swap(n1,n2)\n",
    "\n"
   ]
  },
  {
   "cell_type": "markdown",
   "metadata": {},
   "source": [
    "**4. write a program to swap two numbers in python with the help of temporary variable**"
   ]
  },
  {
   "cell_type": "code",
   "execution_count": 8,
   "metadata": {},
   "outputs": [
    {
     "name": "stdout",
     "output_type": "stream",
     "text": [
      "Enter a no N1: 3\n",
      "Enter a no N2: 2\n",
      "N1 Value now is : 2\n",
      "N2 Value now is : 3\n"
     ]
    }
   ],
   "source": [
    "\n",
    "\n",
    "def swap(x,y):\n",
    "    x = x +y\n",
    "    y = x - y\n",
    "    x = x - y\n",
    "    print (\"N1 Value now is :\",x)\n",
    "    print (\"N2 Value now is :\",y)\n",
    "\n",
    "n1 = int(input(\"Enter a no N1: \"))\n",
    "n2 = int(input(\"Enter a no N2: \"))\n",
    "swap(n1,n2)\n",
    "\n",
    "\n"
   ]
  },
  {
   "cell_type": "markdown",
   "metadata": {},
   "source": [
    "**5. write a program to convert frarenheit to kelvin and celcius both**"
   ]
  },
  {
   "cell_type": "code",
   "execution_count": 12,
   "metadata": {},
   "outputs": [],
   "source": [
    "def celsius(T):\n",
    "    return(float(5)/9)*(T-32)\n",
    "\n",
    "temp=[0,22.5,40,100]"
   ]
  },
  {
   "cell_type": "code",
   "execution_count": 13,
   "metadata": {},
   "outputs": [
    {
     "data": {
      "text/plain": [
       "[-17.77777777777778, -5.277777777777778, 4.444444444444445, 37.77777777777778]"
      ]
     },
     "execution_count": 13,
     "metadata": {},
     "output_type": "execute_result"
    }
   ],
   "source": [
    "l=[]\n",
    "for i in temp:\n",
    "    l.append(celcius(i))\n",
    "l"
   ]
  },
  {
   "cell_type": "code",
   "execution_count": 14,
   "metadata": {},
   "outputs": [
    {
     "name": "stdout",
     "output_type": "stream",
     "text": [
      "Temperature in Kelvin ( K ) = 311.278\n",
      "Temperature in Celsius (C) = 37.778\n"
     ]
    }
   ],
   "source": [
    "def celsius(T):\n",
    "    return(float(5)/9)*(T-32)\n",
    "\n",
    "def Fahrenheit_to_Kelvin(F): \n",
    "    return 273.5 + ((F - 32.0) * (5.0/9.0)) \n",
    "  \n",
    "F = 100\n",
    "print(\"Temperature in Kelvin ( K ) = {:.3f}\" \n",
    "            .format(Fahrenheit_to_Kelvin( F ))) \n",
    "print(\"Temperature in Celsius (C) = {:.3f}\".format(celsius(F)))"
   ]
  },
  {
   "cell_type": "markdown",
   "metadata": {},
   "source": [
    "**6. write a program to demonstrate all the available data types in python**"
   ]
  },
  {
   "cell_type": "code",
   "execution_count": 19,
   "metadata": {},
   "outputs": [
    {
     "name": "stdout",
     "output_type": "stream",
     "text": [
      "5 is of type <class 'int'>\n",
      "2.0 is of type <class 'float'>\n",
      "(1+2j) is complex number! <class 'complex'>\n",
      "['apple', 'banana', 'cherry'] List! <class 'list'>\n",
      "('apple', 'banana', 'cherry') Tuple! <class 'tuple'>\n",
      "range(0, 6) Range! <class 'range'>\n",
      "{'name': 'John', 'age': 36} Range! <class 'dict'>\n",
      "{'apple', 'banana', 'cherry'} Range! <class 'set'>\n",
      "String with the use of Single Quotes:  Welcome to the Python World\n"
     ]
    },
    {
     "data": {
      "text/plain": [
       "str"
      ]
     },
     "execution_count": 19,
     "metadata": {},
     "output_type": "execute_result"
    }
   ],
   "source": [
    "a = 5    #int\n",
    "print(a, \"is of type\", type(a))\n",
    "\n",
    "b = 2.0   #float\n",
    "print(b, \"is of type\", type(b))\n",
    "\n",
    "c = 1+2j   #complex no\n",
    "print(c, \"is complex number!\", type(c))\n",
    "\n",
    "e = [\"apple\", \"banana\", \"cherry\"]  #List\n",
    "print(e, \"List!\", type(e))\n",
    "\n",
    "f = (\"apple\", \"banana\", \"cherry\")  #Tuple\n",
    "print(f, \"Tuple!\", type(f))\n",
    "\n",
    "g = range(6)                       #Range\n",
    "print(g, \"Range!\", type(g))\n",
    "\n",
    "h = {\"name\" : \"John\", \"age\" : 36}  #Dictionary\n",
    "print(h, \"Range!\", type(h))\n",
    "\n",
    "\n",
    "i = {\"apple\", \"banana\", \"cherry\"}  #Set\n",
    "print(i, \"Range!\", type(i))\n",
    "\n",
    "String1 = 'Welcome to the Python World'  #string\n",
    "print(\"String with the use of Single Quotes: \",String1) \n",
    "type(String1)  "
   ]
  },
  {
   "cell_type": "markdown",
   "metadata": {},
   "source": [
    "**7. Create a Markdown cell in jupyter and list the steps discussed in the session by Dr. DarshanIngle sir to create Github profile and upload Githubs Assignment link.**"
   ]
  },
  {
   "cell_type": "markdown",
   "metadata": {},
   "source": [
    "\n",
    "1. Create a Github public repo and name it LetsUpgrade AI/ML\n",
    "2. Upload the files/solution in the repo.\n",
    "3. Copy the URL of the Folder of that day and paste in the Assignment Submission Form (Google Form)\n",
    "4. You will receive a mail for your successful submission."
   ]
  },
  {
   "cell_type": "code",
   "execution_count": null,
   "metadata": {},
   "outputs": [],
   "source": []
  },
  {
   "cell_type": "code",
   "execution_count": null,
   "metadata": {},
   "outputs": [],
   "source": []
  }
 ],
 "metadata": {
  "kernelspec": {
   "display_name": "Python 3",
   "language": "python",
   "name": "python3"
  },
  "language_info": {
   "codemirror_mode": {
    "name": "ipython",
    "version": 3
   },
   "file_extension": ".py",
   "mimetype": "text/x-python",
   "name": "python",
   "nbconvert_exporter": "python",
   "pygments_lexer": "ipython3",
   "version": "3.7.6"
  }
 },
 "nbformat": 4,
 "nbformat_minor": 4
}
