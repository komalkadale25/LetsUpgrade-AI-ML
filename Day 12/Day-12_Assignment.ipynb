{
 "cells": [
  {
   "cell_type": "code",
   "execution_count": 21,
   "metadata": {
    "ExecuteTime": {
     "end_time": "2020-08-09T23:36:40.627275Z",
     "start_time": "2020-08-09T23:36:40.596036Z"
    }
   },
   "outputs": [],
   "source": [
    "#Applying statitical tests\n",
    "import pandas as pd\n",
    "from scipy.stats import pearsonr, chi2_contingency, wilcoxon, friedmanchisquare, mannwhitneyu\n",
    "from scipy.stats import ttest_1samp, ttest_rel, kruskal, ttest_ind"
   ]
  },
  {
   "cell_type": "code",
   "execution_count": 22,
   "metadata": {
    "ExecuteTime": {
     "end_time": "2020-08-09T23:36:43.303171Z",
     "start_time": "2020-08-09T23:36:43.218530Z"
    }
   },
   "outputs": [
    {
     "data": {
      "text/html": [
       "<div>\n",
       "<style scoped>\n",
       "    .dataframe tbody tr th:only-of-type {\n",
       "        vertical-align: middle;\n",
       "    }\n",
       "\n",
       "    .dataframe tbody tr th {\n",
       "        vertical-align: top;\n",
       "    }\n",
       "\n",
       "    .dataframe thead th {\n",
       "        text-align: right;\n",
       "    }\n",
       "</style>\n",
       "<table border=\"1\" class=\"dataframe\">\n",
       "  <thead>\n",
       "    <tr style=\"text-align: right;\">\n",
       "      <th></th>\n",
       "      <th>Age</th>\n",
       "      <th>Attrition</th>\n",
       "      <th>BusinessTravel</th>\n",
       "      <th>Department</th>\n",
       "      <th>DistanceFromHome</th>\n",
       "      <th>Education</th>\n",
       "      <th>EducationField</th>\n",
       "      <th>EmployeeCount</th>\n",
       "      <th>EmployeeID</th>\n",
       "      <th>Gender</th>\n",
       "      <th>...</th>\n",
       "      <th>NumCompaniesWorked</th>\n",
       "      <th>Over18</th>\n",
       "      <th>PercentSalaryHike</th>\n",
       "      <th>StandardHours</th>\n",
       "      <th>StockOptionLevel</th>\n",
       "      <th>TotalWorkingYears</th>\n",
       "      <th>TrainingTimesLastYear</th>\n",
       "      <th>YearsAtCompany</th>\n",
       "      <th>YearsSinceLastPromotion</th>\n",
       "      <th>YearsWithCurrManager</th>\n",
       "    </tr>\n",
       "  </thead>\n",
       "  <tbody>\n",
       "    <tr>\n",
       "      <th>0</th>\n",
       "      <td>51</td>\n",
       "      <td>No</td>\n",
       "      <td>Travel_Rarely</td>\n",
       "      <td>Sales</td>\n",
       "      <td>6</td>\n",
       "      <td>2</td>\n",
       "      <td>Life Sciences</td>\n",
       "      <td>1</td>\n",
       "      <td>1</td>\n",
       "      <td>Female</td>\n",
       "      <td>...</td>\n",
       "      <td>1.0</td>\n",
       "      <td>Y</td>\n",
       "      <td>11</td>\n",
       "      <td>8</td>\n",
       "      <td>0</td>\n",
       "      <td>1.0</td>\n",
       "      <td>6</td>\n",
       "      <td>1</td>\n",
       "      <td>0</td>\n",
       "      <td>0</td>\n",
       "    </tr>\n",
       "    <tr>\n",
       "      <th>1</th>\n",
       "      <td>31</td>\n",
       "      <td>Yes</td>\n",
       "      <td>Travel_Frequently</td>\n",
       "      <td>Research &amp; Development</td>\n",
       "      <td>10</td>\n",
       "      <td>1</td>\n",
       "      <td>Life Sciences</td>\n",
       "      <td>1</td>\n",
       "      <td>2</td>\n",
       "      <td>Female</td>\n",
       "      <td>...</td>\n",
       "      <td>0.0</td>\n",
       "      <td>Y</td>\n",
       "      <td>23</td>\n",
       "      <td>8</td>\n",
       "      <td>1</td>\n",
       "      <td>6.0</td>\n",
       "      <td>3</td>\n",
       "      <td>5</td>\n",
       "      <td>1</td>\n",
       "      <td>4</td>\n",
       "    </tr>\n",
       "    <tr>\n",
       "      <th>2</th>\n",
       "      <td>32</td>\n",
       "      <td>No</td>\n",
       "      <td>Travel_Frequently</td>\n",
       "      <td>Research &amp; Development</td>\n",
       "      <td>17</td>\n",
       "      <td>4</td>\n",
       "      <td>Other</td>\n",
       "      <td>1</td>\n",
       "      <td>3</td>\n",
       "      <td>Male</td>\n",
       "      <td>...</td>\n",
       "      <td>1.0</td>\n",
       "      <td>Y</td>\n",
       "      <td>15</td>\n",
       "      <td>8</td>\n",
       "      <td>3</td>\n",
       "      <td>5.0</td>\n",
       "      <td>2</td>\n",
       "      <td>5</td>\n",
       "      <td>0</td>\n",
       "      <td>3</td>\n",
       "    </tr>\n",
       "    <tr>\n",
       "      <th>3</th>\n",
       "      <td>38</td>\n",
       "      <td>No</td>\n",
       "      <td>Non-Travel</td>\n",
       "      <td>Research &amp; Development</td>\n",
       "      <td>2</td>\n",
       "      <td>5</td>\n",
       "      <td>Life Sciences</td>\n",
       "      <td>1</td>\n",
       "      <td>4</td>\n",
       "      <td>Male</td>\n",
       "      <td>...</td>\n",
       "      <td>3.0</td>\n",
       "      <td>Y</td>\n",
       "      <td>11</td>\n",
       "      <td>8</td>\n",
       "      <td>3</td>\n",
       "      <td>13.0</td>\n",
       "      <td>5</td>\n",
       "      <td>8</td>\n",
       "      <td>7</td>\n",
       "      <td>5</td>\n",
       "    </tr>\n",
       "    <tr>\n",
       "      <th>4</th>\n",
       "      <td>32</td>\n",
       "      <td>No</td>\n",
       "      <td>Travel_Rarely</td>\n",
       "      <td>Research &amp; Development</td>\n",
       "      <td>10</td>\n",
       "      <td>1</td>\n",
       "      <td>Medical</td>\n",
       "      <td>1</td>\n",
       "      <td>5</td>\n",
       "      <td>Male</td>\n",
       "      <td>...</td>\n",
       "      <td>4.0</td>\n",
       "      <td>Y</td>\n",
       "      <td>12</td>\n",
       "      <td>8</td>\n",
       "      <td>2</td>\n",
       "      <td>9.0</td>\n",
       "      <td>2</td>\n",
       "      <td>6</td>\n",
       "      <td>0</td>\n",
       "      <td>4</td>\n",
       "    </tr>\n",
       "  </tbody>\n",
       "</table>\n",
       "<p>5 rows × 24 columns</p>\n",
       "</div>"
      ],
      "text/plain": [
       "   Age Attrition     BusinessTravel              Department  DistanceFromHome  \\\n",
       "0   51        No      Travel_Rarely                   Sales                 6   \n",
       "1   31       Yes  Travel_Frequently  Research & Development                10   \n",
       "2   32        No  Travel_Frequently  Research & Development                17   \n",
       "3   38        No         Non-Travel  Research & Development                 2   \n",
       "4   32        No      Travel_Rarely  Research & Development                10   \n",
       "\n",
       "   Education EducationField  EmployeeCount  EmployeeID  Gender  ...  \\\n",
       "0          2  Life Sciences              1           1  Female  ...   \n",
       "1          1  Life Sciences              1           2  Female  ...   \n",
       "2          4          Other              1           3    Male  ...   \n",
       "3          5  Life Sciences              1           4    Male  ...   \n",
       "4          1        Medical              1           5    Male  ...   \n",
       "\n",
       "   NumCompaniesWorked Over18 PercentSalaryHike  StandardHours  \\\n",
       "0                 1.0      Y                11              8   \n",
       "1                 0.0      Y                23              8   \n",
       "2                 1.0      Y                15              8   \n",
       "3                 3.0      Y                11              8   \n",
       "4                 4.0      Y                12              8   \n",
       "\n",
       "   StockOptionLevel TotalWorkingYears  TrainingTimesLastYear  YearsAtCompany  \\\n",
       "0                 0               1.0                      6               1   \n",
       "1                 1               6.0                      3               5   \n",
       "2                 3               5.0                      2               5   \n",
       "3                 3              13.0                      5               8   \n",
       "4                 2               9.0                      2               6   \n",
       "\n",
       "   YearsSinceLastPromotion  YearsWithCurrManager  \n",
       "0                        0                     0  \n",
       "1                        1                     4  \n",
       "2                        0                     3  \n",
       "3                        7                     5  \n",
       "4                        0                     4  \n",
       "\n",
       "[5 rows x 24 columns]"
      ]
     },
     "execution_count": 22,
     "metadata": {},
     "output_type": "execute_result"
    }
   ],
   "source": [
    "Data = pd.read_csv(\"general_data.csv\")\n",
    "Data.head()"
   ]
  },
  {
   "cell_type": "code",
   "execution_count": 23,
   "metadata": {
    "ExecuteTime": {
     "end_time": "2020-08-09T23:34:37.522255Z",
     "start_time": "2020-08-09T23:34:37.490999Z"
    }
   },
   "outputs": [],
   "source": [
    "Data = Data.dropna()"
   ]
  },
  {
   "cell_type": "code",
   "execution_count": 24,
   "metadata": {
    "ExecuteTime": {
     "end_time": "2020-08-09T23:34:38.787993Z",
     "start_time": "2020-08-09T23:34:38.772368Z"
    }
   },
   "outputs": [
    {
     "data": {
      "text/plain": [
       "(4382, 24)"
      ]
     },
     "execution_count": 24,
     "metadata": {},
     "output_type": "execute_result"
    }
   ],
   "source": [
    "Data.shape"
   ]
  },
  {
   "cell_type": "code",
   "execution_count": 25,
   "metadata": {
    "ExecuteTime": {
     "end_time": "2020-08-09T23:34:40.661806Z",
     "start_time": "2020-08-09T23:34:40.599302Z"
    }
   },
   "outputs": [
    {
     "data": {
      "text/plain": [
       "0"
      ]
     },
     "execution_count": 25,
     "metadata": {},
     "output_type": "execute_result"
    }
   ],
   "source": [
    "Data.duplicated().sum()"
   ]
  },
  {
   "cell_type": "code",
   "execution_count": 26,
   "metadata": {
    "ExecuteTime": {
     "end_time": "2020-08-09T23:36:47.785724Z",
     "start_time": "2020-08-09T23:36:47.754473Z"
    }
   },
   "outputs": [],
   "source": [
    "#Splitting dataframe into attrition yes and attrition no\n",
    "Data = Data.groupby('Attrition')\n",
    "Data1 = Data.get_group('Yes')\n",
    "Data2 = Data.get_group('No')"
   ]
  },
  {
   "cell_type": "code",
   "execution_count": 27,
   "metadata": {
    "ExecuteTime": {
     "end_time": "2020-08-09T23:34:43.199745Z",
     "start_time": "2020-08-09T23:34:43.184120Z"
    }
   },
   "outputs": [
    {
     "data": {
      "text/plain": [
       "(705, 24)"
      ]
     },
     "execution_count": 27,
     "metadata": {},
     "output_type": "execute_result"
    }
   ],
   "source": [
    "Data1.shape\n"
   ]
  },
  {
   "cell_type": "code",
   "execution_count": 28,
   "metadata": {
    "ExecuteTime": {
     "end_time": "2020-08-09T23:34:44.745890Z",
     "start_time": "2020-08-09T23:34:44.730266Z"
    }
   },
   "outputs": [
    {
     "data": {
      "text/plain": [
       "(3677, 24)"
      ]
     },
     "execution_count": 28,
     "metadata": {},
     "output_type": "execute_result"
    }
   ],
   "source": [
    "Data2.shape"
   ]
  },
  {
   "cell_type": "code",
   "execution_count": 29,
   "metadata": {
    "ExecuteTime": {
     "end_time": "2020-08-09T19:05:38.386064Z",
     "start_time": "2020-08-09T19:05:38.335858Z"
    }
   },
   "outputs": [
    {
     "data": {
      "text/html": [
       "<div>\n",
       "<style scoped>\n",
       "    .dataframe tbody tr th:only-of-type {\n",
       "        vertical-align: middle;\n",
       "    }\n",
       "\n",
       "    .dataframe tbody tr th {\n",
       "        vertical-align: top;\n",
       "    }\n",
       "\n",
       "    .dataframe thead th {\n",
       "        text-align: right;\n",
       "    }\n",
       "</style>\n",
       "<table border=\"1\" class=\"dataframe\">\n",
       "  <thead>\n",
       "    <tr style=\"text-align: right;\">\n",
       "      <th></th>\n",
       "      <th>Age</th>\n",
       "      <th>Attrition</th>\n",
       "      <th>BusinessTravel</th>\n",
       "      <th>Department</th>\n",
       "      <th>DistanceFromHome</th>\n",
       "      <th>Education</th>\n",
       "      <th>EducationField</th>\n",
       "      <th>EmployeeCount</th>\n",
       "      <th>EmployeeID</th>\n",
       "      <th>Gender</th>\n",
       "      <th>...</th>\n",
       "      <th>NumCompaniesWorked</th>\n",
       "      <th>Over18</th>\n",
       "      <th>PercentSalaryHike</th>\n",
       "      <th>StandardHours</th>\n",
       "      <th>StockOptionLevel</th>\n",
       "      <th>TotalWorkingYears</th>\n",
       "      <th>TrainingTimesLastYear</th>\n",
       "      <th>YearsAtCompany</th>\n",
       "      <th>YearsSinceLastPromotion</th>\n",
       "      <th>YearsWithCurrManager</th>\n",
       "    </tr>\n",
       "  </thead>\n",
       "  <tbody>\n",
       "    <tr>\n",
       "      <th>1</th>\n",
       "      <td>31</td>\n",
       "      <td>Yes</td>\n",
       "      <td>Travel_Frequently</td>\n",
       "      <td>Research &amp; Development</td>\n",
       "      <td>10</td>\n",
       "      <td>1</td>\n",
       "      <td>Life Sciences</td>\n",
       "      <td>1</td>\n",
       "      <td>2</td>\n",
       "      <td>Female</td>\n",
       "      <td>...</td>\n",
       "      <td>0.0</td>\n",
       "      <td>Y</td>\n",
       "      <td>23</td>\n",
       "      <td>8</td>\n",
       "      <td>1</td>\n",
       "      <td>6.0</td>\n",
       "      <td>3</td>\n",
       "      <td>5</td>\n",
       "      <td>1</td>\n",
       "      <td>4</td>\n",
       "    </tr>\n",
       "    <tr>\n",
       "      <th>6</th>\n",
       "      <td>28</td>\n",
       "      <td>Yes</td>\n",
       "      <td>Travel_Rarely</td>\n",
       "      <td>Research &amp; Development</td>\n",
       "      <td>11</td>\n",
       "      <td>2</td>\n",
       "      <td>Medical</td>\n",
       "      <td>1</td>\n",
       "      <td>7</td>\n",
       "      <td>Male</td>\n",
       "      <td>...</td>\n",
       "      <td>2.0</td>\n",
       "      <td>Y</td>\n",
       "      <td>20</td>\n",
       "      <td>8</td>\n",
       "      <td>1</td>\n",
       "      <td>5.0</td>\n",
       "      <td>2</td>\n",
       "      <td>0</td>\n",
       "      <td>0</td>\n",
       "      <td>0</td>\n",
       "    </tr>\n",
       "    <tr>\n",
       "      <th>13</th>\n",
       "      <td>47</td>\n",
       "      <td>Yes</td>\n",
       "      <td>Non-Travel</td>\n",
       "      <td>Research &amp; Development</td>\n",
       "      <td>1</td>\n",
       "      <td>1</td>\n",
       "      <td>Medical</td>\n",
       "      <td>1</td>\n",
       "      <td>14</td>\n",
       "      <td>Male</td>\n",
       "      <td>...</td>\n",
       "      <td>1.0</td>\n",
       "      <td>Y</td>\n",
       "      <td>11</td>\n",
       "      <td>8</td>\n",
       "      <td>2</td>\n",
       "      <td>10.0</td>\n",
       "      <td>4</td>\n",
       "      <td>10</td>\n",
       "      <td>9</td>\n",
       "      <td>9</td>\n",
       "    </tr>\n",
       "    <tr>\n",
       "      <th>28</th>\n",
       "      <td>44</td>\n",
       "      <td>Yes</td>\n",
       "      <td>Travel_Frequently</td>\n",
       "      <td>Research &amp; Development</td>\n",
       "      <td>1</td>\n",
       "      <td>2</td>\n",
       "      <td>Medical</td>\n",
       "      <td>1</td>\n",
       "      <td>29</td>\n",
       "      <td>Male</td>\n",
       "      <td>...</td>\n",
       "      <td>3.0</td>\n",
       "      <td>Y</td>\n",
       "      <td>14</td>\n",
       "      <td>8</td>\n",
       "      <td>1</td>\n",
       "      <td>19.0</td>\n",
       "      <td>2</td>\n",
       "      <td>1</td>\n",
       "      <td>0</td>\n",
       "      <td>0</td>\n",
       "    </tr>\n",
       "    <tr>\n",
       "      <th>30</th>\n",
       "      <td>26</td>\n",
       "      <td>Yes</td>\n",
       "      <td>Travel_Rarely</td>\n",
       "      <td>Research &amp; Development</td>\n",
       "      <td>4</td>\n",
       "      <td>3</td>\n",
       "      <td>Medical</td>\n",
       "      <td>1</td>\n",
       "      <td>31</td>\n",
       "      <td>Male</td>\n",
       "      <td>...</td>\n",
       "      <td>2.0</td>\n",
       "      <td>Y</td>\n",
       "      <td>11</td>\n",
       "      <td>8</td>\n",
       "      <td>0</td>\n",
       "      <td>5.0</td>\n",
       "      <td>5</td>\n",
       "      <td>3</td>\n",
       "      <td>0</td>\n",
       "      <td>2</td>\n",
       "    </tr>\n",
       "  </tbody>\n",
       "</table>\n",
       "<p>5 rows × 24 columns</p>\n",
       "</div>"
      ],
      "text/plain": [
       "    Age Attrition     BusinessTravel              Department  \\\n",
       "1    31       Yes  Travel_Frequently  Research & Development   \n",
       "6    28       Yes      Travel_Rarely  Research & Development   \n",
       "13   47       Yes         Non-Travel  Research & Development   \n",
       "28   44       Yes  Travel_Frequently  Research & Development   \n",
       "30   26       Yes      Travel_Rarely  Research & Development   \n",
       "\n",
       "    DistanceFromHome  Education EducationField  EmployeeCount  EmployeeID  \\\n",
       "1                 10          1  Life Sciences              1           2   \n",
       "6                 11          2        Medical              1           7   \n",
       "13                 1          1        Medical              1          14   \n",
       "28                 1          2        Medical              1          29   \n",
       "30                 4          3        Medical              1          31   \n",
       "\n",
       "    Gender  ...  NumCompaniesWorked Over18 PercentSalaryHike  StandardHours  \\\n",
       "1   Female  ...                 0.0      Y                23              8   \n",
       "6     Male  ...                 2.0      Y                20              8   \n",
       "13    Male  ...                 1.0      Y                11              8   \n",
       "28    Male  ...                 3.0      Y                14              8   \n",
       "30    Male  ...                 2.0      Y                11              8   \n",
       "\n",
       "    StockOptionLevel TotalWorkingYears  TrainingTimesLastYear  YearsAtCompany  \\\n",
       "1                  1               6.0                      3               5   \n",
       "6                  1               5.0                      2               0   \n",
       "13                 2              10.0                      4              10   \n",
       "28                 1              19.0                      2               1   \n",
       "30                 0               5.0                      5               3   \n",
       "\n",
       "    YearsSinceLastPromotion  YearsWithCurrManager  \n",
       "1                         1                     4  \n",
       "6                         0                     0  \n",
       "13                        9                     9  \n",
       "28                        0                     0  \n",
       "30                        0                     2  \n",
       "\n",
       "[5 rows x 24 columns]"
      ]
     },
     "execution_count": 29,
     "metadata": {},
     "output_type": "execute_result"
    }
   ],
   "source": [
    "Data1.head()"
   ]
  },
  {
   "cell_type": "code",
   "execution_count": 30,
   "metadata": {
    "ExecuteTime": {
     "end_time": "2020-08-09T19:05:45.400571Z",
     "start_time": "2020-08-09T19:05:45.360416Z"
    }
   },
   "outputs": [
    {
     "data": {
      "text/html": [
       "<div>\n",
       "<style scoped>\n",
       "    .dataframe tbody tr th:only-of-type {\n",
       "        vertical-align: middle;\n",
       "    }\n",
       "\n",
       "    .dataframe tbody tr th {\n",
       "        vertical-align: top;\n",
       "    }\n",
       "\n",
       "    .dataframe thead th {\n",
       "        text-align: right;\n",
       "    }\n",
       "</style>\n",
       "<table border=\"1\" class=\"dataframe\">\n",
       "  <thead>\n",
       "    <tr style=\"text-align: right;\">\n",
       "      <th></th>\n",
       "      <th>Age</th>\n",
       "      <th>Attrition</th>\n",
       "      <th>BusinessTravel</th>\n",
       "      <th>Department</th>\n",
       "      <th>DistanceFromHome</th>\n",
       "      <th>Education</th>\n",
       "      <th>EducationField</th>\n",
       "      <th>EmployeeCount</th>\n",
       "      <th>EmployeeID</th>\n",
       "      <th>Gender</th>\n",
       "      <th>...</th>\n",
       "      <th>NumCompaniesWorked</th>\n",
       "      <th>Over18</th>\n",
       "      <th>PercentSalaryHike</th>\n",
       "      <th>StandardHours</th>\n",
       "      <th>StockOptionLevel</th>\n",
       "      <th>TotalWorkingYears</th>\n",
       "      <th>TrainingTimesLastYear</th>\n",
       "      <th>YearsAtCompany</th>\n",
       "      <th>YearsSinceLastPromotion</th>\n",
       "      <th>YearsWithCurrManager</th>\n",
       "    </tr>\n",
       "  </thead>\n",
       "  <tbody>\n",
       "    <tr>\n",
       "      <th>0</th>\n",
       "      <td>51</td>\n",
       "      <td>No</td>\n",
       "      <td>Travel_Rarely</td>\n",
       "      <td>Sales</td>\n",
       "      <td>6</td>\n",
       "      <td>2</td>\n",
       "      <td>Life Sciences</td>\n",
       "      <td>1</td>\n",
       "      <td>1</td>\n",
       "      <td>Female</td>\n",
       "      <td>...</td>\n",
       "      <td>1.0</td>\n",
       "      <td>Y</td>\n",
       "      <td>11</td>\n",
       "      <td>8</td>\n",
       "      <td>0</td>\n",
       "      <td>1.0</td>\n",
       "      <td>6</td>\n",
       "      <td>1</td>\n",
       "      <td>0</td>\n",
       "      <td>0</td>\n",
       "    </tr>\n",
       "    <tr>\n",
       "      <th>2</th>\n",
       "      <td>32</td>\n",
       "      <td>No</td>\n",
       "      <td>Travel_Frequently</td>\n",
       "      <td>Research &amp; Development</td>\n",
       "      <td>17</td>\n",
       "      <td>4</td>\n",
       "      <td>Other</td>\n",
       "      <td>1</td>\n",
       "      <td>3</td>\n",
       "      <td>Male</td>\n",
       "      <td>...</td>\n",
       "      <td>1.0</td>\n",
       "      <td>Y</td>\n",
       "      <td>15</td>\n",
       "      <td>8</td>\n",
       "      <td>3</td>\n",
       "      <td>5.0</td>\n",
       "      <td>2</td>\n",
       "      <td>5</td>\n",
       "      <td>0</td>\n",
       "      <td>3</td>\n",
       "    </tr>\n",
       "    <tr>\n",
       "      <th>3</th>\n",
       "      <td>38</td>\n",
       "      <td>No</td>\n",
       "      <td>Non-Travel</td>\n",
       "      <td>Research &amp; Development</td>\n",
       "      <td>2</td>\n",
       "      <td>5</td>\n",
       "      <td>Life Sciences</td>\n",
       "      <td>1</td>\n",
       "      <td>4</td>\n",
       "      <td>Male</td>\n",
       "      <td>...</td>\n",
       "      <td>3.0</td>\n",
       "      <td>Y</td>\n",
       "      <td>11</td>\n",
       "      <td>8</td>\n",
       "      <td>3</td>\n",
       "      <td>13.0</td>\n",
       "      <td>5</td>\n",
       "      <td>8</td>\n",
       "      <td>7</td>\n",
       "      <td>5</td>\n",
       "    </tr>\n",
       "    <tr>\n",
       "      <th>4</th>\n",
       "      <td>32</td>\n",
       "      <td>No</td>\n",
       "      <td>Travel_Rarely</td>\n",
       "      <td>Research &amp; Development</td>\n",
       "      <td>10</td>\n",
       "      <td>1</td>\n",
       "      <td>Medical</td>\n",
       "      <td>1</td>\n",
       "      <td>5</td>\n",
       "      <td>Male</td>\n",
       "      <td>...</td>\n",
       "      <td>4.0</td>\n",
       "      <td>Y</td>\n",
       "      <td>12</td>\n",
       "      <td>8</td>\n",
       "      <td>2</td>\n",
       "      <td>9.0</td>\n",
       "      <td>2</td>\n",
       "      <td>6</td>\n",
       "      <td>0</td>\n",
       "      <td>4</td>\n",
       "    </tr>\n",
       "    <tr>\n",
       "      <th>5</th>\n",
       "      <td>46</td>\n",
       "      <td>No</td>\n",
       "      <td>Travel_Rarely</td>\n",
       "      <td>Research &amp; Development</td>\n",
       "      <td>8</td>\n",
       "      <td>3</td>\n",
       "      <td>Life Sciences</td>\n",
       "      <td>1</td>\n",
       "      <td>6</td>\n",
       "      <td>Female</td>\n",
       "      <td>...</td>\n",
       "      <td>3.0</td>\n",
       "      <td>Y</td>\n",
       "      <td>13</td>\n",
       "      <td>8</td>\n",
       "      <td>0</td>\n",
       "      <td>28.0</td>\n",
       "      <td>5</td>\n",
       "      <td>7</td>\n",
       "      <td>7</td>\n",
       "      <td>7</td>\n",
       "    </tr>\n",
       "  </tbody>\n",
       "</table>\n",
       "<p>5 rows × 24 columns</p>\n",
       "</div>"
      ],
      "text/plain": [
       "   Age Attrition     BusinessTravel              Department  DistanceFromHome  \\\n",
       "0   51        No      Travel_Rarely                   Sales                 6   \n",
       "2   32        No  Travel_Frequently  Research & Development                17   \n",
       "3   38        No         Non-Travel  Research & Development                 2   \n",
       "4   32        No      Travel_Rarely  Research & Development                10   \n",
       "5   46        No      Travel_Rarely  Research & Development                 8   \n",
       "\n",
       "   Education EducationField  EmployeeCount  EmployeeID  Gender  ...  \\\n",
       "0          2  Life Sciences              1           1  Female  ...   \n",
       "2          4          Other              1           3    Male  ...   \n",
       "3          5  Life Sciences              1           4    Male  ...   \n",
       "4          1        Medical              1           5    Male  ...   \n",
       "5          3  Life Sciences              1           6  Female  ...   \n",
       "\n",
       "   NumCompaniesWorked Over18 PercentSalaryHike  StandardHours  \\\n",
       "0                 1.0      Y                11              8   \n",
       "2                 1.0      Y                15              8   \n",
       "3                 3.0      Y                11              8   \n",
       "4                 4.0      Y                12              8   \n",
       "5                 3.0      Y                13              8   \n",
       "\n",
       "   StockOptionLevel TotalWorkingYears  TrainingTimesLastYear  YearsAtCompany  \\\n",
       "0                 0               1.0                      6               1   \n",
       "2                 3               5.0                      2               5   \n",
       "3                 3              13.0                      5               8   \n",
       "4                 2               9.0                      2               6   \n",
       "5                 0              28.0                      5               7   \n",
       "\n",
       "   YearsSinceLastPromotion  YearsWithCurrManager  \n",
       "0                        0                     0  \n",
       "2                        0                     3  \n",
       "3                        7                     5  \n",
       "4                        0                     4  \n",
       "5                        7                     7  \n",
       "\n",
       "[5 rows x 24 columns]"
      ]
     },
     "execution_count": 30,
     "metadata": {},
     "output_type": "execute_result"
    }
   ],
   "source": [
    "Data2.head()"
   ]
  },
  {
   "cell_type": "code",
   "execution_count": 31,
   "metadata": {
    "ExecuteTime": {
     "end_time": "2020-08-09T23:34:48.308730Z",
     "start_time": "2020-08-09T23:34:48.161589Z"
    }
   },
   "outputs": [
    {
     "name": "stdout",
     "output_type": "stream",
     "text": [
      "Critical value is 949178.0, p-value is 7.98668614365882e-30\n",
      "Critical value is 1249881.0, p-value is 0.029614877291203285\n",
      "Critical value is 1230902.5, p-value is 0.0054197115582371854\n",
      "Critical value is 1295261.0, p-value is 0.488538986087403\n",
      "Critical value is 1258277.0, p-value is 0.09888570408770686\n",
      "Critical value is 1190200.0, p-value is 0.0001380350032352316\n",
      "Critical value is 1264340.5, p-value is 0.11168342489992195\n",
      "Critical value is 1238814.5, p-value is 0.02793197853866981\n",
      "Critical value is 1231873.5, p-value is 0.017810794960084964\n",
      "Critical value is 1276201.5, p-value is 0.24144793587056157\n",
      "Critical value is 895173.5, p-value is 2.741211827689903e-39\n",
      "Critical value is 1225582.0, p-value is 0.008107344081224082\n",
      "Critical value is 912579.0, p-value is 3.3433144809752036e-36\n",
      "Critical value is 1196606.0, p-value is 0.00037904698157957496\n",
      "Critical value is 945958.5, p-value is 5.420302388722274e-31\n"
     ]
    }
   ],
   "source": [
    "# Applying Manwhitneyu Test\n",
    "\n",
    "stats, p=mannwhitneyu(Data1.Age, Data2.Age)\n",
    "print('Critical value is {}, p-value is {}'.format(stats, p))\n",
    "\n",
    "stats, p=mannwhitneyu(Data1.BusinessTravel, Data2.BusinessTravel)\n",
    "print('Critical value is {}, p-value is {}'.format(stats, p))\n",
    "\n",
    "stats, p=mannwhitneyu(Data1.Department, Data2.Department)\n",
    "print('Critical value is {}, p-value is {}'.format(stats, p))\n",
    "\n",
    "stats, p=mannwhitneyu(Data1.DistanceFromHome, Data2.DistanceFromHome)\n",
    "print('Critical value is {}, p-value is {}'.format(stats, p))\n",
    "\n",
    "stats, p=mannwhitneyu(Data1.Education, Data2.Education)\n",
    "print('Critical value is {}, p-value is {}'.format(stats, p))\n",
    "\n",
    "stats, p=mannwhitneyu(Data1.EducationField, Data2.EducationField)\n",
    "print('Critical value is {}, p-value is {}'.format(stats, p))\n",
    "\n",
    "stats, p=mannwhitneyu(Data1.Gender, Data2.Gender)\n",
    "print('Critical value is {}, p-value is {}'.format(stats, p))\n",
    "\n",
    "stats, p=mannwhitneyu(Data1.NumCompaniesWorked, Data2.NumCompaniesWorked)\n",
    "print('Critical value is {}, p-value is {}'.format(stats, p))\n",
    "\n",
    "stats, p=mannwhitneyu(Data1.PercentSalaryHike, Data2.PercentSalaryHike)\n",
    "print('Critical value is {}, p-value is {}'.format(stats, p))\n",
    "\n",
    "stats, p=mannwhitneyu(Data1.StockOptionLevel, Data2.StockOptionLevel)\n",
    "print('Critical value is {}, p-value is {}'.format(stats, p))\n",
    "\n",
    "stats, p=mannwhitneyu(Data1.TotalWorkingYears, Data2.TotalWorkingYears)\n",
    "print('Critical value is {}, p-value is {}'.format(stats, p))\n",
    "\n",
    "stats, p=mannwhitneyu(Data1.TrainingTimesLastYear, Data2.TrainingTimesLastYear)\n",
    "print('Critical value is {}, p-value is {}'.format(stats, p))\n",
    "\n",
    "stats, p=mannwhitneyu(Data1.YearsAtCompany, Data2.YearsAtCompany)\n",
    "print('Critical value is {}, p-value is {}'.format(stats, p))\n",
    "\n",
    "stats, p=mannwhitneyu(Data1.YearsSinceLastPromotion, Data2.YearsSinceLastPromotion)\n",
    "print('Critical value is {}, p-value is {}'.format(stats, p))\n",
    "\n",
    "stats, p=mannwhitneyu(Data1.YearsWithCurrManager, Data2.YearsWithCurrManager)\n",
    "print('Critical value is {}, p-value is {}'.format(stats, p))"
   ]
  },
  {
   "cell_type": "code",
   "execution_count": 32,
   "metadata": {
    "ExecuteTime": {
     "end_time": "2020-08-09T19:12:45.966492Z",
     "start_time": "2020-08-09T19:12:45.916285Z"
    }
   },
   "outputs": [
    {
     "name": "stdout",
     "output_type": "stream",
     "text": [
      "-10.617111568458819 5.126598219406314e-26\n",
      "-0.6253536318706914 0.5317715668047676\n",
      "-1.132287911067296 0.25757539308301036\n",
      "nan nan\n",
      "-0.305797970979733 0.7597730060959204\n",
      "2.837197670884213 0.004572057121646456\n",
      "2.1953267956195552 0.028192446935249534\n",
      "nan nan\n",
      "-0.5403260977526364 0.5889996358342873\n",
      "-11.39422669317641 1.1645434967153693e-29\n",
      "-3.152870411721613 0.00162766036355604\n",
      "-8.881225486705604 9.476118084889976e-19\n",
      "-2.080660880277173 0.03752293607413772\n",
      "-10.362463400192302 7.105369646808081e-25\n"
     ]
    },
    {
     "name": "stderr",
     "output_type": "stream",
     "text": [
      "C:\\Users\\Komal\\anaconda3\\lib\\site-packages\\scipy\\stats\\_distn_infrastructure.py:903: RuntimeWarning: invalid value encountered in greater\n",
      "  return (a < x) & (x < b)\n",
      "C:\\Users\\Komal\\anaconda3\\lib\\site-packages\\scipy\\stats\\_distn_infrastructure.py:903: RuntimeWarning: invalid value encountered in less\n",
      "  return (a < x) & (x < b)\n",
      "C:\\Users\\Komal\\anaconda3\\lib\\site-packages\\scipy\\stats\\_distn_infrastructure.py:1912: RuntimeWarning: invalid value encountered in less_equal\n",
      "  cond2 = cond0 & (x <= _a)\n"
     ]
    }
   ],
   "source": [
    "#Applying two sample independent t test\n",
    "\n",
    "stats, p = ttest_ind(Data1.Age, Data2.Age)\n",
    "print(stats, p)\n",
    "\n",
    "stats, p = ttest_ind(Data1.DistanceFromHome, Data2.DistanceFromHome)\n",
    "print(stats, p)\n",
    "\n",
    "stats, p = ttest_ind(Data1.Education, Data2.Education)\n",
    "print(stats, p)\n",
    "\n",
    "stats, p = ttest_ind(Data1.EmployeeCount, Data2.EmployeeCount)\n",
    "print(stats, p)\n",
    "\n",
    "stats, p = ttest_ind(Data1.EmployeeID, Data2.EmployeeID)\n",
    "print(stats, p)\n",
    "\n",
    "stats, p = ttest_ind(Data1.NumCompaniesWorked, Data2.NumCompaniesWorked)\n",
    "print(stats, p)\n",
    "\n",
    "stats, p = ttest_ind(Data1.PercentSalaryHike, Data2.PercentSalaryHike)\n",
    "print(stats, p)\n",
    "\n",
    "stats, p = ttest_ind(Data1.StandardHours, Data2.StandardHours)\n",
    "print(stats, p)\n",
    "\n",
    "stats, p = ttest_ind(Data1.StockOptionLevel, Data2.StockOptionLevel)\n",
    "print(stats, p)\n",
    "\n",
    "stats, p = ttest_ind(Data1.TotalWorkingYears, Data2.TotalWorkingYears)\n",
    "print(stats, p)\n",
    "\n",
    "stats, p = ttest_ind(Data1.TrainingTimesLastYear, Data2.TrainingTimesLastYear)\n",
    "print(stats, p)\n",
    "\n",
    "stats, p = ttest_ind(Data1.YearsAtCompany, Data2.YearsAtCompany)\n",
    "print(stats, p)\n",
    "\n",
    "stats, p = ttest_ind(Data1.YearsSinceLastPromotion, Data2.YearsSinceLastPromotion)\n",
    "print(stats, p)\n",
    "\n",
    "stats, p = ttest_ind(Data1.YearsWithCurrManager, Data2.YearsWithCurrManager)\n",
    "print(stats, p)"
   ]
  },
  {
   "cell_type": "markdown",
   "metadata": {
    "ExecuteTime": {
     "end_time": "2020-08-09T19:16:42.217279Z",
     "start_time": "2020-08-09T19:16:42.197132Z"
    }
   },
   "source": [
    "- **Applying Chi square test**"
   ]
  },
  {
   "cell_type": "markdown",
   "metadata": {},
   "source": [
    "Attrition v/s BusinessTravel\n",
    "\n",
    "H0 - There is no significant diffrence b/w Attriton and Business travel\n",
    "\n",
    "H1 - There is a significant diffrence b/w Attrition and Business travel"
   ]
  },
  {
   "cell_type": "code",
   "execution_count": 33,
   "metadata": {
    "ExecuteTime": {
     "end_time": "2020-08-09T23:40:02.146061Z",
     "start_time": "2020-08-09T23:40:02.099190Z"
    }
   },
   "outputs": [],
   "source": [
    "df = pd.read_csv('general_data.csv')"
   ]
  },
  {
   "cell_type": "code",
   "execution_count": 34,
   "metadata": {
    "ExecuteTime": {
     "end_time": "2020-08-09T23:40:04.151535Z",
     "start_time": "2020-08-09T23:40:04.135910Z"
    }
   },
   "outputs": [],
   "source": [
    "from scipy.stats import chi2_contingency"
   ]
  },
  {
   "cell_type": "code",
   "execution_count": 35,
   "metadata": {
    "ExecuteTime": {
     "end_time": "2020-08-09T23:40:06.141365Z",
     "start_time": "2020-08-09T23:40:06.110116Z"
    }
   },
   "outputs": [
    {
     "data": {
      "text/html": [
       "<div>\n",
       "<style scoped>\n",
       "    .dataframe tbody tr th:only-of-type {\n",
       "        vertical-align: middle;\n",
       "    }\n",
       "\n",
       "    .dataframe tbody tr th {\n",
       "        vertical-align: top;\n",
       "    }\n",
       "\n",
       "    .dataframe thead th {\n",
       "        text-align: right;\n",
       "    }\n",
       "</style>\n",
       "<table border=\"1\" class=\"dataframe\">\n",
       "  <thead>\n",
       "    <tr style=\"text-align: right;\">\n",
       "      <th>Department</th>\n",
       "      <th>Human Resources</th>\n",
       "      <th>Research &amp; Development</th>\n",
       "      <th>Sales</th>\n",
       "    </tr>\n",
       "    <tr>\n",
       "      <th>Gender</th>\n",
       "      <th></th>\n",
       "      <th></th>\n",
       "      <th></th>\n",
       "    </tr>\n",
       "  </thead>\n",
       "  <tbody>\n",
       "    <tr>\n",
       "      <th>Female</th>\n",
       "      <td>72</td>\n",
       "      <td>1164</td>\n",
       "      <td>528</td>\n",
       "    </tr>\n",
       "    <tr>\n",
       "      <th>Male</th>\n",
       "      <td>117</td>\n",
       "      <td>1719</td>\n",
       "      <td>810</td>\n",
       "    </tr>\n",
       "  </tbody>\n",
       "</table>\n",
       "</div>"
      ],
      "text/plain": [
       "Department  Human Resources  Research & Development  Sales\n",
       "Gender                                                    \n",
       "Female                   72                    1164    528\n",
       "Male                    117                    1719    810"
      ]
     },
     "execution_count": 35,
     "metadata": {},
     "output_type": "execute_result"
    }
   ],
   "source": [
    "#Gender and Department\n",
    "chitable = pd.crosstab(df.Gender, df.Department)\n",
    "chitable"
   ]
  },
  {
   "cell_type": "code",
   "execution_count": 36,
   "metadata": {
    "ExecuteTime": {
     "end_time": "2020-08-09T23:41:32.924440Z",
     "start_time": "2020-08-09T23:41:32.886676Z"
    }
   },
   "outputs": [
    {
     "name": "stdout",
     "output_type": "stream",
     "text": [
      "0.615723664957693   0.7350168664520025\n",
      "We reject our Null hypothesis and proceed with our Alternate hypothesis\n"
     ]
    }
   ],
   "source": [
    "# Ho -> There is no dependency between Gender and Department\n",
    "\n",
    "# Ha -> There is dependency between Gender and Department\n",
    "\n",
    "stats, p, dof, expected = chi2_contingency(chitable)\n",
    "print (stats,\" \", p)\n",
    "\n",
    "if (p > 0.05):\n",
    "    print (\"We reject our Null hypothesis and proceed with our Alternate hypothesis\")\n",
    "else:\n",
    "    print (\"We accept our Null Hypothesis\")"
   ]
  },
  {
   "cell_type": "code",
   "execution_count": 37,
   "metadata": {
    "ExecuteTime": {
     "end_time": "2020-08-09T23:41:45.859885Z",
     "start_time": "2020-08-09T23:41:45.806499Z"
    }
   },
   "outputs": [
    {
     "data": {
      "text/html": [
       "<div>\n",
       "<style scoped>\n",
       "    .dataframe tbody tr th:only-of-type {\n",
       "        vertical-align: middle;\n",
       "    }\n",
       "\n",
       "    .dataframe tbody tr th {\n",
       "        vertical-align: top;\n",
       "    }\n",
       "\n",
       "    .dataframe thead th {\n",
       "        text-align: right;\n",
       "    }\n",
       "</style>\n",
       "<table border=\"1\" class=\"dataframe\">\n",
       "  <thead>\n",
       "    <tr style=\"text-align: right;\">\n",
       "      <th>Department</th>\n",
       "      <th>Human Resources</th>\n",
       "      <th>Research &amp; Development</th>\n",
       "      <th>Sales</th>\n",
       "    </tr>\n",
       "    <tr>\n",
       "      <th>BusinessTravel</th>\n",
       "      <th></th>\n",
       "      <th></th>\n",
       "      <th></th>\n",
       "    </tr>\n",
       "  </thead>\n",
       "  <tbody>\n",
       "    <tr>\n",
       "      <th>Non-Travel</th>\n",
       "      <td>9</td>\n",
       "      <td>330</td>\n",
       "      <td>111</td>\n",
       "    </tr>\n",
       "    <tr>\n",
       "      <th>Travel_Frequently</th>\n",
       "      <td>24</td>\n",
       "      <td>519</td>\n",
       "      <td>288</td>\n",
       "    </tr>\n",
       "    <tr>\n",
       "      <th>Travel_Rarely</th>\n",
       "      <td>156</td>\n",
       "      <td>2034</td>\n",
       "      <td>939</td>\n",
       "    </tr>\n",
       "  </tbody>\n",
       "</table>\n",
       "</div>"
      ],
      "text/plain": [
       "Department         Human Resources  Research & Development  Sales\n",
       "BusinessTravel                                                   \n",
       "Non-Travel                       9                     330    111\n",
       "Travel_Frequently               24                     519    288\n",
       "Travel_Rarely                  156                    2034    939"
      ]
     },
     "execution_count": 37,
     "metadata": {},
     "output_type": "execute_result"
    }
   ],
   "source": [
    "#BusinessTravel and Department\n",
    "chitable = pd.crosstab(df.BusinessTravel, df.Department)\n",
    "chitable"
   ]
  },
  {
   "cell_type": "code",
   "execution_count": 38,
   "metadata": {
    "ExecuteTime": {
     "end_time": "2020-08-09T23:41:57.055670Z",
     "start_time": "2020-08-09T23:41:57.024415Z"
    }
   },
   "outputs": [
    {
     "name": "stdout",
     "output_type": "stream",
     "text": [
      "28.34995470839754   1.0592869100838686e-05\n",
      "We accept our Null Hypothesis\n"
     ]
    }
   ],
   "source": [
    "# Ho -> There is no dependency between BusinessTravel and Department\n",
    "\n",
    "# Ha -> There is dependency between BusinessTravel and Department\n",
    "\n",
    "stats, p, dof, expected = chi2_contingency(chitable)\n",
    "print (stats,\" \", p)\n",
    "\n",
    "if (p > 0.05):\n",
    "    print (\"We reject our Null hypothesis and proceed with our Alternate hypothesis\")\n",
    "else:\n",
    "    print (\"We accept our Null Hypothesis\")"
   ]
  },
  {
   "cell_type": "code",
   "execution_count": 39,
   "metadata": {
    "ExecuteTime": {
     "end_time": "2020-08-09T23:42:19.949278Z",
     "start_time": "2020-08-09T23:42:19.902410Z"
    }
   },
   "outputs": [
    {
     "data": {
      "text/html": [
       "<div>\n",
       "<style scoped>\n",
       "    .dataframe tbody tr th:only-of-type {\n",
       "        vertical-align: middle;\n",
       "    }\n",
       "\n",
       "    .dataframe tbody tr th {\n",
       "        vertical-align: top;\n",
       "    }\n",
       "\n",
       "    .dataframe thead th {\n",
       "        text-align: right;\n",
       "    }\n",
       "</style>\n",
       "<table border=\"1\" class=\"dataframe\">\n",
       "  <thead>\n",
       "    <tr style=\"text-align: right;\">\n",
       "      <th>Education</th>\n",
       "      <th>1</th>\n",
       "      <th>2</th>\n",
       "      <th>3</th>\n",
       "      <th>4</th>\n",
       "      <th>5</th>\n",
       "    </tr>\n",
       "    <tr>\n",
       "      <th>JobLevel</th>\n",
       "      <th></th>\n",
       "      <th></th>\n",
       "      <th></th>\n",
       "      <th></th>\n",
       "      <th></th>\n",
       "    </tr>\n",
       "  </thead>\n",
       "  <tbody>\n",
       "    <tr>\n",
       "      <th>1</th>\n",
       "      <td>231</td>\n",
       "      <td>336</td>\n",
       "      <td>573</td>\n",
       "      <td>438</td>\n",
       "      <td>51</td>\n",
       "    </tr>\n",
       "    <tr>\n",
       "      <th>2</th>\n",
       "      <td>165</td>\n",
       "      <td>288</td>\n",
       "      <td>672</td>\n",
       "      <td>423</td>\n",
       "      <td>54</td>\n",
       "    </tr>\n",
       "    <tr>\n",
       "      <th>3</th>\n",
       "      <td>75</td>\n",
       "      <td>111</td>\n",
       "      <td>270</td>\n",
       "      <td>174</td>\n",
       "      <td>24</td>\n",
       "    </tr>\n",
       "    <tr>\n",
       "      <th>4</th>\n",
       "      <td>21</td>\n",
       "      <td>69</td>\n",
       "      <td>111</td>\n",
       "      <td>108</td>\n",
       "      <td>9</td>\n",
       "    </tr>\n",
       "    <tr>\n",
       "      <th>5</th>\n",
       "      <td>18</td>\n",
       "      <td>42</td>\n",
       "      <td>90</td>\n",
       "      <td>51</td>\n",
       "      <td>6</td>\n",
       "    </tr>\n",
       "  </tbody>\n",
       "</table>\n",
       "</div>"
      ],
      "text/plain": [
       "Education    1    2    3    4   5\n",
       "JobLevel                         \n",
       "1          231  336  573  438  51\n",
       "2          165  288  672  423  54\n",
       "3           75  111  270  174  24\n",
       "4           21   69  111  108   9\n",
       "5           18   42   90   51   6"
      ]
     },
     "execution_count": 39,
     "metadata": {},
     "output_type": "execute_result"
    }
   ],
   "source": [
    "#Job Level and Education\n",
    "chitable = pd.crosstab(df.JobLevel, df.Education)\n",
    "chitable"
   ]
  },
  {
   "cell_type": "code",
   "execution_count": 41,
   "metadata": {
    "ExecuteTime": {
     "end_time": "2020-08-09T23:42:26.956024Z",
     "start_time": "2020-08-09T23:42:26.927887Z"
    }
   },
   "outputs": [
    {
     "name": "stdout",
     "output_type": "stream",
     "text": [
      "46.04496616412888   9.581599790469542e-05\n",
      "We accept our Null Hypothesis\n"
     ]
    }
   ],
   "source": [
    "# Ho -> There is no dependency between JobLevel and Education\n",
    "\n",
    "# Ha -> There is dependency between JobLevel and Education\n",
    "\n",
    "stats, p, dof, expected = chi2_contingency(chitable)\n",
    "print (stats,\" \", p)\n",
    "\n",
    "if (p > 0.05):\n",
    "    print (\"We reject our Null hypothesis and proceed with our Alternate hypothesis\")\n",
    "else:\n",
    "    print (\"We accept our Null Hypothesis\")"
   ]
  },
  {
   "cell_type": "code",
   "execution_count": null,
   "metadata": {},
   "outputs": [],
   "source": []
  }
 ],
 "metadata": {
  "hide_input": false,
  "kernelspec": {
   "display_name": "Python 3",
   "language": "python",
   "name": "python3"
  },
  "language_info": {
   "codemirror_mode": {
    "name": "ipython",
    "version": 3
   },
   "file_extension": ".py",
   "mimetype": "text/x-python",
   "name": "python",
   "nbconvert_exporter": "python",
   "pygments_lexer": "ipython3",
   "version": "3.7.6"
  },
  "toc": {
   "base_numbering": 1,
   "nav_menu": {},
   "number_sections": true,
   "sideBar": true,
   "skip_h1_title": false,
   "title_cell": "Table of Contents",
   "title_sidebar": "Contents",
   "toc_cell": false,
   "toc_position": {},
   "toc_section_display": true,
   "toc_window_display": false
  },
  "varInspector": {
   "cols": {
    "lenName": 16,
    "lenType": 16,
    "lenVar": 40
   },
   "kernels_config": {
    "python": {
     "delete_cmd_postfix": "",
     "delete_cmd_prefix": "del ",
     "library": "var_list.py",
     "varRefreshCmd": "print(var_dic_list())"
    },
    "r": {
     "delete_cmd_postfix": ") ",
     "delete_cmd_prefix": "rm(",
     "library": "var_list.r",
     "varRefreshCmd": "cat(var_dic_list()) "
    }
   },
   "types_to_exclude": [
    "module",
    "function",
    "builtin_function_or_method",
    "instance",
    "_Feature"
   ],
   "window_display": false
  }
 },
 "nbformat": 4,
 "nbformat_minor": 4
}
